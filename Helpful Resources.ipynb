{
 "cells": [
  {
   "cell_type": "markdown",
   "id": "8a7a1c82",
   "metadata": {},
   "source": [
    "# Async HTTP Requests\n",
    "[This](https://www.twilio.com/blog/asynchronous-http-requests-in-python-with-aiohttp) is the best blog post I've found on async HTTP. This code seems to run the fastest.\n",
    "\n",
    "TLDR:\n",
    "```python\n",
    "import aiohttp\n",
    "import asyncio\n",
    "\n",
    "#---------------------------------------------------\n",
    "#Important for jupyter\n",
    "import nest_asyncio\n",
    "nest_asyncio.apply()\n",
    "#---------------------------------------------------\n",
    "\n",
    "async def get_pokemon(session, url):\n",
    "    async with session.get(url) as resp:\n",
    "        pokemon = await resp.json()\n",
    "        return pokemon['name']\n",
    "\n",
    "async def main():\n",
    "    async with aiohttp.ClientSession() as session:\n",
    "        tasks = []\n",
    "        for number in range(1, 151):\n",
    "            url = f'https://pokeapi.co/api/v2/pokemon/{number}'\n",
    "            tasks.append(asyncio.ensure_future(get_pokemon(session, url)))\n",
    "\n",
    "        original_pokemon = await asyncio.gather(*tasks)\n",
    "        for pokemon in original_pokemon:\n",
    "            print(pokemon)\n",
    "\n",
    "```"
   ]
  },
  {
   "cell_type": "code",
   "execution_count": null,
   "id": "300bfdef",
   "metadata": {},
   "outputs": [],
   "source": []
  }
 ],
 "metadata": {
  "kernelspec": {
   "display_name": "Python 3 (ipykernel)",
   "language": "python",
   "name": "python3"
  },
  "language_info": {
   "codemirror_mode": {
    "name": "ipython",
    "version": 3
   },
   "file_extension": ".py",
   "mimetype": "text/x-python",
   "name": "python",
   "nbconvert_exporter": "python",
   "pygments_lexer": "ipython3",
   "version": "3.9.6"
  }
 },
 "nbformat": 4,
 "nbformat_minor": 5
}
