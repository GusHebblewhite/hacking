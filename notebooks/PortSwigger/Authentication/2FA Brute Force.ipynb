{
 "cells": [
  {
   "cell_type": "markdown",
   "id": "60da26be",
   "metadata": {},
   "source": [
    "Lab description can be found here:\n",
    "\n",
    "https://portswigger.net/web-security/authentication/multi-factor/lab-2fa-bypass-using-a-brute-force-attack\n",
    "\n",
    "We know the user credentials: `carlos:montoya`\n",
    "\n",
    "Now we just have to brute force the 4 digit MFA code.\n",
    "\n",
    "We can assume that we will be automatically logged out if we enter too many incorrect codes. Thus we need to examine how this works, and possibly just keep logging in until the code equals some value."
   ]
  },
  {
   "cell_type": "code",
   "execution_count": null,
   "id": "773ca247",
   "metadata": {},
   "outputs": [],
   "source": [
    "import aiohttp\n",
    "import asyncio"
   ]
  },
  {
   "cell_type": "code",
   "execution_count": null,
   "id": "51fa53dc",
   "metadata": {},
   "outputs": [],
   "source": [
    "async def fetch():"
   ]
  }
 ],
 "metadata": {
  "kernelspec": {
   "display_name": "Python 3 (ipykernel)",
   "language": "python",
   "name": "python3"
  },
  "language_info": {
   "codemirror_mode": {
    "name": "ipython",
    "version": 3
   },
   "file_extension": ".py",
   "mimetype": "text/x-python",
   "name": "python",
   "nbconvert_exporter": "python",
   "pygments_lexer": "ipython3",
   "version": "3.9.6"
  }
 },
 "nbformat": 4,
 "nbformat_minor": 5
}
