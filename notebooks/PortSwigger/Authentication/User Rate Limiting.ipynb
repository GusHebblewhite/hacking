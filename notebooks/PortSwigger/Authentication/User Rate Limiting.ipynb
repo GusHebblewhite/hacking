{
 "cells": [
  {
   "cell_type": "markdown",
   "id": "8d2b2764",
   "metadata": {},
   "source": [
    "# Broken Brute Force - Multiple Credentials Per Request\n",
    "https://portswigger.net/web-security/authentication/password-based/lab-broken-brute-force-protection-multiple-credentials-per-request"
   ]
  },
  {
   "cell_type": "code",
   "execution_count": 1,
   "id": "1fffc798",
   "metadata": {},
   "outputs": [],
   "source": [
    "URL = \"https://ac4b1fe41fada041c0ea286a00c0009e.web-security-academy.net/login\"\n",
    "\n"
   ]
  },
  {
   "cell_type": "code",
   "execution_count": null,
   "id": "d80703f2",
   "metadata": {},
   "outputs": [],
   "source": []
  }
 ],
 "metadata": {
  "kernelspec": {
   "display_name": "Python 3 (ipykernel)",
   "language": "python",
   "name": "python3"
  },
  "language_info": {
   "codemirror_mode": {
    "name": "ipython",
    "version": 3
   },
   "file_extension": ".py",
   "mimetype": "text/x-python",
   "name": "python",
   "nbconvert_exporter": "python",
   "pygments_lexer": "ipython3",
   "version": "3.9.6"
  }
 },
 "nbformat": 4,
 "nbformat_minor": 5
}
